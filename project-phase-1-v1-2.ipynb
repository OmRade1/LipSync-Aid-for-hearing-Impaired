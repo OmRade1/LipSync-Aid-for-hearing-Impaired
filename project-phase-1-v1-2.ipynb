{
 "cells": [
  {
   "cell_type": "markdown",
   "metadata": {
    "tags": []
   },
   "source": [
    "# 0. Install and Import Dependencies"
   ]
  },
  {
   "cell_type": "code",
   "execution_count": null,
   "metadata": {
    "execution": {
     "iopub.execute_input": "2023-11-04T20:00:19.579320Z",
     "iopub.status.busy": "2023-11-04T20:00:19.578487Z",
     "iopub.status.idle": "2023-11-04T20:00:19.584264Z",
     "shell.execute_reply": "2023-11-04T20:00:19.583411Z",
     "shell.execute_reply.started": "2023-11-04T20:00:19.579285Z"
    },
    "scrolled": true,
    "tags": [],
    "trusted": true
   },
   "outputs": [],
   "source": [
    "%pip list"
   ]
  },
  {
   "cell_type": "code",
   "execution_count": 2,
   "metadata": {
    "execution": {
     "iopub.execute_input": "2023-11-04T20:00:19.586196Z",
     "iopub.status.busy": "2023-11-04T20:00:19.585946Z",
     "iopub.status.idle": "2023-11-04T20:00:31.620285Z",
     "shell.execute_reply": "2023-11-04T20:00:31.619227Z",
     "shell.execute_reply.started": "2023-11-04T20:00:19.586174Z"
    },
    "tags": [],
    "trusted": true
   },
   "outputs": [
    {
     "name": "stdout",
     "output_type": "stream",
     "text": [
      "Defaulting to user installation because normal site-packages is not writeable\n",
      "Requirement already satisfied: opencv-python in c:\\users\\kiit\\appdata\\roaming\\python\\python310\\site-packages (4.11.0.86)\n",
      "Requirement already satisfied: matplotlib in c:\\users\\kiit\\appdata\\roaming\\python\\python310\\site-packages (3.10.1)\n",
      "Requirement already satisfied: imageio in c:\\users\\kiit\\appdata\\roaming\\python\\python310\\site-packages (2.37.0)\n",
      "Requirement already satisfied: gdown in c:\\users\\kiit\\appdata\\roaming\\python\\python310\\site-packages (5.2.0)\n",
      "Requirement already satisfied: tensorflow in c:\\users\\kiit\\appdata\\roaming\\python\\python310\\site-packages (2.12.0)\n",
      "Requirement already satisfied: numpy>=1.21.2 in c:\\users\\kiit\\appdata\\roaming\\python\\python310\\site-packages (from opencv-python) (1.23.5)\n",
      "Requirement already satisfied: contourpy>=1.0.1 in c:\\users\\kiit\\appdata\\roaming\\python\\python310\\site-packages (from matplotlib) (1.3.1)\n",
      "Requirement already satisfied: cycler>=0.10 in c:\\users\\kiit\\appdata\\roaming\\python\\python310\\site-packages (from matplotlib) (0.12.1)\n",
      "Requirement already satisfied: fonttools>=4.22.0 in c:\\users\\kiit\\appdata\\roaming\\python\\python310\\site-packages (from matplotlib) (4.57.0)\n",
      "Requirement already satisfied: kiwisolver>=1.3.1 in c:\\users\\kiit\\appdata\\roaming\\python\\python310\\site-packages (from matplotlib) (1.4.8)\n",
      "Requirement already satisfied: packaging>=20.0 in c:\\users\\kiit\\appdata\\roaming\\python\\python310\\site-packages (from matplotlib) (24.2)\n",
      "Requirement already satisfied: pillow>=8 in c:\\users\\kiit\\appdata\\roaming\\python\\python310\\site-packages (from matplotlib) (11.1.0)\n",
      "Requirement already satisfied: pyparsing>=2.3.1 in c:\\users\\kiit\\appdata\\roaming\\python\\python310\\site-packages (from matplotlib) (3.2.3)\n",
      "Requirement already satisfied: python-dateutil>=2.7 in c:\\users\\kiit\\appdata\\roaming\\python\\python310\\site-packages (from matplotlib) (2.9.0.post0)\n",
      "Requirement already satisfied: beautifulsoup4 in c:\\users\\kiit\\appdata\\roaming\\python\\python310\\site-packages (from gdown) (4.13.3)\n",
      "Requirement already satisfied: filelock in c:\\users\\kiit\\appdata\\roaming\\python\\python310\\site-packages (from gdown) (3.18.0)\n",
      "Requirement already satisfied: requests[socks] in c:\\users\\kiit\\appdata\\roaming\\python\\python310\\site-packages (from gdown) (2.32.3)\n",
      "Requirement already satisfied: tqdm in c:\\users\\kiit\\appdata\\roaming\\python\\python310\\site-packages (from gdown) (4.67.1)\n",
      "Requirement already satisfied: tensorflow-intel==2.12.0 in c:\\users\\kiit\\appdata\\roaming\\python\\python310\\site-packages (from tensorflow) (2.12.0)\n",
      "Requirement already satisfied: absl-py>=1.0.0 in c:\\users\\kiit\\appdata\\roaming\\python\\python310\\site-packages (from tensorflow-intel==2.12.0->tensorflow) (1.4.0)\n",
      "Requirement already satisfied: astunparse>=1.6.0 in c:\\users\\kiit\\appdata\\roaming\\python\\python310\\site-packages (from tensorflow-intel==2.12.0->tensorflow) (1.6.3)\n",
      "Requirement already satisfied: flatbuffers>=2.0 in c:\\users\\kiit\\appdata\\roaming\\python\\python310\\site-packages (from tensorflow-intel==2.12.0->tensorflow) (25.2.10)\n",
      "Requirement already satisfied: gast<=0.4.0,>=0.2.1 in c:\\users\\kiit\\appdata\\roaming\\python\\python310\\site-packages (from tensorflow-intel==2.12.0->tensorflow) (0.4.0)\n",
      "Requirement already satisfied: google-pasta>=0.1.1 in c:\\users\\kiit\\appdata\\roaming\\python\\python310\\site-packages (from tensorflow-intel==2.12.0->tensorflow) (0.2.0)\n",
      "Requirement already satisfied: h5py>=2.9.0 in c:\\users\\kiit\\appdata\\roaming\\python\\python310\\site-packages (from tensorflow-intel==2.12.0->tensorflow) (3.13.0)\n",
      "Requirement already satisfied: jax>=0.3.15 in c:\\users\\kiit\\appdata\\roaming\\python\\python310\\site-packages (from tensorflow-intel==2.12.0->tensorflow) (0.4.30)\n",
      "Requirement already satisfied: libclang>=13.0.0 in c:\\users\\kiit\\appdata\\roaming\\python\\python310\\site-packages (from tensorflow-intel==2.12.0->tensorflow) (18.1.1)\n",
      "Requirement already satisfied: opt-einsum>=2.3.2 in c:\\users\\kiit\\appdata\\roaming\\python\\python310\\site-packages (from tensorflow-intel==2.12.0->tensorflow) (3.4.0)\n",
      "Requirement already satisfied: protobuf!=4.21.0,!=4.21.1,!=4.21.2,!=4.21.3,!=4.21.4,!=4.21.5,<5.0.0dev,>=3.20.3 in c:\\users\\kiit\\appdata\\roaming\\python\\python310\\site-packages (from tensorflow-intel==2.12.0->tensorflow) (4.25.6)\n",
      "Requirement already satisfied: setuptools in c:\\program files\\python310\\lib\\site-packages (from tensorflow-intel==2.12.0->tensorflow) (57.4.0)\n",
      "Requirement already satisfied: six>=1.12.0 in c:\\users\\kiit\\appdata\\roaming\\python\\python310\\site-packages (from tensorflow-intel==2.12.0->tensorflow) (1.17.0)\n",
      "Requirement already satisfied: termcolor>=1.1.0 in c:\\users\\kiit\\appdata\\roaming\\python\\python310\\site-packages (from tensorflow-intel==2.12.0->tensorflow) (3.0.1)\n",
      "Requirement already satisfied: typing-extensions>=3.6.6 in c:\\users\\kiit\\appdata\\roaming\\python\\python310\\site-packages (from tensorflow-intel==2.12.0->tensorflow) (4.13.1)\n",
      "Requirement already satisfied: wrapt<1.15,>=1.11.0 in c:\\users\\kiit\\appdata\\roaming\\python\\python310\\site-packages (from tensorflow-intel==2.12.0->tensorflow) (1.14.1)\n",
      "Requirement already satisfied: grpcio<2.0,>=1.24.3 in c:\\users\\kiit\\appdata\\roaming\\python\\python310\\site-packages (from tensorflow-intel==2.12.0->tensorflow) (1.71.0)\n",
      "Requirement already satisfied: tensorboard<2.13,>=2.12 in c:\\users\\kiit\\appdata\\roaming\\python\\python310\\site-packages (from tensorflow-intel==2.12.0->tensorflow) (2.12.3)\n",
      "Requirement already satisfied: tensorflow-estimator<2.13,>=2.12.0 in c:\\users\\kiit\\appdata\\roaming\\python\\python310\\site-packages (from tensorflow-intel==2.12.0->tensorflow) (2.12.0)\n",
      "Requirement already satisfied: keras<2.13,>=2.12.0 in c:\\users\\kiit\\appdata\\roaming\\python\\python310\\site-packages (from tensorflow-intel==2.12.0->tensorflow) (2.12.0)\n",
      "Requirement already satisfied: tensorflow-io-gcs-filesystem>=0.23.1 in c:\\users\\kiit\\appdata\\roaming\\python\\python310\\site-packages (from tensorflow-intel==2.12.0->tensorflow) (0.31.0)\n",
      "Requirement already satisfied: soupsieve>1.2 in c:\\users\\kiit\\appdata\\roaming\\python\\python310\\site-packages (from beautifulsoup4->gdown) (2.6)\n",
      "Requirement already satisfied: charset-normalizer<4,>=2 in c:\\users\\kiit\\appdata\\roaming\\python\\python310\\site-packages (from requests[socks]->gdown) (3.4.1)\n",
      "Requirement already satisfied: idna<4,>=2.5 in c:\\users\\kiit\\appdata\\roaming\\python\\python310\\site-packages (from requests[socks]->gdown) (3.10)\n",
      "Requirement already satisfied: urllib3<3,>=1.21.1 in c:\\users\\kiit\\appdata\\roaming\\python\\python310\\site-packages (from requests[socks]->gdown) (2.3.0)\n",
      "Requirement already satisfied: certifi>=2017.4.17 in c:\\users\\kiit\\appdata\\roaming\\python\\python310\\site-packages (from requests[socks]->gdown) (2025.1.31)\n",
      "Requirement already satisfied: PySocks!=1.5.7,>=1.5.6 in c:\\users\\kiit\\appdata\\roaming\\python\\python310\\site-packages (from requests[socks]->gdown) (1.7.1)\n",
      "Requirement already satisfied: colorama in c:\\users\\kiit\\appdata\\roaming\\python\\python310\\site-packages (from tqdm->gdown) (0.4.6)\n",
      "Requirement already satisfied: wheel<1.0,>=0.23.0 in c:\\users\\kiit\\appdata\\roaming\\python\\python310\\site-packages (from astunparse>=1.6.0->tensorflow-intel==2.12.0->tensorflow) (0.45.1)\n",
      "Requirement already satisfied: jaxlib<=0.4.30,>=0.4.27 in c:\\users\\kiit\\appdata\\roaming\\python\\python310\\site-packages (from jax>=0.3.15->tensorflow-intel==2.12.0->tensorflow) (0.4.30)\n",
      "Requirement already satisfied: ml-dtypes>=0.2.0 in c:\\users\\kiit\\appdata\\roaming\\python\\python310\\site-packages (from jax>=0.3.15->tensorflow-intel==2.12.0->tensorflow) (0.5.1)\n",
      "Requirement already satisfied: scipy>=1.9 in c:\\users\\kiit\\appdata\\roaming\\python\\python310\\site-packages (from jax>=0.3.15->tensorflow-intel==2.12.0->tensorflow) (1.15.2)\n",
      "Requirement already satisfied: google-auth<3,>=1.6.3 in c:\\users\\kiit\\appdata\\roaming\\python\\python310\\site-packages (from tensorboard<2.13,>=2.12->tensorflow-intel==2.12.0->tensorflow) (2.28.2)\n",
      "Requirement already satisfied: google-auth-oauthlib<1.1,>=0.5 in c:\\users\\kiit\\appdata\\roaming\\python\\python310\\site-packages (from tensorboard<2.13,>=2.12->tensorflow-intel==2.12.0->tensorflow) (1.0.0)\n",
      "Requirement already satisfied: markdown>=2.6.8 in c:\\users\\kiit\\appdata\\roaming\\python\\python310\\site-packages (from tensorboard<2.13,>=2.12->tensorflow-intel==2.12.0->tensorflow) (3.7)\n",
      "Requirement already satisfied: tensorboard-data-server<0.8.0,>=0.7.0 in c:\\users\\kiit\\appdata\\roaming\\python\\python310\\site-packages (from tensorboard<2.13,>=2.12->tensorflow-intel==2.12.0->tensorflow) (0.7.2)\n",
      "Requirement already satisfied: werkzeug>=1.0.1 in c:\\users\\kiit\\appdata\\roaming\\python\\python310\\site-packages (from tensorboard<2.13,>=2.12->tensorflow-intel==2.12.0->tensorflow) (3.1.3)\n",
      "Requirement already satisfied: cachetools<6.0,>=2.0.0 in c:\\users\\kiit\\appdata\\roaming\\python\\python310\\site-packages (from google-auth<3,>=1.6.3->tensorboard<2.13,>=2.12->tensorflow-intel==2.12.0->tensorflow) (5.5.2)\n",
      "Requirement already satisfied: pyasn1-modules>=0.2.1 in c:\\users\\kiit\\appdata\\roaming\\python\\python310\\site-packages (from google-auth<3,>=1.6.3->tensorboard<2.13,>=2.12->tensorflow-intel==2.12.0->tensorflow) (0.4.2)\n",
      "Requirement already satisfied: rsa<5,>=3.1.4 in c:\\users\\kiit\\appdata\\roaming\\python\\python310\\site-packages (from google-auth<3,>=1.6.3->tensorboard<2.13,>=2.12->tensorflow-intel==2.12.0->tensorflow) (4.9)\n",
      "Requirement already satisfied: requests-oauthlib>=0.7.0 in c:\\users\\kiit\\appdata\\roaming\\python\\python310\\site-packages (from google-auth-oauthlib<1.1,>=0.5->tensorboard<2.13,>=2.12->tensorflow-intel==2.12.0->tensorflow) (2.0.0)\n",
      "Requirement already satisfied: MarkupSafe>=2.1.1 in c:\\users\\kiit\\appdata\\roaming\\python\\python310\\site-packages (from werkzeug>=1.0.1->tensorboard<2.13,>=2.12->tensorflow-intel==2.12.0->tensorflow) (3.0.2)\n",
      "Requirement already satisfied: pyasn1<0.7.0,>=0.6.1 in c:\\users\\kiit\\appdata\\roaming\\python\\python310\\site-packages (from pyasn1-modules>=0.2.1->google-auth<3,>=1.6.3->tensorboard<2.13,>=2.12->tensorflow-intel==2.12.0->tensorflow) (0.6.1)\n",
      "Requirement already satisfied: oauthlib>=3.0.0 in c:\\users\\kiit\\appdata\\roaming\\python\\python310\\site-packages (from requests-oauthlib>=0.7.0->google-auth-oauthlib<1.1,>=0.5->tensorboard<2.13,>=2.12->tensorflow-intel==2.12.0->tensorflow) (3.2.2)\n",
      "Note: you may need to restart the kernel to use updated packages.\n"
     ]
    }
   ],
   "source": [
    "%pip install opencv-python matplotlib imageio gdown tensorflow"
   ]
  },
  {
   "cell_type": "code",
   "execution_count": 3,
   "metadata": {
    "execution": {
     "iopub.execute_input": "2023-11-04T20:00:31.621851Z",
     "iopub.status.busy": "2023-11-04T20:00:31.621563Z",
     "iopub.status.idle": "2023-11-04T20:00:35.167577Z",
     "shell.execute_reply": "2023-11-04T20:00:35.166208Z",
     "shell.execute_reply.started": "2023-11-04T20:00:31.621827Z"
    },
    "tags": [],
    "trusted": true
   },
   "outputs": [],
   "source": [
    "import os\n",
    "import cv2\n",
    "import tensorflow as tf\n",
    "import numpy as np\n",
    "from typing import List\n",
    "from matplotlib import pyplot as plt\n"
   ]
  },
  {
   "cell_type": "code",
   "execution_count": 4,
   "metadata": {
    "execution": {
     "iopub.execute_input": "2023-11-04T20:00:35.170794Z",
     "iopub.status.busy": "2023-11-04T20:00:35.169573Z",
     "iopub.status.idle": "2023-11-04T20:00:35.205446Z",
     "shell.execute_reply": "2023-11-04T20:00:35.204769Z",
     "shell.execute_reply.started": "2023-11-04T20:00:35.170724Z"
    },
    "trusted": true
   },
   "outputs": [],
   "source": [
    "import imageio"
   ]
  },
  {
   "cell_type": "code",
   "execution_count": 5,
   "metadata": {
    "execution": {
     "iopub.execute_input": "2023-11-04T20:00:35.209060Z",
     "iopub.status.busy": "2023-11-04T20:00:35.208811Z",
     "iopub.status.idle": "2023-11-04T20:00:35.282538Z",
     "shell.execute_reply": "2023-11-04T20:00:35.281580Z",
     "shell.execute_reply.started": "2023-11-04T20:00:35.209039Z"
    },
    "trusted": true
   },
   "outputs": [
    {
     "data": {
      "text/plain": [
       "[]"
      ]
     },
     "execution_count": 5,
     "metadata": {},
     "output_type": "execute_result"
    }
   ],
   "source": [
    "tf.config.list_physical_devices('GPU')"
   ]
  },
  {
   "cell_type": "code",
   "execution_count": 6,
   "metadata": {
    "execution": {
     "iopub.execute_input": "2023-11-04T20:00:35.284357Z",
     "iopub.status.busy": "2023-11-04T20:00:35.283924Z",
     "iopub.status.idle": "2023-11-04T20:00:35.292408Z",
     "shell.execute_reply": "2023-11-04T20:00:35.291489Z",
     "shell.execute_reply.started": "2023-11-04T20:00:35.284323Z"
    },
    "tags": [],
    "trusted": true
   },
   "outputs": [],
   "source": [
    "physical_devices = tf.config.list_physical_devices('GPU')\n",
    "try:\n",
    "    tf.config.experimental.set_memory_growth(physical_devices[0], True)\n",
    "except:\n",
    "    pass"
   ]
  },
  {
   "cell_type": "markdown",
   "metadata": {
    "tags": []
   },
   "source": [
    "# 1. Build Data Loading Functions"
   ]
  },
  {
   "cell_type": "code",
   "execution_count": 7,
   "metadata": {
    "execution": {
     "iopub.execute_input": "2023-11-04T20:00:35.294315Z",
     "iopub.status.busy": "2023-11-04T20:00:35.294033Z",
     "iopub.status.idle": "2023-11-04T20:00:35.419842Z",
     "shell.execute_reply": "2023-11-04T20:00:35.419068Z",
     "shell.execute_reply.started": "2023-11-04T20:00:35.294283Z"
    },
    "tags": [],
    "trusted": true
   },
   "outputs": [],
   "source": [
    "import gdown"
   ]
  },
  {
   "cell_type": "code",
   "execution_count": 8,
   "metadata": {
    "execution": {
     "iopub.execute_input": "2023-11-04T20:00:35.421406Z",
     "iopub.status.busy": "2023-11-04T20:00:35.420909Z",
     "iopub.status.idle": "2023-11-04T20:00:45.232065Z",
     "shell.execute_reply": "2023-11-04T20:00:45.231152Z",
     "shell.execute_reply.started": "2023-11-04T20:00:35.421379Z"
    },
    "tags": [],
    "trusted": true
   },
   "outputs": [
    {
     "name": "stderr",
     "output_type": "stream",
     "text": [
      "Downloading...\n",
      "From (original): https://drive.google.com/uc?id=1YlvpDLix3S-U8fd-gqRwPcWXAXm8JwjL\n",
      "From (redirected): https://drive.google.com/uc?id=1YlvpDLix3S-U8fd-gqRwPcWXAXm8JwjL&confirm=t&uuid=9e2a5473-ca25-45c5-85e4-f84b1c6bb422\n",
      "To: c:\\Users\\KIIT\\OneDrive\\Desktop\\python\\LIP_READING\\data.zip\n",
      "100%|██████████| 423M/423M [00:28<00:00, 14.7MB/s] \n"
     ]
    },
    {
     "data": {
      "text/plain": [
       "['data/',\n",
       " 'data/alignments/',\n",
       " 'data/alignments/s1/',\n",
       " 'data/alignments/s1/bbaf2n.align',\n",
       " 'data/alignments/s1/bbaf3s.align',\n",
       " 'data/alignments/s1/bbaf4p.align',\n",
       " 'data/alignments/s1/bbaf5a.align',\n",
       " 'data/alignments/s1/bbal6n.align',\n",
       " 'data/alignments/s1/bbal7s.align',\n",
       " 'data/alignments/s1/bbal8p.align',\n",
       " 'data/alignments/s1/bbal9a.align',\n",
       " 'data/alignments/s1/bbas1s.align',\n",
       " 'data/alignments/s1/bbas2p.align',\n",
       " 'data/alignments/s1/bbas3a.align',\n",
       " 'data/alignments/s1/bbaszn.align',\n",
       " 'data/alignments/s1/bbaz4n.align',\n",
       " 'data/alignments/s1/bbaz5s.align',\n",
       " 'data/alignments/s1/bbaz6p.align',\n",
       " 'data/alignments/s1/bbaz7a.align',\n",
       " 'data/alignments/s1/bbbf6n.align',\n",
       " 'data/alignments/s1/bbbf7s.align',\n",
       " 'data/alignments/s1/bbbf8p.align',\n",
       " 'data/alignments/s1/bbbf9a.align',\n",
       " 'data/alignments/s1/bbbm1s.align',\n",
       " 'data/alignments/s1/bbbm2p.align',\n",
       " 'data/alignments/s1/bbbm3a.align',\n",
       " 'data/alignments/s1/bbbmzn.align',\n",
       " 'data/alignments/s1/bbbs4n.align',\n",
       " 'data/alignments/s1/bbbs5s.align',\n",
       " 'data/alignments/s1/bbbs6p.align',\n",
       " 'data/alignments/s1/bbbs7a.align',\n",
       " 'data/alignments/s1/bbbz8n.align',\n",
       " 'data/alignments/s1/bbbz9s.align',\n",
       " 'data/alignments/s1/bbie8n.align',\n",
       " 'data/alignments/s1/bbie9s.align',\n",
       " 'data/alignments/s1/bbif1a.align',\n",
       " 'data/alignments/s1/bbifzp.align',\n",
       " 'data/alignments/s1/bbil2n.align',\n",
       " 'data/alignments/s1/bbil3s.align',\n",
       " 'data/alignments/s1/bbil4p.align',\n",
       " 'data/alignments/s1/bbil5a.align',\n",
       " 'data/alignments/s1/bbir6n.align',\n",
       " 'data/alignments/s1/bbir7s.align',\n",
       " 'data/alignments/s1/bbir8p.align',\n",
       " 'data/alignments/s1/bbir9a.align',\n",
       " 'data/alignments/s1/bbiz1s.align',\n",
       " 'data/alignments/s1/bbiz2p.align',\n",
       " 'data/alignments/s1/bbiz3a.align',\n",
       " 'data/alignments/s1/bbizzn.align',\n",
       " 'data/alignments/s1/bbwg1s.align',\n",
       " 'data/alignments/s1/bbwg2p.align',\n",
       " 'data/alignments/s1/bbwg3a.align',\n",
       " 'data/alignments/s1/bbwgzn.align',\n",
       " 'data/alignments/s1/bbwm4n.align',\n",
       " 'data/alignments/s1/bbwm5s.align',\n",
       " 'data/alignments/s1/bbwm6p.align',\n",
       " 'data/alignments/s1/bbwm7a.align',\n",
       " 'data/alignments/s1/bbws8n.align',\n",
       " 'data/alignments/s1/bbws9s.align',\n",
       " 'data/alignments/s1/bbwt1a.align',\n",
       " 'data/alignments/s1/bbwtzp.align',\n",
       " 'data/alignments/s1/bgaa6n.align',\n",
       " 'data/alignments/s1/bgaa7s.align',\n",
       " 'data/alignments/s1/bgaa8p.align',\n",
       " 'data/alignments/s1/bgaa9a.align',\n",
       " 'data/alignments/s1/bgah1s.align',\n",
       " 'data/alignments/s1/bgah2p.align',\n",
       " 'data/alignments/s1/bgah3a.align',\n",
       " 'data/alignments/s1/bgahzn.align',\n",
       " 'data/alignments/s1/bgan4n.align',\n",
       " 'data/alignments/s1/bgan5s.align',\n",
       " 'data/alignments/s1/bgan6p.align',\n",
       " 'data/alignments/s1/bgan7a.align',\n",
       " 'data/alignments/s1/bgat8n.align',\n",
       " 'data/alignments/s1/bgat9s.align',\n",
       " 'data/alignments/s1/bgau1a.align',\n",
       " 'data/alignments/s1/bgauzp.align',\n",
       " 'data/alignments/s1/bgbb1s.align',\n",
       " 'data/alignments/s1/bgbb2p.align',\n",
       " 'data/alignments/s1/bgbb3a.align',\n",
       " 'data/alignments/s1/bgbbzn.align',\n",
       " 'data/alignments/s1/bgbh4n.align',\n",
       " 'data/alignments/s1/bgbh5s.align',\n",
       " 'data/alignments/s1/bgbh6p.align',\n",
       " 'data/alignments/s1/bgbh7a.align',\n",
       " 'data/alignments/s1/bgbn8n.align',\n",
       " 'data/alignments/s1/bgbn9s.align',\n",
       " 'data/alignments/s1/bgbo1a.align',\n",
       " 'data/alignments/s1/bgbozp.align',\n",
       " 'data/alignments/s1/bgbu2n.align',\n",
       " 'data/alignments/s1/bgbu3s.align',\n",
       " 'data/alignments/s1/bgbu4p.align',\n",
       " 'data/alignments/s1/bgbu5a.align',\n",
       " 'data/alignments/s1/bgia2n.align',\n",
       " 'data/alignments/s1/bgia3s.align',\n",
       " 'data/alignments/s1/bgia4p.align',\n",
       " 'data/alignments/s1/bgia5a.align',\n",
       " 'data/alignments/s1/bgig6n.align',\n",
       " 'data/alignments/s1/bgig7s.align',\n",
       " 'data/alignments/s1/bgig8p.align',\n",
       " 'data/alignments/s1/bgig9a.align',\n",
       " 'data/alignments/s1/bgin1s.align',\n",
       " 'data/alignments/s1/bgin2p.align',\n",
       " 'data/alignments/s1/bgin3a.align',\n",
       " 'data/alignments/s1/bginzn.align',\n",
       " 'data/alignments/s1/bgit4n.align',\n",
       " 'data/alignments/s1/bgit5s.align',\n",
       " 'data/alignments/s1/bgit6p.align',\n",
       " 'data/alignments/s1/bgit7a.align',\n",
       " 'data/alignments/s1/bgwb4n.align',\n",
       " 'data/alignments/s1/bgwb5s.align',\n",
       " 'data/alignments/s1/bgwb6p.align',\n",
       " 'data/alignments/s1/bgwb7a.align',\n",
       " 'data/alignments/s1/bgwh8n.align',\n",
       " 'data/alignments/s1/bgwh9s.align',\n",
       " 'data/alignments/s1/bgwi1a.align',\n",
       " 'data/alignments/s1/bgwizp.align',\n",
       " 'data/alignments/s1/bgwo2n.align',\n",
       " 'data/alignments/s1/bgwo3s.align',\n",
       " 'data/alignments/s1/bgwo4p.align',\n",
       " 'data/alignments/s1/bgwo5a.align',\n",
       " 'data/alignments/s1/bgwu6n.align',\n",
       " 'data/alignments/s1/bgwu7s.align',\n",
       " 'data/alignments/s1/bgwu8p.align',\n",
       " 'data/alignments/s1/bgwu9a.align',\n",
       " 'data/alignments/s1/braf8n.align',\n",
       " 'data/alignments/s1/braf9s.align',\n",
       " 'data/alignments/s1/brag1a.align',\n",
       " 'data/alignments/s1/bragzp.align',\n",
       " 'data/alignments/s1/bram2n.align',\n",
       " 'data/alignments/s1/bram3s.align',\n",
       " 'data/alignments/s1/bram4p.align',\n",
       " 'data/alignments/s1/bram5a.align',\n",
       " 'data/alignments/s1/bras6n.align',\n",
       " 'data/alignments/s1/bras7s.align',\n",
       " 'data/alignments/s1/bras8p.align',\n",
       " 'data/alignments/s1/bras9a.align',\n",
       " 'data/alignments/s1/brba1a.align',\n",
       " 'data/alignments/s1/brbazp.align',\n",
       " 'data/alignments/s1/brbg2n.align',\n",
       " 'data/alignments/s1/brbg3s.align',\n",
       " 'data/alignments/s1/brbg4p.align',\n",
       " 'data/alignments/s1/brbg5a.align',\n",
       " 'data/alignments/s1/brbm6n.align',\n",
       " 'data/alignments/s1/brbm7s.align',\n",
       " 'data/alignments/s1/brbm8p.align',\n",
       " 'data/alignments/s1/brbm9a.align',\n",
       " 'data/alignments/s1/brbt1s.align',\n",
       " 'data/alignments/s1/brbt2p.align',\n",
       " 'data/alignments/s1/brbt3a.align',\n",
       " 'data/alignments/s1/brbtzn.align',\n",
       " 'data/alignments/s1/brif4n.align',\n",
       " 'data/alignments/s1/brif5s.align',\n",
       " 'data/alignments/s1/brif6p.align',\n",
       " 'data/alignments/s1/brif7a.align',\n",
       " 'data/alignments/s1/bril8n.align',\n",
       " 'data/alignments/s1/bril9s.align',\n",
       " 'data/alignments/s1/brim1a.align',\n",
       " 'data/alignments/s1/brimzp.align',\n",
       " 'data/alignments/s1/bris2n.align',\n",
       " 'data/alignments/s1/bris3s.align',\n",
       " 'data/alignments/s1/bris4p.align',\n",
       " 'data/alignments/s1/bris5a.align',\n",
       " 'data/alignments/s1/briz6n.align',\n",
       " 'data/alignments/s1/briz7s.align',\n",
       " 'data/alignments/s1/briz8p.align',\n",
       " 'data/alignments/s1/briz9a.align',\n",
       " 'data/alignments/s1/brwa2n.align',\n",
       " 'data/alignments/s1/brwa3s.align',\n",
       " 'data/alignments/s1/brwa4p.align',\n",
       " 'data/alignments/s1/brwa5a.align',\n",
       " 'data/alignments/s1/brwg6n.align',\n",
       " 'data/alignments/s1/brwg7s.align',\n",
       " 'data/alignments/s1/brwg8p.align',\n",
       " 'data/alignments/s1/brwg9a.align',\n",
       " 'data/alignments/s1/brwn1s.align',\n",
       " 'data/alignments/s1/brwn2p.align',\n",
       " 'data/alignments/s1/brwn3a.align',\n",
       " 'data/alignments/s1/brwnzn.align',\n",
       " 'data/alignments/s1/brwt4n.align',\n",
       " 'data/alignments/s1/brwt5s.align',\n",
       " 'data/alignments/s1/brwt6p.align',\n",
       " 'data/alignments/s1/brwt7a.align',\n",
       " 'data/alignments/s1/bwaa1s.align',\n",
       " 'data/alignments/s1/bwaa2p.align',\n",
       " 'data/alignments/s1/bwaa3a.align',\n",
       " 'data/alignments/s1/bwaazn.align',\n",
       " 'data/alignments/s1/bwag4n.align',\n",
       " 'data/alignments/s1/bwag5s.align',\n",
       " 'data/alignments/s1/bwag6p.align',\n",
       " 'data/alignments/s1/bwag7a.align',\n",
       " 'data/alignments/s1/bwam8n.align',\n",
       " 'data/alignments/s1/bwam9s.align',\n",
       " 'data/alignments/s1/bwan1a.align',\n",
       " 'data/alignments/s1/bwanzp.align',\n",
       " 'data/alignments/s1/bwat2n.align',\n",
       " 'data/alignments/s1/bwat3s.align',\n",
       " 'data/alignments/s1/bwat4p.align',\n",
       " 'data/alignments/s1/bwat5a.align',\n",
       " 'data/alignments/s1/bwba4n.align',\n",
       " 'data/alignments/s1/bwba5s.align',\n",
       " 'data/alignments/s1/bwba6p.align',\n",
       " 'data/alignments/s1/bwba7a.align',\n",
       " 'data/alignments/s1/bwbg8n.align',\n",
       " 'data/alignments/s1/bwbg9s.align',\n",
       " 'data/alignments/s1/bwbh1a.align',\n",
       " 'data/alignments/s1/bwbhzp.align',\n",
       " 'data/alignments/s1/bwbn2n.align',\n",
       " 'data/alignments/s1/bwbn3s.align',\n",
       " 'data/alignments/s1/bwbn4p.align',\n",
       " 'data/alignments/s1/bwbn5a.align',\n",
       " 'data/alignments/s1/bwbt6n.align',\n",
       " 'data/alignments/s1/bwbt7s.align',\n",
       " 'data/alignments/s1/bwbt8p.align',\n",
       " 'data/alignments/s1/bwbt9a.align',\n",
       " 'data/alignments/s1/bwig1s.align',\n",
       " 'data/alignments/s1/bwig2p.align',\n",
       " 'data/alignments/s1/bwig3a.align',\n",
       " 'data/alignments/s1/bwigzn.align',\n",
       " 'data/alignments/s1/bwim4n.align',\n",
       " 'data/alignments/s1/bwim5s.align',\n",
       " 'data/alignments/s1/bwim6p.align',\n",
       " 'data/alignments/s1/bwim7a.align',\n",
       " 'data/alignments/s1/bwis8n.align',\n",
       " 'data/alignments/s1/bwis9s.align',\n",
       " 'data/alignments/s1/bwit1a.align',\n",
       " 'data/alignments/s1/bwitzp.align',\n",
       " 'data/alignments/s1/bwwa8n.align',\n",
       " 'data/alignments/s1/bwwa9s.align',\n",
       " 'data/alignments/s1/bwwb1a.align',\n",
       " 'data/alignments/s1/bwwbzp.align',\n",
       " 'data/alignments/s1/bwwh2n.align',\n",
       " 'data/alignments/s1/bwwh3s.align',\n",
       " 'data/alignments/s1/bwwh4p.align',\n",
       " 'data/alignments/s1/bwwh5a.align',\n",
       " 'data/alignments/s1/bwwn6n.align',\n",
       " 'data/alignments/s1/bwwn7s.align',\n",
       " 'data/alignments/s1/bwwn8p.align',\n",
       " 'data/alignments/s1/bwwn9a.align',\n",
       " 'data/alignments/s1/bwwu1s.align',\n",
       " 'data/alignments/s1/bwwu2p.align',\n",
       " 'data/alignments/s1/bwwu3a.align',\n",
       " 'data/alignments/s1/bwwuzn.align',\n",
       " 'data/alignments/s1/lbad6n.align',\n",
       " 'data/alignments/s1/lbad7s.align',\n",
       " 'data/alignments/s1/lbad8p.align',\n",
       " 'data/alignments/s1/lbad9a.align',\n",
       " 'data/alignments/s1/lbak1s.align',\n",
       " 'data/alignments/s1/lbak2p.align',\n",
       " 'data/alignments/s1/lbak3a.align',\n",
       " 'data/alignments/s1/lbakzn.align',\n",
       " 'data/alignments/s1/lbaq4n.align',\n",
       " 'data/alignments/s1/lbaq5s.align',\n",
       " 'data/alignments/s1/lbaq6p.align',\n",
       " 'data/alignments/s1/lbaq7a.align',\n",
       " 'data/alignments/s1/lbax8n.align',\n",
       " 'data/alignments/s1/lbax9s.align',\n",
       " 'data/alignments/s1/lbay1a.align',\n",
       " 'data/alignments/s1/lbayzp.align',\n",
       " 'data/alignments/s1/lbbe1s.align',\n",
       " 'data/alignments/s1/lbbe2p.align',\n",
       " 'data/alignments/s1/lbbe3a.align',\n",
       " 'data/alignments/s1/lbbezn.align',\n",
       " 'data/alignments/s1/lbbk4n.align',\n",
       " 'data/alignments/s1/lbbk5s.align',\n",
       " 'data/alignments/s1/lbbk6p.align',\n",
       " 'data/alignments/s1/lbbk7a.align',\n",
       " 'data/alignments/s1/lbbq8n.align',\n",
       " 'data/alignments/s1/lbbq9s.align',\n",
       " 'data/alignments/s1/lbbr1a.align',\n",
       " 'data/alignments/s1/lbbrzp.align',\n",
       " 'data/alignments/s1/lbby2n.align',\n",
       " 'data/alignments/s1/lbby3s.align',\n",
       " 'data/alignments/s1/lbby4p.align',\n",
       " 'data/alignments/s1/lbby5a.align',\n",
       " 'data/alignments/s1/lbid2n.align',\n",
       " 'data/alignments/s1/lbid3s.align',\n",
       " 'data/alignments/s1/lbid4p.align',\n",
       " 'data/alignments/s1/lbid5a.align',\n",
       " 'data/alignments/s1/lbij6n.align',\n",
       " 'data/alignments/s1/lbij7s.align',\n",
       " 'data/alignments/s1/lbij8p.align',\n",
       " 'data/alignments/s1/lbij9a.align',\n",
       " 'data/alignments/s1/lbiq1s.align',\n",
       " 'data/alignments/s1/lbiq2p.align',\n",
       " 'data/alignments/s1/lbiq3a.align',\n",
       " 'data/alignments/s1/lbiqzn.align',\n",
       " 'data/alignments/s1/lbix4n.align',\n",
       " 'data/alignments/s1/lbix5s.align',\n",
       " 'data/alignments/s1/lbix6p.align',\n",
       " 'data/alignments/s1/lbix7a.align',\n",
       " 'data/alignments/s1/lbwe4n.align',\n",
       " 'data/alignments/s1/lbwe5s.align',\n",
       " 'data/alignments/s1/lbwe6p.align',\n",
       " 'data/alignments/s1/lbwe7a.align',\n",
       " 'data/alignments/s1/lbwk8n.align',\n",
       " 'data/alignments/s1/lbwk9s.align',\n",
       " 'data/alignments/s1/lbwl1a.align',\n",
       " 'data/alignments/s1/lbwlzp.align',\n",
       " 'data/alignments/s1/lbwr2n.align',\n",
       " 'data/alignments/s1/lbwr3s.align',\n",
       " 'data/alignments/s1/lbwr4p.align',\n",
       " 'data/alignments/s1/lbwr5a.align',\n",
       " 'data/alignments/s1/lbwy6n.align',\n",
       " 'data/alignments/s1/lbwy7s.align',\n",
       " 'data/alignments/s1/lbwy8p.align',\n",
       " 'data/alignments/s1/lbwy9a.align',\n",
       " 'data/alignments/s1/lgaf4n.align',\n",
       " 'data/alignments/s1/lgaf5s.align',\n",
       " 'data/alignments/s1/lgaf6p.align',\n",
       " 'data/alignments/s1/lgaf7a.align',\n",
       " 'data/alignments/s1/lgal8n.align',\n",
       " 'data/alignments/s1/lgal9s.align',\n",
       " 'data/alignments/s1/lgam1a.align',\n",
       " 'data/alignments/s1/lgamzp.align',\n",
       " 'data/alignments/s1/lgas2n.align',\n",
       " 'data/alignments/s1/lgas3s.align',\n",
       " 'data/alignments/s1/lgas4p.align',\n",
       " 'data/alignments/s1/lgas5a.align',\n",
       " 'data/alignments/s1/lgaz6n.align',\n",
       " 'data/alignments/s1/lgaz7s.align',\n",
       " 'data/alignments/s1/lgaz8p.align',\n",
       " 'data/alignments/s1/lgaz9a.align',\n",
       " 'data/alignments/s1/lgbf8n.align',\n",
       " 'data/alignments/s1/lgbf9s.align',\n",
       " 'data/alignments/s1/lgbg1a.align',\n",
       " 'data/alignments/s1/lgbgzp.align',\n",
       " 'data/alignments/s1/lgbm2n.align',\n",
       " 'data/alignments/s1/lgbm3s.align',\n",
       " 'data/alignments/s1/lgbm4p.align',\n",
       " 'data/alignments/s1/lgbm5a.align',\n",
       " 'data/alignments/s1/lgbs6n.align',\n",
       " 'data/alignments/s1/lgbs7s.align',\n",
       " 'data/alignments/s1/lgbs8p.align',\n",
       " 'data/alignments/s1/lgbs9a.align',\n",
       " 'data/alignments/s1/lgif1s.align',\n",
       " 'data/alignments/s1/lgif2p.align',\n",
       " 'data/alignments/s1/lgif3a.align',\n",
       " 'data/alignments/s1/lgifzn.align',\n",
       " 'data/alignments/s1/lgil4n.align',\n",
       " 'data/alignments/s1/lgil5s.align',\n",
       " 'data/alignments/s1/lgil6p.align',\n",
       " 'data/alignments/s1/lgil7a.align',\n",
       " 'data/alignments/s1/lgir8n.align',\n",
       " 'data/alignments/s1/lgir9s.align',\n",
       " 'data/alignments/s1/lgis1a.align',\n",
       " 'data/alignments/s1/lgiszp.align',\n",
       " 'data/alignments/s1/lgiz2n.align',\n",
       " 'data/alignments/s1/lgiz3s.align',\n",
       " 'data/alignments/s1/lgiz4p.align',\n",
       " 'data/alignments/s1/lgiz5a.align',\n",
       " 'data/alignments/s1/lgwa1a.align',\n",
       " 'data/alignments/s1/lgwazp.align',\n",
       " 'data/alignments/s1/lgwg2n.align',\n",
       " 'data/alignments/s1/lgwg3s.align',\n",
       " 'data/alignments/s1/lgwg4p.align',\n",
       " 'data/alignments/s1/lgwg5a.align',\n",
       " 'data/alignments/s1/lgwm6n.align',\n",
       " 'data/alignments/s1/lgwm7s.align',\n",
       " 'data/alignments/s1/lgwm8p.align',\n",
       " 'data/alignments/s1/lgwm9a.align',\n",
       " 'data/alignments/s1/lgwt1s.align',\n",
       " 'data/alignments/s1/lgwt2p.align',\n",
       " 'data/alignments/s1/lgwt3a.align',\n",
       " 'data/alignments/s1/lgwtzn.align',\n",
       " 'data/alignments/s1/lrae2n.align',\n",
       " 'data/alignments/s1/lrae3s.align',\n",
       " 'data/alignments/s1/lrae4p.align',\n",
       " 'data/alignments/s1/lrae5a.align',\n",
       " 'data/alignments/s1/lrak6n.align',\n",
       " 'data/alignments/s1/lrak7s.align',\n",
       " 'data/alignments/s1/lrak8p.align',\n",
       " 'data/alignments/s1/lrak9a.align',\n",
       " 'data/alignments/s1/lrar1s.align',\n",
       " 'data/alignments/s1/lrar2p.align',\n",
       " 'data/alignments/s1/lrar3a.align',\n",
       " 'data/alignments/s1/lrarzn.align',\n",
       " 'data/alignments/s1/lray4n.align',\n",
       " 'data/alignments/s1/lray5s.align',\n",
       " 'data/alignments/s1/lray6p.align',\n",
       " 'data/alignments/s1/lray7a.align',\n",
       " 'data/alignments/s1/lrbe6n.align',\n",
       " 'data/alignments/s1/lrbe7s.align',\n",
       " 'data/alignments/s1/lrbe8p.align',\n",
       " 'data/alignments/s1/lrbe9a.align',\n",
       " 'data/alignments/s1/lrbl1s.align',\n",
       " 'data/alignments/s1/lrbl2p.align',\n",
       " 'data/alignments/s1/lrbl3a.align',\n",
       " 'data/alignments/s1/lrblzn.align',\n",
       " 'data/alignments/s1/lrbr4n.align',\n",
       " 'data/alignments/s1/lrbr5s.align',\n",
       " 'data/alignments/s1/lrbr6p.align',\n",
       " 'data/alignments/s1/lrbr7a.align',\n",
       " 'data/alignments/s1/lrby8n.align',\n",
       " 'data/alignments/s1/lrby9s.align',\n",
       " 'data/alignments/s1/lrbz1a.align',\n",
       " 'data/alignments/s1/lrbzzp.align',\n",
       " 'data/alignments/s1/lrid8n.align',\n",
       " 'data/alignments/s1/lrid9s.align',\n",
       " 'data/alignments/s1/lrie1a.align',\n",
       " 'data/alignments/s1/lriezp.align',\n",
       " 'data/alignments/s1/lrik2n.align',\n",
       " 'data/alignments/s1/lrik3s.align',\n",
       " 'data/alignments/s1/lrik4p.align',\n",
       " 'data/alignments/s1/lrik5a.align',\n",
       " 'data/alignments/s1/lriq6n.align',\n",
       " 'data/alignments/s1/lriq7s.align',\n",
       " 'data/alignments/s1/lriq8p.align',\n",
       " 'data/alignments/s1/lriq9a.align',\n",
       " 'data/alignments/s1/lriy1s.align',\n",
       " 'data/alignments/s1/lriy2p.align',\n",
       " 'data/alignments/s1/lriy3a.align',\n",
       " 'data/alignments/s1/lriyzn.align',\n",
       " 'data/alignments/s1/lrwf1s.align',\n",
       " 'data/alignments/s1/lrwf2p.align',\n",
       " 'data/alignments/s1/lrwf3a.align',\n",
       " 'data/alignments/s1/lrwfzn.align',\n",
       " 'data/alignments/s1/lrwl4n.align',\n",
       " 'data/alignments/s1/lrwl5s.align',\n",
       " 'data/alignments/s1/lrwl6p.align',\n",
       " 'data/alignments/s1/lrwl7a.align',\n",
       " 'data/alignments/s1/lrwr8n.align',\n",
       " 'data/alignments/s1/lrwr9s.align',\n",
       " 'data/alignments/s1/lrws1a.align',\n",
       " 'data/alignments/s1/lrwszp.align',\n",
       " 'data/alignments/s1/lrwz2n.align',\n",
       " 'data/alignments/s1/lrwz3s.align',\n",
       " 'data/alignments/s1/lrwz4p.align',\n",
       " 'data/alignments/s1/lrwz5a.align',\n",
       " 'data/alignments/s1/lwae8n.align',\n",
       " 'data/alignments/s1/lwae9s.align',\n",
       " 'data/alignments/s1/lwaf1a.align',\n",
       " 'data/alignments/s1/lwafzp.align',\n",
       " 'data/alignments/s1/lwal2n.align',\n",
       " 'data/alignments/s1/lwal3s.align',\n",
       " 'data/alignments/s1/lwal4p.align',\n",
       " 'data/alignments/s1/lwal5a.align',\n",
       " 'data/alignments/s1/lwar6n.align',\n",
       " 'data/alignments/s1/lwar7s.align',\n",
       " 'data/alignments/s1/lwar8p.align',\n",
       " 'data/alignments/s1/lwar9a.align',\n",
       " 'data/alignments/s1/lwaz1s.align',\n",
       " 'data/alignments/s1/lwaz2p.align',\n",
       " 'data/alignments/s1/lwaz3a.align',\n",
       " 'data/alignments/s1/lwazzn.align',\n",
       " 'data/alignments/s1/lwbf2n.align',\n",
       " 'data/alignments/s1/lwbf3s.align',\n",
       " 'data/alignments/s1/lwbf4p.align',\n",
       " 'data/alignments/s1/lwbf5a.align',\n",
       " 'data/alignments/s1/lwbl6n.align',\n",
       " 'data/alignments/s1/lwbl7s.align',\n",
       " 'data/alignments/s1/lwbl8p.align',\n",
       " 'data/alignments/s1/lwbl9a.align',\n",
       " 'data/alignments/s1/lwbs1s.align',\n",
       " 'data/alignments/s1/lwbs2p.align',\n",
       " 'data/alignments/s1/lwbs3a.align',\n",
       " 'data/alignments/s1/lwbszn.align',\n",
       " 'data/alignments/s1/lwbz4n.align',\n",
       " 'data/alignments/s1/lwbz5s.align',\n",
       " 'data/alignments/s1/lwbz6p.align',\n",
       " 'data/alignments/s1/lwbz7a.align',\n",
       " 'data/alignments/s1/lwie4n.align',\n",
       " 'data/alignments/s1/lwie5s.align',\n",
       " 'data/alignments/s1/lwie6p.align',\n",
       " 'data/alignments/s1/lwie7a.align',\n",
       " 'data/alignments/s1/lwik8n.align',\n",
       " 'data/alignments/s1/lwik9s.align',\n",
       " 'data/alignments/s1/lwil1a.align',\n",
       " 'data/alignments/s1/lwilzp.align',\n",
       " 'data/alignments/s1/lwir2n.align',\n",
       " 'data/alignments/s1/lwir3s.align',\n",
       " 'data/alignments/s1/lwir4p.align',\n",
       " 'data/alignments/s1/lwir5a.align',\n",
       " 'data/alignments/s1/lwiy6n.align',\n",
       " 'data/alignments/s1/lwiy7s.align',\n",
       " 'data/alignments/s1/lwiy8p.align',\n",
       " 'data/alignments/s1/lwiy9a.align',\n",
       " 'data/alignments/s1/lwwf6n.align',\n",
       " 'data/alignments/s1/lwwf7s.align',\n",
       " 'data/alignments/s1/lwwf8p.align',\n",
       " 'data/alignments/s1/lwwf9a.align',\n",
       " 'data/alignments/s1/lwwm1s.align',\n",
       " 'data/alignments/s1/lwwm2p.align',\n",
       " 'data/alignments/s1/lwwm3a.align',\n",
       " 'data/alignments/s1/lwwmzn.align',\n",
       " 'data/alignments/s1/lwws4n.align',\n",
       " 'data/alignments/s1/lwws5s.align',\n",
       " 'data/alignments/s1/lwws6p.align',\n",
       " 'data/alignments/s1/lwws7a.align',\n",
       " 'data/alignments/s1/lwwz8n.align',\n",
       " 'data/alignments/s1/lwwz9s.align',\n",
       " 'data/alignments/s1/pbac1s.align',\n",
       " 'data/alignments/s1/pbac2p.align',\n",
       " 'data/alignments/s1/pbac3a.align',\n",
       " 'data/alignments/s1/pbaczn.align',\n",
       " 'data/alignments/s1/pbai4n.align',\n",
       " 'data/alignments/s1/pbai5s.align',\n",
       " 'data/alignments/s1/pbai6p.align',\n",
       " 'data/alignments/s1/pbai7a.align',\n",
       " 'data/alignments/s1/pbao8n.align',\n",
       " 'data/alignments/s1/pbao9s.align',\n",
       " 'data/alignments/s1/pbap1a.align',\n",
       " 'data/alignments/s1/pbapzp.align',\n",
       " 'data/alignments/s1/pbav2n.align',\n",
       " 'data/alignments/s1/pbav3s.align',\n",
       " 'data/alignments/s1/pbav4p.align',\n",
       " 'data/alignments/s1/pbav5a.align',\n",
       " 'data/alignments/s1/pbbc4n.align',\n",
       " 'data/alignments/s1/pbbc5s.align',\n",
       " 'data/alignments/s1/pbbc6p.align',\n",
       " 'data/alignments/s1/pbbc7a.align',\n",
       " 'data/alignments/s1/pbbi8n.align',\n",
       " 'data/alignments/s1/pbbi9s.align',\n",
       " 'data/alignments/s1/pbbj1a.align',\n",
       " 'data/alignments/s1/pbbjzp.align',\n",
       " 'data/alignments/s1/pbbp2n.align',\n",
       " 'data/alignments/s1/pbbp3s.align',\n",
       " 'data/alignments/s1/pbbp4p.align',\n",
       " 'data/alignments/s1/pbbp5a.align',\n",
       " 'data/alignments/s1/pbbv6n.align',\n",
       " 'data/alignments/s1/pbbv7s.align',\n",
       " 'data/alignments/s1/pbbv8p.align',\n",
       " 'data/alignments/s1/pbbv9a.align',\n",
       " 'data/alignments/s1/pbib6n.align',\n",
       " 'data/alignments/s1/pbib7s.align',\n",
       " 'data/alignments/s1/pbib8p.align',\n",
       " 'data/alignments/s1/pbib9a.align',\n",
       " 'data/alignments/s1/pbii1s.align',\n",
       " 'data/alignments/s1/pbii2p.align',\n",
       " 'data/alignments/s1/pbii3a.align',\n",
       " 'data/alignments/s1/pbiizn.align',\n",
       " 'data/alignments/s1/pbio4n.align',\n",
       " 'data/alignments/s1/pbio5s.align',\n",
       " 'data/alignments/s1/pbio6p.align',\n",
       " 'data/alignments/s1/pbio7a.align',\n",
       " 'data/alignments/s1/pbiu8n.align',\n",
       " 'data/alignments/s1/pbiu9s.align',\n",
       " 'data/alignments/s1/pbiv1a.align',\n",
       " 'data/alignments/s1/pbivzp.align',\n",
       " 'data/alignments/s1/pbwc8n.align',\n",
       " 'data/alignments/s1/pbwc9s.align',\n",
       " 'data/alignments/s1/pbwd1a.align',\n",
       " 'data/alignments/s1/pbwdzp.align',\n",
       " 'data/alignments/s1/pbwj2n.align',\n",
       " 'data/alignments/s1/pbwj3s.align',\n",
       " 'data/alignments/s1/pbwj4p.align',\n",
       " 'data/alignments/s1/pbwj5a.align',\n",
       " 'data/alignments/s1/pbwp6n.align',\n",
       " 'data/alignments/s1/pbwp7s.align',\n",
       " 'data/alignments/s1/pbwp8p.align',\n",
       " 'data/alignments/s1/pbwp9a.align',\n",
       " 'data/alignments/s1/pbwx1s.align',\n",
       " 'data/alignments/s1/pbwx2p.align',\n",
       " 'data/alignments/s1/pbwx3a.align',\n",
       " 'data/alignments/s1/pbwxzn.align',\n",
       " 'data/alignments/s1/pgad8n.align',\n",
       " 'data/alignments/s1/pgad9s.align',\n",
       " 'data/alignments/s1/pgae1a.align',\n",
       " 'data/alignments/s1/pgaezp.align',\n",
       " 'data/alignments/s1/pgak2n.align',\n",
       " 'data/alignments/s1/pgak3s.align',\n",
       " 'data/alignments/s1/pgak4p.align',\n",
       " 'data/alignments/s1/pgak5a.align',\n",
       " 'data/alignments/s1/pgaq6n.align',\n",
       " 'data/alignments/s1/pgaq7s.align',\n",
       " 'data/alignments/s1/pgaq8p.align',\n",
       " 'data/alignments/s1/pgaq9a.align',\n",
       " 'data/alignments/s1/pgay1s.align',\n",
       " 'data/alignments/s1/pgay2p.align',\n",
       " 'data/alignments/s1/pgay3a.align',\n",
       " 'data/alignments/s1/pgayzn.align',\n",
       " 'data/alignments/s1/pgbe2n.align',\n",
       " 'data/alignments/s1/pgbe3s.align',\n",
       " 'data/alignments/s1/pgbe4p.align',\n",
       " 'data/alignments/s1/pgbe5a.align',\n",
       " 'data/alignments/s1/pgbk6n.align',\n",
       " 'data/alignments/s1/pgbk7s.align',\n",
       " 'data/alignments/s1/pgbk8p.align',\n",
       " 'data/alignments/s1/pgbk9a.align',\n",
       " 'data/alignments/s1/pgbr1s.align',\n",
       " 'data/alignments/s1/pgbr2p.align',\n",
       " 'data/alignments/s1/pgbr3a.align',\n",
       " 'data/alignments/s1/pgbrzn.align',\n",
       " 'data/alignments/s1/pgby4n.align',\n",
       " 'data/alignments/s1/pgby5s.align',\n",
       " 'data/alignments/s1/pgby6p.align',\n",
       " 'data/alignments/s1/pgby7a.align',\n",
       " 'data/alignments/s1/pgid4n.align',\n",
       " 'data/alignments/s1/pgid5s.align',\n",
       " 'data/alignments/s1/pgid6p.align',\n",
       " 'data/alignments/s1/pgid7a.align',\n",
       " 'data/alignments/s1/pgij8n.align',\n",
       " 'data/alignments/s1/pgij9s.align',\n",
       " 'data/alignments/s1/pgik1a.align',\n",
       " 'data/alignments/s1/pgikzp.align',\n",
       " 'data/alignments/s1/pgiq2n.align',\n",
       " 'data/alignments/s1/pgiq3s.align',\n",
       " 'data/alignments/s1/pgiq4p.align',\n",
       " 'data/alignments/s1/pgiq5a.align',\n",
       " 'data/alignments/s1/pgix6n.align',\n",
       " 'data/alignments/s1/pgix7s.align',\n",
       " 'data/alignments/s1/pgix8p.align',\n",
       " 'data/alignments/s1/pgix9a.align',\n",
       " 'data/alignments/s1/pgwe6n.align',\n",
       " 'data/alignments/s1/pgwe7s.align',\n",
       " 'data/alignments/s1/pgwe8p.align',\n",
       " 'data/alignments/s1/pgwe9a.align',\n",
       " 'data/alignments/s1/pgwl1s.align',\n",
       " 'data/alignments/s1/pgwl2p.align',\n",
       " 'data/alignments/s1/pgwl3a.align',\n",
       " 'data/alignments/s1/pgwlzn.align',\n",
       " 'data/alignments/s1/pgwr4n.align',\n",
       " 'data/alignments/s1/pgwr5s.align',\n",
       " 'data/alignments/s1/pgwr6p.align',\n",
       " 'data/alignments/s1/pgwr7a.align',\n",
       " 'data/alignments/s1/pgwy8n.align',\n",
       " 'data/alignments/s1/pgwy9s.align',\n",
       " 'data/alignments/s1/pgwz1a.align',\n",
       " 'data/alignments/s1/pgwzzp.align',\n",
       " 'data/alignments/s1/prac6n.align',\n",
       " 'data/alignments/s1/prac7s.align',\n",
       " 'data/alignments/s1/prac8p.align',\n",
       " 'data/alignments/s1/prac9a.align',\n",
       " 'data/alignments/s1/praj1s.align',\n",
       " 'data/alignments/s1/praj2p.align',\n",
       " 'data/alignments/s1/praj3a.align',\n",
       " 'data/alignments/s1/prajzn.align',\n",
       " 'data/alignments/s1/prap4n.align',\n",
       " 'data/alignments/s1/prap5s.align',\n",
       " 'data/alignments/s1/prap6p.align',\n",
       " 'data/alignments/s1/prap7a.align',\n",
       " 'data/alignments/s1/prav8n.align',\n",
       " 'data/alignments/s1/prav9s.align',\n",
       " 'data/alignments/s1/prax1a.align',\n",
       " 'data/alignments/s1/praxzp.align',\n",
       " 'data/alignments/s1/prbd1s.align',\n",
       " 'data/alignments/s1/prbd2p.align',\n",
       " 'data/alignments/s1/prbd3a.align',\n",
       " 'data/alignments/s1/prbdzn.align',\n",
       " 'data/alignments/s1/prbj4n.align',\n",
       " 'data/alignments/s1/prbj5s.align',\n",
       " 'data/alignments/s1/prbj6p.align',\n",
       " 'data/alignments/s1/prbj7a.align',\n",
       " 'data/alignments/s1/prbp8n.align',\n",
       " 'data/alignments/s1/prbp9s.align',\n",
       " 'data/alignments/s1/prbq1a.align',\n",
       " 'data/alignments/s1/prbqzp.align',\n",
       " 'data/alignments/s1/prbx2n.align',\n",
       " 'data/alignments/s1/prbx3s.align',\n",
       " 'data/alignments/s1/prbx4p.align',\n",
       " 'data/alignments/s1/prbx5a.align',\n",
       " 'data/alignments/s1/pric2n.align',\n",
       " 'data/alignments/s1/pric3s.align',\n",
       " 'data/alignments/s1/pric4p.align',\n",
       " 'data/alignments/s1/pric5a.align',\n",
       " 'data/alignments/s1/prii6n.align',\n",
       " 'data/alignments/s1/prii7s.align',\n",
       " 'data/alignments/s1/prii8p.align',\n",
       " 'data/alignments/s1/prii9a.align',\n",
       " 'data/alignments/s1/prip1s.align',\n",
       " 'data/alignments/s1/prip2p.align',\n",
       " 'data/alignments/s1/prip3a.align',\n",
       " 'data/alignments/s1/pripzn.align',\n",
       " 'data/alignments/s1/priv4n.align',\n",
       " 'data/alignments/s1/priv5s.align',\n",
       " 'data/alignments/s1/priv6p.align',\n",
       " 'data/alignments/s1/priv7a.align',\n",
       " 'data/alignments/s1/prwd4n.align',\n",
       " 'data/alignments/s1/prwd5s.align',\n",
       " 'data/alignments/s1/prwd6p.align',\n",
       " 'data/alignments/s1/prwd7a.align',\n",
       " 'data/alignments/s1/prwj8n.align',\n",
       " 'data/alignments/s1/prwj9s.align',\n",
       " 'data/alignments/s1/prwk1a.align',\n",
       " 'data/alignments/s1/prwkzp.align',\n",
       " 'data/alignments/s1/prwq2n.align',\n",
       " 'data/alignments/s1/prwq3s.align',\n",
       " 'data/alignments/s1/prwq4p.align',\n",
       " 'data/alignments/s1/prwq5a.align',\n",
       " 'data/alignments/s1/prwx6n.align',\n",
       " 'data/alignments/s1/prwx7s.align',\n",
       " 'data/alignments/s1/prwx8p.align',\n",
       " 'data/alignments/s1/prwx9a.align',\n",
       " 'data/alignments/s1/pwad2n.align',\n",
       " 'data/alignments/s1/pwad3s.align',\n",
       " 'data/alignments/s1/pwad4p.align',\n",
       " 'data/alignments/s1/pwad5a.align',\n",
       " 'data/alignments/s1/pwaj6n.align',\n",
       " 'data/alignments/s1/pwaj7s.align',\n",
       " 'data/alignments/s1/pwaj8p.align',\n",
       " 'data/alignments/s1/pwaj9a.align',\n",
       " 'data/alignments/s1/pwaq1s.align',\n",
       " 'data/alignments/s1/pwaq2p.align',\n",
       " 'data/alignments/s1/pwaq3a.align',\n",
       " 'data/alignments/s1/pwaqzn.align',\n",
       " 'data/alignments/s1/pwax4n.align',\n",
       " 'data/alignments/s1/pwax5s.align',\n",
       " 'data/alignments/s1/pwax6p.align',\n",
       " 'data/alignments/s1/pwax7a.align',\n",
       " 'data/alignments/s1/pwbd6n.align',\n",
       " 'data/alignments/s1/pwbd7s.align',\n",
       " 'data/alignments/s1/pwbd8p.align',\n",
       " 'data/alignments/s1/pwbd9a.align',\n",
       " 'data/alignments/s1/pwbk1s.align',\n",
       " 'data/alignments/s1/pwbk2p.align',\n",
       " 'data/alignments/s1/pwbk3a.align',\n",
       " 'data/alignments/s1/pwbkzn.align',\n",
       " 'data/alignments/s1/pwbq4n.align',\n",
       " 'data/alignments/s1/pwbq5s.align',\n",
       " 'data/alignments/s1/pwbq6p.align',\n",
       " 'data/alignments/s1/pwbq7a.align',\n",
       " 'data/alignments/s1/pwbx8n.align',\n",
       " 'data/alignments/s1/pwbx9s.align',\n",
       " 'data/alignments/s1/pwby1a.align',\n",
       " 'data/alignments/s1/pwbyzp.align',\n",
       " 'data/alignments/s1/pwic8n.align',\n",
       " 'data/alignments/s1/pwic9s.align',\n",
       " 'data/alignments/s1/pwid1a.align',\n",
       " 'data/alignments/s1/pwidzp.align',\n",
       " 'data/alignments/s1/pwij2n.align',\n",
       " 'data/alignments/s1/pwij3s.align',\n",
       " 'data/alignments/s1/pwij4p.align',\n",
       " 'data/alignments/s1/pwij5a.align',\n",
       " 'data/alignments/s1/pwip6n.align',\n",
       " 'data/alignments/s1/pwip7s.align',\n",
       " 'data/alignments/s1/pwip8p.align',\n",
       " 'data/alignments/s1/pwip9a.align',\n",
       " 'data/alignments/s1/pwix1s.align',\n",
       " 'data/alignments/s1/pwix2p.align',\n",
       " 'data/alignments/s1/pwix3a.align',\n",
       " 'data/alignments/s1/pwixzn.align',\n",
       " 'data/alignments/s1/pwwe1s.align',\n",
       " 'data/alignments/s1/pwwe2p.align',\n",
       " 'data/alignments/s1/pwwe3a.align',\n",
       " 'data/alignments/s1/pwwezn.align',\n",
       " 'data/alignments/s1/pwwk4n.align',\n",
       " 'data/alignments/s1/pwwk5s.align',\n",
       " 'data/alignments/s1/pwwk6p.align',\n",
       " 'data/alignments/s1/pwwk7a.align',\n",
       " 'data/alignments/s1/pwwq8n.align',\n",
       " 'data/alignments/s1/pwwq9s.align',\n",
       " 'data/alignments/s1/pwwr1a.align',\n",
       " 'data/alignments/s1/pwwrzp.align',\n",
       " 'data/alignments/s1/pwwy2n.align',\n",
       " 'data/alignments/s1/pwwy3s.align',\n",
       " 'data/alignments/s1/pwwy4p.align',\n",
       " 'data/alignments/s1/pwwy5a.align',\n",
       " 'data/alignments/s1/sbaa4n.align',\n",
       " 'data/alignments/s1/sbaa5s.align',\n",
       " 'data/alignments/s1/sbaa6p.align',\n",
       " 'data/alignments/s1/sbaa7a.align',\n",
       " 'data/alignments/s1/sbag8n.align',\n",
       " 'data/alignments/s1/sbag9s.align',\n",
       " 'data/alignments/s1/sbah1a.align',\n",
       " 'data/alignments/s1/sbahzp.align',\n",
       " 'data/alignments/s1/sban2n.align',\n",
       " 'data/alignments/s1/sban3s.align',\n",
       " 'data/alignments/s1/sban4p.align',\n",
       " 'data/alignments/s1/sban5a.align',\n",
       " 'data/alignments/s1/sbat6n.align',\n",
       " 'data/alignments/s1/sbat7s.align',\n",
       " 'data/alignments/s1/sbat8p.align',\n",
       " 'data/alignments/s1/sbat9a.align',\n",
       " 'data/alignments/s1/sbba8n.align',\n",
       " 'data/alignments/s1/sbba9s.align',\n",
       " 'data/alignments/s1/sbbb1a.align',\n",
       " 'data/alignments/s1/sbbbzp.align',\n",
       " 'data/alignments/s1/sbbh2n.align',\n",
       " 'data/alignments/s1/sbbh3s.align',\n",
       " 'data/alignments/s1/sbbh4p.align',\n",
       " 'data/alignments/s1/sbbh5a.align',\n",
       " 'data/alignments/s1/sbbn6n.align',\n",
       " 'data/alignments/s1/sbbn7s.align',\n",
       " 'data/alignments/s1/sbbn8p.align',\n",
       " 'data/alignments/s1/sbbn9a.align',\n",
       " 'data/alignments/s1/sbbu1s.align',\n",
       " 'data/alignments/s1/sbbu2p.align',\n",
       " 'data/alignments/s1/sbbu3a.align',\n",
       " 'data/alignments/s1/sbbuzn.align',\n",
       " 'data/alignments/s1/sbia1s.align',\n",
       " 'data/alignments/s1/sbia2p.align',\n",
       " 'data/alignments/s1/sbia3a.align',\n",
       " 'data/alignments/s1/sbiazn.align',\n",
       " 'data/alignments/s1/sbig4n.align',\n",
       " 'data/alignments/s1/sbig5s.align',\n",
       " 'data/alignments/s1/sbig6p.align',\n",
       " 'data/alignments/s1/sbig7a.align',\n",
       " 'data/alignments/s1/sbim8n.align',\n",
       " 'data/alignments/s1/sbim9s.align',\n",
       " 'data/alignments/s1/sbin1a.align',\n",
       " 'data/alignments/s1/sbinzp.align',\n",
       " 'data/alignments/s1/sbit2n.align',\n",
       " 'data/alignments/s1/sbit3s.align',\n",
       " 'data/alignments/s1/sbit4p.align',\n",
       " 'data/alignments/s1/sbit5a.align',\n",
       " 'data/alignments/s1/sbwb2n.align',\n",
       " 'data/alignments/s1/sbwb3s.align',\n",
       " 'data/alignments/s1/sbwb4p.align',\n",
       " 'data/alignments/s1/sbwb5a.align',\n",
       " 'data/alignments/s1/sbwh6n.align',\n",
       " 'data/alignments/s1/sbwh7s.align',\n",
       " 'data/alignments/s1/sbwh8p.align',\n",
       " 'data/alignments/s1/sbwh9a.align',\n",
       " 'data/alignments/s1/sbwo1s.align',\n",
       " 'data/alignments/s1/sbwo2p.align',\n",
       " 'data/alignments/s1/sbwo3a.align',\n",
       " 'data/alignments/s1/sbwozn.align',\n",
       " 'data/alignments/s1/sbwu4n.align',\n",
       " 'data/alignments/s1/sbwu5s.align',\n",
       " 'data/alignments/s1/sbwu6p.align',\n",
       " 'data/alignments/s1/sbwu7a.align',\n",
       " 'data/alignments/s1/sgac2n.align',\n",
       " 'data/alignments/s1/sgac3s.align',\n",
       " 'data/alignments/s1/sgac4p.align',\n",
       " 'data/alignments/s1/sgac5a.align',\n",
       " 'data/alignments/s1/sgai6n.align',\n",
       " 'data/alignments/s1/sgai7s.align',\n",
       " 'data/alignments/s1/sgai8p.align',\n",
       " 'data/alignments/s1/sgai9a.align',\n",
       " 'data/alignments/s1/sgap1s.align',\n",
       " 'data/alignments/s1/sgap2p.align',\n",
       " 'data/alignments/s1/sgap3a.align',\n",
       " 'data/alignments/s1/sgapzn.align',\n",
       " 'data/alignments/s1/sgav4n.align',\n",
       " 'data/alignments/s1/sgav5s.align',\n",
       " 'data/alignments/s1/sgav6p.align',\n",
       " 'data/alignments/s1/sgav7a.align',\n",
       " 'data/alignments/s1/sgbc6n.align',\n",
       " 'data/alignments/s1/sgbc7s.align',\n",
       " 'data/alignments/s1/sgbc8p.align',\n",
       " 'data/alignments/s1/sgbc9a.align',\n",
       " 'data/alignments/s1/sgbj1s.align',\n",
       " 'data/alignments/s1/sgbj2p.align',\n",
       " 'data/alignments/s1/sgbj3a.align',\n",
       " 'data/alignments/s1/sgbjzn.align',\n",
       " 'data/alignments/s1/sgbp4n.align',\n",
       " 'data/alignments/s1/sgbp5s.align',\n",
       " 'data/alignments/s1/sgbp6p.align',\n",
       " 'data/alignments/s1/sgbp7a.align',\n",
       " 'data/alignments/s1/sgbv8n.align',\n",
       " 'data/alignments/s1/sgbv9s.align',\n",
       " 'data/alignments/s1/sgbx1a.align',\n",
       " 'data/alignments/s1/sgbxzp.align',\n",
       " 'data/alignments/s1/sgib8n.align',\n",
       " 'data/alignments/s1/sgib9s.align',\n",
       " 'data/alignments/s1/sgic1a.align',\n",
       " 'data/alignments/s1/sgiczp.align',\n",
       " 'data/alignments/s1/sgii2n.align',\n",
       " 'data/alignments/s1/sgii3s.align',\n",
       " 'data/alignments/s1/sgii4p.align',\n",
       " 'data/alignments/s1/sgii5a.align',\n",
       " 'data/alignments/s1/sgio6n.align',\n",
       " 'data/alignments/s1/sgio7s.align',\n",
       " 'data/alignments/s1/sgio8p.align',\n",
       " 'data/alignments/s1/sgio9a.align',\n",
       " 'data/alignments/s1/sgiv1s.align',\n",
       " 'data/alignments/s1/sgiv2p.align',\n",
       " 'data/alignments/s1/sgiv3a.align',\n",
       " 'data/alignments/s1/sgivzn.align',\n",
       " 'data/alignments/s1/sgwd1s.align',\n",
       " 'data/alignments/s1/sgwd2p.align',\n",
       " 'data/alignments/s1/sgwd3a.align',\n",
       " 'data/alignments/s1/sgwdzn.align',\n",
       " 'data/alignments/s1/sgwj4n.align',\n",
       " 'data/alignments/s1/sgwj5s.align',\n",
       " 'data/alignments/s1/sgwj6p.align',\n",
       " 'data/alignments/s1/sgwj7a.align',\n",
       " 'data/alignments/s1/sgwp8n.align',\n",
       " 'data/alignments/s1/sgwp9s.align',\n",
       " 'data/alignments/s1/sgwq1a.align',\n",
       " 'data/alignments/s1/sgwqzp.align',\n",
       " 'data/alignments/s1/sgwx2n.align',\n",
       " 'data/alignments/s1/sgwx3s.align',\n",
       " 'data/alignments/s1/sgwx4p.align',\n",
       " 'data/alignments/s1/sgwx5a.align',\n",
       " 'data/alignments/s1/srab1s.align',\n",
       " 'data/alignments/s1/srab2p.align',\n",
       " 'data/alignments/s1/srab3a.align',\n",
       " 'data/alignments/s1/srabzn.align',\n",
       " 'data/alignments/s1/srah4n.align',\n",
       " 'data/alignments/s1/srah5s.align',\n",
       " 'data/alignments/s1/srah6p.align',\n",
       " 'data/alignments/s1/srah7a.align',\n",
       " 'data/alignments/s1/sran8n.align',\n",
       " 'data/alignments/s1/sran9s.align',\n",
       " 'data/alignments/s1/srao1a.align',\n",
       " 'data/alignments/s1/sraozp.align',\n",
       " 'data/alignments/s1/srau2n.align',\n",
       " 'data/alignments/s1/srau3s.align',\n",
       " 'data/alignments/s1/srau4p.align',\n",
       " 'data/alignments/s1/srau5a.align',\n",
       " 'data/alignments/s1/srbb4n.align',\n",
       " 'data/alignments/s1/srbb5s.align',\n",
       " 'data/alignments/s1/srbb6p.align',\n",
       " 'data/alignments/s1/srbb7a.align',\n",
       " 'data/alignments/s1/srbh8n.align',\n",
       " 'data/alignments/s1/srbh9s.align',\n",
       " 'data/alignments/s1/srbi1a.align',\n",
       " 'data/alignments/s1/srbizp.align',\n",
       " 'data/alignments/s1/srbo2n.align',\n",
       " 'data/alignments/s1/srbo3s.align',\n",
       " 'data/alignments/s1/srbo4p.align',\n",
       " 'data/alignments/s1/srbo5a.align',\n",
       " 'data/alignments/s1/srbu6n.align',\n",
       " 'data/alignments/s1/srbu7s.align',\n",
       " 'data/alignments/s1/srbu8p.align',\n",
       " 'data/alignments/s1/srbu9a.align',\n",
       " 'data/alignments/s1/sria6n.align',\n",
       " 'data/alignments/s1/sria7s.align',\n",
       " 'data/alignments/s1/sria8p.align',\n",
       " 'data/alignments/s1/sria9a.align',\n",
       " 'data/alignments/s1/srih1s.align',\n",
       " 'data/alignments/s1/srih2p.align',\n",
       " 'data/alignments/s1/srih3a.align',\n",
       " 'data/alignments/s1/srihzn.align',\n",
       " 'data/alignments/s1/srin4n.align',\n",
       " 'data/alignments/s1/srin5s.align',\n",
       " 'data/alignments/s1/srin6p.align',\n",
       " 'data/alignments/s1/srin7a.align',\n",
       " 'data/alignments/s1/srit8n.align',\n",
       " 'data/alignments/s1/srit9s.align',\n",
       " 'data/alignments/s1/sriu1a.align',\n",
       " 'data/alignments/s1/sriuzp.align',\n",
       " 'data/alignments/s1/srwb8n.align',\n",
       " 'data/alignments/s1/srwb9s.align',\n",
       " 'data/alignments/s1/srwc1a.align',\n",
       " 'data/alignments/s1/srwczp.align',\n",
       " 'data/alignments/s1/srwi2n.align',\n",
       " 'data/alignments/s1/srwi3s.align',\n",
       " 'data/alignments/s1/srwi4p.align',\n",
       " 'data/alignments/s1/srwi5a.align',\n",
       " 'data/alignments/s1/srwo6n.align',\n",
       " 'data/alignments/s1/srwo7s.align',\n",
       " 'data/alignments/s1/srwo8p.align',\n",
       " 'data/alignments/s1/srwo9a.align',\n",
       " 'data/alignments/s1/srwv1s.align',\n",
       " 'data/alignments/s1/srwv2p.align',\n",
       " 'data/alignments/s1/srwv3a.align',\n",
       " 'data/alignments/s1/srwvzn.align',\n",
       " 'data/alignments/s1/swab6n.align',\n",
       " 'data/alignments/s1/swab7s.align',\n",
       " 'data/alignments/s1/swab8p.align',\n",
       " 'data/alignments/s1/swab9a.align',\n",
       " 'data/alignments/s1/swai1s.align',\n",
       " 'data/alignments/s1/swai2p.align',\n",
       " 'data/alignments/s1/swai3a.align',\n",
       " 'data/alignments/s1/swaizn.align',\n",
       " 'data/alignments/s1/swao4n.align',\n",
       " 'data/alignments/s1/swao5s.align',\n",
       " 'data/alignments/s1/swao6p.align',\n",
       " 'data/alignments/s1/swao7a.align',\n",
       " 'data/alignments/s1/swau8n.align',\n",
       " 'data/alignments/s1/swau9s.align',\n",
       " 'data/alignments/s1/swav1a.align',\n",
       " 'data/alignments/s1/swavzp.align',\n",
       " 'data/alignments/s1/swbc1s.align',\n",
       " 'data/alignments/s1/swbc2p.align',\n",
       " 'data/alignments/s1/swbc3a.align',\n",
       " 'data/alignments/s1/swbczn.align',\n",
       " 'data/alignments/s1/swbi4n.align',\n",
       " 'data/alignments/s1/swbi5s.align',\n",
       " 'data/alignments/s1/swbi6p.align',\n",
       " 'data/alignments/s1/swbi7a.align',\n",
       " 'data/alignments/s1/swbo8n.align',\n",
       " 'data/alignments/s1/swbo9s.align',\n",
       " 'data/alignments/s1/swbp1a.align',\n",
       " 'data/alignments/s1/swbpzp.align',\n",
       " 'data/alignments/s1/swbv2n.align',\n",
       " 'data/alignments/s1/swbv3s.align',\n",
       " 'data/alignments/s1/swbv4p.align',\n",
       " 'data/alignments/s1/swbv5a.align',\n",
       " 'data/alignments/s1/swib2n.align',\n",
       " 'data/alignments/s1/swib3s.align',\n",
       " 'data/alignments/s1/swib4p.align',\n",
       " 'data/alignments/s1/swib5a.align',\n",
       " 'data/alignments/s1/swih6n.align',\n",
       " 'data/alignments/s1/swih7s.align',\n",
       " 'data/alignments/s1/swih8p.align',\n",
       " 'data/alignments/s1/swih9a.align',\n",
       " 'data/alignments/s1/swio1s.align',\n",
       " 'data/alignments/s1/swio2p.align',\n",
       " 'data/alignments/s1/swio3a.align',\n",
       " 'data/alignments/s1/swiozn.align',\n",
       " 'data/alignments/s1/swiu4n.align',\n",
       " 'data/alignments/s1/swiu5s.align',\n",
       " 'data/alignments/s1/swiu6p.align',\n",
       " 'data/alignments/s1/swiu7a.align',\n",
       " 'data/alignments/s1/swwc4n.align',\n",
       " 'data/alignments/s1/swwc5s.align',\n",
       " 'data/alignments/s1/swwc6p.align',\n",
       " 'data/alignments/s1/swwc7a.align',\n",
       " 'data/alignments/s1/swwi8n.align',\n",
       " 'data/alignments/s1/swwi9s.align',\n",
       " 'data/alignments/s1/swwj1a.align',\n",
       " 'data/alignments/s1/swwjzp.align',\n",
       " 'data/alignments/s1/swwp2n.align',\n",
       " 'data/alignments/s1/swwp3s.align',\n",
       " 'data/alignments/s1/swwp4p.align',\n",
       " 'data/alignments/s1/swwp5a.align',\n",
       " 'data/alignments/s1/swwv6n.align',\n",
       " ...]"
      ]
     },
     "execution_count": 8,
     "metadata": {},
     "output_type": "execute_result"
    }
   ],
   "source": [
    "url = 'https://drive.google.com/uc?id=1YlvpDLix3S-U8fd-gqRwPcWXAXm8JwjL'\n",
    "output = 'data.zip'\n",
    "gdown.download(url, output, quiet=False)\n",
    "gdown.extractall('data.zip')"
   ]
  },
  {
   "cell_type": "code",
   "execution_count": 9,
   "metadata": {
    "execution": {
     "iopub.execute_input": "2023-11-04T20:00:45.233647Z",
     "iopub.status.busy": "2023-11-04T20:00:45.233363Z",
     "iopub.status.idle": "2023-11-04T20:00:45.240328Z",
     "shell.execute_reply": "2023-11-04T20:00:45.239507Z",
     "shell.execute_reply.started": "2023-11-04T20:00:45.233622Z"
    },
    "tags": [],
    "trusted": true
   },
   "outputs": [],
   "source": [
    "def load_video(path:str) -> List[float]: \n",
    "\n",
    "    cap = cv2.VideoCapture(path)                        # read frames of the video\n",
    "    frames = []\n",
    "    for _ in range(int(cap.get(cv2.CAP_PROP_FRAME_COUNT))): \n",
    "        ret, frame = cap.read()                         # ret-wheather frame is captured or not  , frame actual matrix representation of captured frame\n",
    "        frame = tf.image.rgb_to_grayscale(frame)        # convert to grayscale\n",
    "        frames.append(frame[190:236,80:220,:])          # Crop only mouth region and add pixel matrix to frame list\n",
    "    cap.release()\n",
    "    \n",
    "    mean = tf.math.reduce_mean(frames )\n",
    "    std = tf.math.reduce_std(tf.cast(frames, tf.float32))\n",
    "    return tf.cast((frames - mean), tf.float32) / std   # standarrdize pixel values and make it float16 to reduce furthur computation times"
   ]
  },
  {
   "cell_type": "code",
   "execution_count": 10,
   "metadata": {
    "execution": {
     "iopub.execute_input": "2023-11-04T20:00:45.241870Z",
     "iopub.status.busy": "2023-11-04T20:00:45.241586Z",
     "iopub.status.idle": "2023-11-04T20:00:45.251898Z",
     "shell.execute_reply": "2023-11-04T20:00:45.250992Z",
     "shell.execute_reply.started": "2023-11-04T20:00:45.241846Z"
    },
    "tags": [],
    "trusted": true
   },
   "outputs": [],
   "source": [
    "vocab = [x for x in \"abcdefghijklmnopqrstuvwxyz'?!123456789 \"]"
   ]
  },
  {
   "cell_type": "code",
   "execution_count": 11,
   "metadata": {
    "execution": {
     "iopub.execute_input": "2023-11-04T20:00:45.253230Z",
     "iopub.status.busy": "2023-11-04T20:00:45.252989Z",
     "iopub.status.idle": "2023-11-04T20:00:46.321755Z",
     "shell.execute_reply": "2023-11-04T20:00:46.320717Z",
     "shell.execute_reply.started": "2023-11-04T20:00:45.253209Z"
    },
    "tags": [],
    "trusted": true
   },
   "outputs": [
    {
     "name": "stdout",
     "output_type": "stream",
     "text": [
      "The vocabulary is: ['', 'a', 'b', 'c', 'd', 'e', 'f', 'g', 'h', 'i', 'j', 'k', 'l', 'm', 'n', 'o', 'p', 'q', 'r', 's', 't', 'u', 'v', 'w', 'x', 'y', 'z', \"'\", '?', '!', '1', '2', '3', '4', '5', '6', '7', '8', '9', ' '] (size =40)\n"
     ]
    }
   ],
   "source": [
    "# encode vocabs to its index and set every character that is not in vocab to empty strig \n",
    "char_to_num = tf.keras.layers.StringLookup(vocabulary=vocab, oov_token=\"\")\n",
    "# decode do the opposite of above \n",
    "num_to_char = tf.keras.layers.StringLookup(vocabulary=char_to_num.get_vocabulary(), oov_token=\"\", invert=True)\n",
    "\n",
    "print(f\"The vocabulary is: {char_to_num.get_vocabulary()} \"\n",
    "    f\"(size ={char_to_num.vocabulary_size()})\")"
   ]
  },
  {
   "cell_type": "code",
   "execution_count": 12,
   "metadata": {
    "execution": {
     "iopub.execute_input": "2023-11-04T20:00:46.323133Z",
     "iopub.status.busy": "2023-11-04T20:00:46.322841Z",
     "iopub.status.idle": "2023-11-04T20:00:46.330944Z",
     "shell.execute_reply": "2023-11-04T20:00:46.330098Z",
     "shell.execute_reply.started": "2023-11-04T20:00:46.323108Z"
    },
    "tags": [],
    "trusted": true
   },
   "outputs": [
    {
     "data": {
      "text/plain": [
       "['',\n",
       " 'a',\n",
       " 'b',\n",
       " 'c',\n",
       " 'd',\n",
       " 'e',\n",
       " 'f',\n",
       " 'g',\n",
       " 'h',\n",
       " 'i',\n",
       " 'j',\n",
       " 'k',\n",
       " 'l',\n",
       " 'm',\n",
       " 'n',\n",
       " 'o',\n",
       " 'p',\n",
       " 'q',\n",
       " 'r',\n",
       " 's',\n",
       " 't',\n",
       " 'u',\n",
       " 'v',\n",
       " 'w',\n",
       " 'x',\n",
       " 'y',\n",
       " 'z',\n",
       " \"'\",\n",
       " '?',\n",
       " '!',\n",
       " '1',\n",
       " '2',\n",
       " '3',\n",
       " '4',\n",
       " '5',\n",
       " '6',\n",
       " '7',\n",
       " '8',\n",
       " '9',\n",
       " ' ']"
      ]
     },
     "execution_count": 12,
     "metadata": {},
     "output_type": "execute_result"
    }
   ],
   "source": [
    "char_to_num.get_vocabulary()"
   ]
  },
  {
   "cell_type": "code",
   "execution_count": 13,
   "metadata": {
    "execution": {
     "iopub.execute_input": "2023-11-04T20:00:46.332411Z",
     "iopub.status.busy": "2023-11-04T20:00:46.332074Z",
     "iopub.status.idle": "2023-11-04T20:00:46.345939Z",
     "shell.execute_reply": "2023-11-04T20:00:46.344920Z",
     "shell.execute_reply.started": "2023-11-04T20:00:46.332379Z"
    },
    "tags": [],
    "trusted": true
   },
   "outputs": [
    {
     "data": {
      "text/plain": [
       "<tf.Tensor: shape=(3,), dtype=int64, numpy=array([15, 13, 13], dtype=int64)>"
      ]
     },
     "execution_count": 13,
     "metadata": {},
     "output_type": "execute_result"
    }
   ],
   "source": [
    "char_to_num(['o', 'm', 'm'])"
   ]
  },
  {
   "cell_type": "code",
   "execution_count": 14,
   "metadata": {
    "execution": {
     "iopub.execute_input": "2023-11-04T20:00:46.353478Z",
     "iopub.status.busy": "2023-11-04T20:00:46.353203Z",
     "iopub.status.idle": "2023-11-04T20:00:46.365271Z",
     "shell.execute_reply": "2023-11-04T20:00:46.364375Z",
     "shell.execute_reply.started": "2023-11-04T20:00:46.353455Z"
    },
    "trusted": true
   },
   "outputs": [
    {
     "data": {
      "text/plain": [
       "<tf.Tensor: shape=(4,), dtype=string, numpy=array([b'n', b'i', b'c', b'k'], dtype=object)>"
      ]
     },
     "execution_count": 14,
     "metadata": {},
     "output_type": "execute_result"
    }
   ],
   "source": [
    "num_to_char([14,  9,  3, 11])"
   ]
  },
  {
   "cell_type": "code",
   "execution_count": 15,
   "metadata": {
    "execution": {
     "iopub.execute_input": "2023-11-04T20:00:46.366571Z",
     "iopub.status.busy": "2023-11-04T20:00:46.366334Z",
     "iopub.status.idle": "2023-11-04T20:00:46.373805Z",
     "shell.execute_reply": "2023-11-04T20:00:46.372918Z",
     "shell.execute_reply.started": "2023-11-04T20:00:46.366550Z"
    },
    "tags": [],
    "trusted": true
   },
   "outputs": [],
   "source": [
    "def load_alignments(path:str) -> List[str]: \n",
    "    with open(path, 'r') as f: \n",
    "        lines = f.readlines() \n",
    "    tokens = []\n",
    "    # in every line there are 3 elemnts\n",
    "    # 1st and 2nd are the time stamps during which word is said\n",
    "    # 3rd is actual word that is said\n",
    "    for line in lines:\n",
    "        line = line.split()\n",
    "        if line[2] != 'sil':                     # dont consider silence\n",
    "            tokens = [*tokens,' ',line[2]] \n",
    "    # all encoded words are stored in tokens list so return their concatination to train model\n",
    "    return char_to_num(tf.reshape(tf.strings.unicode_split(tokens, input_encoding='UTF-8'), (-1)))[1:]"
   ]
  },
  {
   "cell_type": "code",
   "execution_count": 16,
   "metadata": {
    "execution": {
     "iopub.execute_input": "2023-11-04T20:00:46.375197Z",
     "iopub.status.busy": "2023-11-04T20:00:46.374922Z",
     "iopub.status.idle": "2023-11-04T20:00:46.386472Z",
     "shell.execute_reply": "2023-11-04T20:00:46.385548Z",
     "shell.execute_reply.started": "2023-11-04T20:00:46.375174Z"
    },
    "tags": [],
    "trusted": true
   },
   "outputs": [],
   "source": [
    "def load_data(path: str): \n",
    "    path = bytes.decode(path.numpy())\n",
    "    #file_name = path.split('/')[-1].split('.')[0]\n",
    "    # File name splitting for windows\n",
    "    file_name = path.split('\\\\')[-1].split('.')[0]\n",
    "    video_path = os.path.join('maindata','s1',f'{file_name}.mpg')\n",
    "    alignment_path = os.path.join('maindata','alignments','s1',f'{file_name}.align')\n",
    "    frames = load_video(video_path) \n",
    "    alignments = load_alignments(alignment_path)\n",
    "    \n",
    "    return frames, alignments"
   ]
  },
  {
   "cell_type": "code",
   "execution_count": 17,
   "metadata": {
    "execution": {
     "iopub.execute_input": "2023-11-04T20:00:46.387784Z",
     "iopub.status.busy": "2023-11-04T20:00:46.387470Z",
     "iopub.status.idle": "2023-11-04T20:00:46.396509Z",
     "shell.execute_reply": "2023-11-04T20:00:46.395696Z",
     "shell.execute_reply.started": "2023-11-04T20:00:46.387760Z"
    },
    "tags": [],
    "trusted": true
   },
   "outputs": [],
   "source": [
    "test_path = '.\\\\data\\\\s1\\\\bbal6n.mpg'"
   ]
  },
  {
   "cell_type": "code",
   "execution_count": 18,
   "metadata": {
    "execution": {
     "iopub.execute_input": "2023-11-04T20:00:46.398081Z",
     "iopub.status.busy": "2023-11-04T20:00:46.397767Z",
     "iopub.status.idle": "2023-11-04T20:00:46.407323Z",
     "shell.execute_reply": "2023-11-04T20:00:46.406425Z",
     "shell.execute_reply.started": "2023-11-04T20:00:46.398057Z"
    },
    "trusted": true
   },
   "outputs": [],
   "source": [
    "#test_path = bytes.decode(test_path.numpy())"
   ]
  },
  {
   "cell_type": "code",
   "execution_count": 19,
   "metadata": {
    "execution": {
     "iopub.execute_input": "2023-11-04T20:00:46.408728Z",
     "iopub.status.busy": "2023-11-04T20:00:46.408405Z",
     "iopub.status.idle": "2023-11-04T20:00:46.417131Z",
     "shell.execute_reply": "2023-11-04T20:00:46.416301Z",
     "shell.execute_reply.started": "2023-11-04T20:00:46.408699Z"
    },
    "trusted": true
   },
   "outputs": [
    {
     "data": {
      "text/plain": [
       "'.\\\\data\\\\s1\\\\bbal6n.mpg'"
      ]
     },
     "execution_count": 19,
     "metadata": {},
     "output_type": "execute_result"
    }
   ],
   "source": [
    "hi = tf.convert_to_tensor(test_path).numpy().decode('utf-8')\n",
    "hi"
   ]
  },
  {
   "cell_type": "code",
   "execution_count": 20,
   "metadata": {
    "execution": {
     "iopub.execute_input": "2023-11-04T20:00:46.418701Z",
     "iopub.status.busy": "2023-11-04T20:00:46.418385Z",
     "iopub.status.idle": "2023-11-04T20:00:46.431050Z",
     "shell.execute_reply": "2023-11-04T20:00:46.430097Z",
     "shell.execute_reply.started": "2023-11-04T20:00:46.418672Z"
    },
    "trusted": true
   },
   "outputs": [
    {
     "data": {
      "text/plain": [
       "''"
      ]
     },
     "execution_count": 20,
     "metadata": {},
     "output_type": "execute_result"
    }
   ],
   "source": [
    "tf.convert_to_tensor(test_path).numpy().decode('utf-8').split('/')[-1].split('.')[0]"
   ]
  },
  {
   "cell_type": "code",
   "execution_count": null,
   "metadata": {},
   "outputs": [],
   "source": []
  },
  {
   "cell_type": "code",
   "execution_count": 21,
   "metadata": {
    "execution": {
     "iopub.execute_input": "2023-11-04T20:00:46.432876Z",
     "iopub.status.busy": "2023-11-04T20:00:46.432276Z",
     "iopub.status.idle": "2023-11-04T20:00:47.488844Z",
     "shell.execute_reply": "2023-11-04T20:00:47.487907Z",
     "shell.execute_reply.started": "2023-11-04T20:00:46.432844Z"
    },
    "scrolled": true,
    "tags": [],
    "trusted": true
   },
   "outputs": [],
   "source": [
    "frames, alignments = load_data(tf.convert_to_tensor(test_path))"
   ]
  },
  {
   "cell_type": "code",
   "execution_count": 22,
   "metadata": {
    "execution": {
     "iopub.execute_input": "2023-11-04T20:00:47.492006Z",
     "iopub.status.busy": "2023-11-04T20:00:47.489965Z",
     "iopub.status.idle": "2023-11-04T20:00:47.498695Z",
     "shell.execute_reply": "2023-11-04T20:00:47.497813Z",
     "shell.execute_reply.started": "2023-11-04T20:00:47.491978Z"
    },
    "trusted": true
   },
   "outputs": [
    {
     "data": {
      "text/plain": [
       "<tf.Tensor: shape=(21,), dtype=int64, numpy=\n",
       "array([ 2,  9, 14, 39,  2, 12, 21,  5, 39,  1, 20, 39, 12, 39, 19,  9, 24,\n",
       "       39, 14, 15, 23], dtype=int64)>"
      ]
     },
     "execution_count": 22,
     "metadata": {},
     "output_type": "execute_result"
    }
   ],
   "source": [
    "alignments"
   ]
  },
  {
   "cell_type": "code",
   "execution_count": 23,
   "metadata": {
    "execution": {
     "iopub.execute_input": "2023-11-04T20:00:47.500097Z",
     "iopub.status.busy": "2023-11-04T20:00:47.499860Z",
     "iopub.status.idle": "2023-11-04T20:00:47.984766Z",
     "shell.execute_reply": "2023-11-04T20:00:47.983722Z",
     "shell.execute_reply.started": "2023-11-04T20:00:47.500076Z"
    },
    "trusted": true
   },
   "outputs": [
    {
     "data": {
      "text/plain": [
       "<matplotlib.image.AxesImage at 0x2442c650520>"
      ]
     },
     "execution_count": 23,
     "metadata": {},
     "output_type": "execute_result"
    },
    {
     "data": {
      "image/png": "[encoded data removed]",
      "text/plain": [
       "<Figure size 640x480 with 1 Axes>"
      ]
     },
     "metadata": {},
     "output_type": "display_data"
    }
   ],
   "source": [
    "plt.imshow(frames[0])"
   ]
  },
  {
   "cell_type": "code",
   "execution_count": 24,
   "metadata": {
    "execution": {
     "iopub.execute_input": "2023-11-04T20:00:47.986899Z",
     "iopub.status.busy": "2023-11-04T20:00:47.986388Z",
     "iopub.status.idle": "2023-11-04T20:00:48.235551Z",
     "shell.execute_reply": "2023-11-04T20:00:48.234678Z",
     "shell.execute_reply.started": "2023-11-04T20:00:47.986859Z"
    },
    "trusted": true
   },
   "outputs": [
    {
     "data": {
      "text/plain": [
       "<matplotlib.image.AxesImage at 0x2442b585b40>"
      ]
     },
     "execution_count": 24,
     "metadata": {},
     "output_type": "execute_result"
    },
    {
     "data": {
      "image/png": "[encoded data removed]",
      "text/plain": [
       "<Figure size 640x480 with 1 Axes>"
      ]
     },
     "metadata": {},
     "output_type": "display_data"
    }
   ],
   "source": [
    "plt.imshow(frames[23])"
   ]
  },
  {
   "cell_type": "code",
   "execution_count": 25,
   "metadata": {
    "execution": {
     "iopub.execute_input": "2023-11-04T20:00:48.237481Z",
     "iopub.status.busy": "2023-11-04T20:00:48.237093Z",
     "iopub.status.idle": "2023-11-04T20:00:48.481573Z",
     "shell.execute_reply": "2023-11-04T20:00:48.480679Z",
     "shell.execute_reply.started": "2023-11-04T20:00:48.237446Z"
    },
    "trusted": true
   },
   "outputs": [
    {
     "data": {
      "text/plain": [
       "<matplotlib.image.AxesImage at 0x2442eb8e7a0>"
      ]
     },
     "execution_count": 25,
     "metadata": {},
     "output_type": "execute_result"
    },
    {
     "data": {
      "image/png": "[encoded data removed]",
      "text/plain": [
       "<Figure size 640x480 with 1 Axes>"
      ]
     },
     "metadata": {},
     "output_type": "display_data"
    }
   ],
   "source": [
    "plt.imshow(frames[40])"
   ]
  },
  {
   "cell_type": "code",
   "execution_count": 26,
   "metadata": {
    "execution": {
     "iopub.execute_input": "2023-11-04T20:00:48.483576Z",
     "iopub.status.busy": "2023-11-04T20:00:48.482921Z",
     "iopub.status.idle": "2023-11-04T20:00:48.492583Z",
     "shell.execute_reply": "2023-11-04T20:00:48.491592Z",
     "shell.execute_reply.started": "2023-11-04T20:00:48.483541Z"
    },
    "trusted": true
   },
   "outputs": [
    {
     "data": {
      "text/plain": [
       "<tf.Tensor: shape=(21,), dtype=int64, numpy=\n",
       "array([ 2,  9, 14, 39,  2, 12, 21,  5, 39,  1, 20, 39, 12, 39, 19,  9, 24,\n",
       "       39, 14, 15, 23], dtype=int64)>"
      ]
     },
     "execution_count": 26,
     "metadata": {},
     "output_type": "execute_result"
    }
   ],
   "source": [
    "alignments"
   ]
  },
  {
   "cell_type": "code",
   "execution_count": 27,
   "metadata": {
    "execution": {
     "iopub.execute_input": "2023-11-04T20:00:48.494073Z",
     "iopub.status.busy": "2023-11-04T20:00:48.493792Z",
     "iopub.status.idle": "2023-11-04T20:00:48.508347Z",
     "shell.execute_reply": "2023-11-04T20:00:48.507314Z",
     "shell.execute_reply.started": "2023-11-04T20:00:48.494050Z"
    },
    "trusted": true
   },
   "outputs": [
    {
     "data": {
      "text/plain": [
       "<tf.Tensor: shape=(), dtype=string, numpy=b'bin blue at l six now'>"
      ]
     },
     "execution_count": 27,
     "metadata": {},
     "output_type": "execute_result"
    }
   ],
   "source": [
    "tf.strings.reduce_join([bytes.decode(x) for x in num_to_char(alignments.numpy()).numpy()])"
   ]
  },
  {
   "cell_type": "code",
   "execution_count": 28,
   "metadata": {
    "execution": {
     "iopub.execute_input": "2023-11-04T20:00:48.509992Z",
     "iopub.status.busy": "2023-11-04T20:00:48.509644Z",
     "iopub.status.idle": "2023-11-04T20:00:48.516332Z",
     "shell.execute_reply": "2023-11-04T20:00:48.515538Z",
     "shell.execute_reply.started": "2023-11-04T20:00:48.509962Z"
    },
    "tags": [],
    "trusted": true
   },
   "outputs": [],
   "source": [
    "def mappable_function(path:str) ->List[str]:\n",
    "    result = tf.py_function(load_data, [path], (tf.float32, tf.int64))\n",
    "    return result"
   ]
  },
  {
   "cell_type": "markdown",
   "metadata": {
    "tags": []
   },
   "source": [
    "# 2. Create Data Pipeline"
   ]
  },
  {
   "cell_type": "code",
   "execution_count": 29,
   "metadata": {
    "execution": {
     "iopub.execute_input": "2023-11-04T20:00:48.518154Z",
     "iopub.status.busy": "2023-11-04T20:00:48.517727Z",
     "iopub.status.idle": "2023-11-04T20:00:48.528574Z",
     "shell.execute_reply": "2023-11-04T20:00:48.527662Z",
     "shell.execute_reply.started": "2023-11-04T20:00:48.518120Z"
    },
    "tags": [],
    "trusted": true
   },
   "outputs": [],
   "source": [
    "from matplotlib import pyplot as plt"
   ]
  },
  {
   "cell_type": "code",
   "execution_count": 30,
   "metadata": {
    "execution": {
     "iopub.execute_input": "2023-11-04T20:00:48.530027Z",
     "iopub.status.busy": "2023-11-04T20:00:48.529754Z",
     "iopub.status.idle": "2023-11-04T20:00:48.623016Z",
     "shell.execute_reply": "2023-11-04T20:00:48.622179Z",
     "shell.execute_reply.started": "2023-11-04T20:00:48.530004Z"
    },
    "tags": [],
    "trusted": true
   },
   "outputs": [],
   "source": [
    "data = tf.data.Dataset.list_files('./data/s1/*.mpg')\n",
    "data = data.shuffle(500, reshuffle_each_iteration=False)\n",
    "data = data.map(mappable_function)\n",
    "data = data.padded_batch(2, padded_shapes=([75,None,None,None],[40]))\n",
    "data = data.prefetch(tf.data.AUTOTUNE)\n"
   ]
  },
  {
   "cell_type": "markdown",
   "metadata": {},
   "source": []
  },
  {
   "cell_type": "code",
   "execution_count": 31,
   "metadata": {
    "execution": {
     "iopub.execute_input": "2023-11-04T20:00:48.624398Z",
     "iopub.status.busy": "2023-11-04T20:00:48.624131Z",
     "iopub.status.idle": "2023-11-04T20:00:48.632316Z",
     "shell.execute_reply": "2023-11-04T20:00:48.631438Z",
     "shell.execute_reply.started": "2023-11-04T20:00:48.624374Z"
    },
    "trusted": true
   },
   "outputs": [],
   "source": [
    "# Train - Test Split\n",
    "train = data.take(450)\n",
    "test = data.skip(450)"
   ]
  },
  {
   "cell_type": "code",
   "execution_count": 32,
   "metadata": {
    "execution": {
     "iopub.execute_input": "2023-11-04T20:00:48.633881Z",
     "iopub.status.busy": "2023-11-04T20:00:48.633556Z",
     "iopub.status.idle": "2023-11-04T20:00:48.649690Z",
     "shell.execute_reply": "2023-11-04T20:00:48.648787Z",
     "shell.execute_reply.started": "2023-11-04T20:00:48.633844Z"
    },
    "trusted": true
   },
   "outputs": [
    {
     "data": {
      "text/plain": [
       "450"
      ]
     },
     "execution_count": 32,
     "metadata": {},
     "output_type": "execute_result"
    }
   ],
   "source": [
    "len(train)"
   ]
  },
  {
   "cell_type": "code",
   "execution_count": 33,
   "metadata": {
    "execution": {
     "iopub.execute_input": "2023-11-04T20:00:48.651181Z",
     "iopub.status.busy": "2023-11-04T20:00:48.650918Z",
     "iopub.status.idle": "2023-11-04T20:00:49.314383Z",
     "shell.execute_reply": "2023-11-04T20:00:49.313532Z",
     "shell.execute_reply.started": "2023-11-04T20:00:48.651158Z"
    },
    "trusted": true
   },
   "outputs": [],
   "source": [
    "frames, alignments = data.as_numpy_iterator().next()"
   ]
  },
  {
   "cell_type": "code",
   "execution_count": 34,
   "metadata": {
    "execution": {
     "iopub.execute_input": "2023-11-04T20:00:49.316170Z",
     "iopub.status.busy": "2023-11-04T20:00:49.315643Z",
     "iopub.status.idle": "2023-11-04T20:00:49.321884Z",
     "shell.execute_reply": "2023-11-04T20:00:49.321028Z",
     "shell.execute_reply.started": "2023-11-04T20:00:49.316141Z"
    },
    "trusted": true
   },
   "outputs": [
    {
     "data": {
      "text/plain": [
       "2"
      ]
     },
     "execution_count": 34,
     "metadata": {},
     "output_type": "execute_result"
    }
   ],
   "source": [
    "len(frames)"
   ]
  },
  {
   "cell_type": "code",
   "execution_count": 35,
   "metadata": {
    "execution": {
     "iopub.execute_input": "2023-11-04T20:00:49.323623Z",
     "iopub.status.busy": "2023-11-04T20:00:49.323307Z",
     "iopub.status.idle": "2023-11-04T20:00:49.337725Z",
     "shell.execute_reply": "2023-11-04T20:00:49.336885Z",
     "shell.execute_reply.started": "2023-11-04T20:00:49.323597Z"
    },
    "tags": [],
    "trusted": true
   },
   "outputs": [],
   "source": [
    "sample = data.as_numpy_iterator()"
   ]
  },
  {
   "cell_type": "code",
   "execution_count": 36,
   "metadata": {
    "execution": {
     "iopub.execute_input": "2023-11-04T20:00:49.339513Z",
     "iopub.status.busy": "2023-11-04T20:00:49.339184Z",
     "iopub.status.idle": "2023-11-04T20:00:49.782356Z",
     "shell.execute_reply": "2023-11-04T20:00:49.781146Z",
     "shell.execute_reply.started": "2023-11-04T20:00:49.339482Z"
    },
    "scrolled": true,
    "tags": [],
    "trusted": true
   },
   "outputs": [
    {
     "data": {
      "text/plain": [
       "array([[[[[1.4033439 ],\n",
       "          [1.4033439 ],\n",
       "          [1.4393271 ],\n",
       "          ...,\n",
       "          [0.35983178],\n",
       "          [0.35983178],\n",
       "          [0.35983178]],\n",
       "\n",
       "         [[1.4033439 ],\n",
       "          [1.4033439 ],\n",
       "          [1.4393271 ],\n",
       "          ...,\n",
       "          [0.35983178],\n",
       "          [0.35983178],\n",
       "          [0.35983178]],\n",
       "\n",
       "         [[1.4033439 ],\n",
       "          [1.4033439 ],\n",
       "          [1.3673607 ],\n",
       "          ...,\n",
       "          [0.35983178],\n",
       "          [0.35983178],\n",
       "          [0.35983178]],\n",
       "\n",
       "         ...,\n",
       "\n",
       "         [[1.0435121 ],\n",
       "          [1.0435121 ],\n",
       "          [1.007529  ],\n",
       "          ...,\n",
       "          [0.03598318],\n",
       "          [0.03598318],\n",
       "          [0.        ]],\n",
       "\n",
       "         [[1.0435121 ],\n",
       "          [1.0435121 ],\n",
       "          [1.007529  ],\n",
       "          ...,\n",
       "          [0.07196636],\n",
       "          [0.        ],\n",
       "          [0.        ]],\n",
       "\n",
       "         [[1.0435121 ],\n",
       "          [1.0435121 ],\n",
       "          [1.007529  ],\n",
       "          ...,\n",
       "          [0.03598318],\n",
       "          [0.        ],\n",
       "          [9.175711  ]]],\n",
       "\n",
       "\n",
       "        [[[1.5112935 ],\n",
       "          [1.5112935 ],\n",
       "          [1.4393271 ],\n",
       "          ...,\n",
       "          [0.39581496],\n",
       "          [0.3238486 ],\n",
       "          [0.28786543]],\n",
       "\n",
       "         [[1.5112935 ],\n",
       "          [1.5112935 ],\n",
       "          [1.4393271 ],\n",
       "          ...,\n",
       "          [0.39581496],\n",
       "          [0.3238486 ],\n",
       "          [0.28786543]],\n",
       "\n",
       "         [[1.5112935 ],\n",
       "          [1.5112935 ],\n",
       "          [1.3673607 ],\n",
       "          ...,\n",
       "          [0.28786543],\n",
       "          [0.25188226],\n",
       "          [0.25188226]],\n",
       "\n",
       "         ...,\n",
       "\n",
       "         [[0.9715458 ],\n",
       "          [0.9715458 ],\n",
       "          [0.9355626 ],\n",
       "          ...,\n",
       "          [0.03598318],\n",
       "          [0.03598318],\n",
       "          [0.        ]],\n",
       "\n",
       "         [[0.9715458 ],\n",
       "          [0.9715458 ],\n",
       "          [0.9355626 ],\n",
       "          ...,\n",
       "          [0.03598318],\n",
       "          [0.        ],\n",
       "          [0.        ]],\n",
       "\n",
       "         [[0.9715458 ],\n",
       "          [0.9715458 ],\n",
       "          [0.9355626 ],\n",
       "          ...,\n",
       "          [0.        ],\n",
       "          [0.        ],\n",
       "          [9.175711  ]]],\n",
       "\n",
       "\n",
       "        [[[1.4033439 ],\n",
       "          [1.4033439 ],\n",
       "          [1.3673607 ],\n",
       "          ...,\n",
       "          [0.3238486 ],\n",
       "          [0.35983178],\n",
       "          [0.3238486 ]],\n",
       "\n",
       "         [[1.4033439 ],\n",
       "          [1.4033439 ],\n",
       "          [1.3673607 ],\n",
       "          ...,\n",
       "          [0.3238486 ],\n",
       "          [0.35983178],\n",
       "          [0.3238486 ]],\n",
       "\n",
       "         [[1.4753103 ],\n",
       "          [1.4753103 ],\n",
       "          [1.3673607 ],\n",
       "          ...,\n",
       "          [0.28786543],\n",
       "          [0.28786543],\n",
       "          [0.28786543]],\n",
       "\n",
       "         ...,\n",
       "\n",
       "         [[1.007529  ],\n",
       "          [1.007529  ],\n",
       "          [0.9715458 ],\n",
       "          ...,\n",
       "          [0.07196636],\n",
       "          [0.07196636],\n",
       "          [0.03598318]],\n",
       "\n",
       "         [[0.9715458 ],\n",
       "          [0.9715458 ],\n",
       "          [0.9355626 ],\n",
       "          ...,\n",
       "          [0.03598318],\n",
       "          [9.175711  ],\n",
       "          [9.175711  ]],\n",
       "\n",
       "         [[0.9715458 ],\n",
       "          [0.9715458 ],\n",
       "          [0.9355626 ],\n",
       "          ...,\n",
       "          [0.        ],\n",
       "          [9.175711  ],\n",
       "          [9.139728  ]]],\n",
       "\n",
       "\n",
       "        ...,\n",
       "\n",
       "\n",
       "        [[[1.4753103 ],\n",
       "          [1.4753103 ],\n",
       "          [1.4753103 ],\n",
       "          ...,\n",
       "          [0.28786543],\n",
       "          [0.28786543],\n",
       "          [0.28786543]],\n",
       "\n",
       "         [[1.4753103 ],\n",
       "          [1.4753103 ],\n",
       "          [1.4753103 ],\n",
       "          ...,\n",
       "          [0.28786543],\n",
       "          [0.28786543],\n",
       "          [0.28786543]],\n",
       "\n",
       "         [[1.4393271 ],\n",
       "          [1.3673607 ],\n",
       "          [1.4033439 ],\n",
       "          ...,\n",
       "          [0.35983178],\n",
       "          [0.3238486 ],\n",
       "          [0.3238486 ]],\n",
       "\n",
       "         ...,\n",
       "\n",
       "         [[0.9715458 ],\n",
       "          [0.9715458 ],\n",
       "          [0.9715458 ],\n",
       "          ...,\n",
       "          [0.07196636],\n",
       "          [0.03598318],\n",
       "          [0.03598318]],\n",
       "\n",
       "         [[0.9715458 ],\n",
       "          [0.9715458 ],\n",
       "          [0.9715458 ],\n",
       "          ...,\n",
       "          [0.07196636],\n",
       "          [0.03598318],\n",
       "          [0.03598318]],\n",
       "\n",
       "         [[0.9715458 ],\n",
       "          [0.9715458 ],\n",
       "          [0.9715458 ],\n",
       "          ...,\n",
       "          [0.07196636],\n",
       "          [0.03598318],\n",
       "          [0.        ]]],\n",
       "\n",
       "\n",
       "        [[[1.4393271 ],\n",
       "          [1.4393271 ],\n",
       "          [1.4753103 ],\n",
       "          ...,\n",
       "          [0.3238486 ],\n",
       "          [0.28786543],\n",
       "          [0.28786543]],\n",
       "\n",
       "         [[1.4393271 ],\n",
       "          [1.4393271 ],\n",
       "          [1.4753103 ],\n",
       "          ...,\n",
       "          [0.3238486 ],\n",
       "          [0.28786543],\n",
       "          [0.28786543]],\n",
       "\n",
       "         [[1.4753103 ],\n",
       "          [1.4393271 ],\n",
       "          [1.4753103 ],\n",
       "          ...,\n",
       "          [0.3238486 ],\n",
       "          [0.3238486 ],\n",
       "          [0.3238486 ]],\n",
       "\n",
       "         ...,\n",
       "\n",
       "         [[1.007529  ],\n",
       "          [1.007529  ],\n",
       "          [1.007529  ],\n",
       "          ...,\n",
       "          [0.03598318],\n",
       "          [0.03598318],\n",
       "          [0.03598318]],\n",
       "\n",
       "         [[0.9715458 ],\n",
       "          [0.9715458 ],\n",
       "          [0.9715458 ],\n",
       "          ...,\n",
       "          [0.03598318],\n",
       "          [0.03598318],\n",
       "          [0.03598318]],\n",
       "\n",
       "         [[0.9715458 ],\n",
       "          [0.9715458 ],\n",
       "          [0.9715458 ],\n",
       "          ...,\n",
       "          [0.03598318],\n",
       "          [0.03598318],\n",
       "          [0.        ]]],\n",
       "\n",
       "\n",
       "        [[[1.4393271 ],\n",
       "          [1.4393271 ],\n",
       "          [1.4753103 ],\n",
       "          ...,\n",
       "          [0.3238486 ],\n",
       "          [0.28786543],\n",
       "          [0.28786543]],\n",
       "\n",
       "         [[1.4393271 ],\n",
       "          [1.4393271 ],\n",
       "          [1.4753103 ],\n",
       "          ...,\n",
       "          [0.3238486 ],\n",
       "          [0.28786543],\n",
       "          [0.28786543]],\n",
       "\n",
       "         [[1.4393271 ],\n",
       "          [1.3673607 ],\n",
       "          [1.4033439 ],\n",
       "          ...,\n",
       "          [0.3238486 ],\n",
       "          [0.3238486 ],\n",
       "          [0.3238486 ]],\n",
       "\n",
       "         ...,\n",
       "\n",
       "         [[1.0435121 ],\n",
       "          [1.0435121 ],\n",
       "          [1.0435121 ],\n",
       "          ...,\n",
       "          [0.03598318],\n",
       "          [0.03598318],\n",
       "          [0.03598318]],\n",
       "\n",
       "         [[1.0435121 ],\n",
       "          [1.0435121 ],\n",
       "          [1.007529  ],\n",
       "          ...,\n",
       "          [0.03598318],\n",
       "          [0.03598318],\n",
       "          [0.03598318]],\n",
       "\n",
       "         [[1.007529  ],\n",
       "          [1.007529  ],\n",
       "          [1.007529  ],\n",
       "          ...,\n",
       "          [0.03598318],\n",
       "          [0.        ],\n",
       "          [0.        ]]]],\n",
       "\n",
       "\n",
       "\n",
       "       [[[[1.5850086 ],\n",
       "          [1.5850086 ],\n",
       "          [1.5095321 ],\n",
       "          ...,\n",
       "          [0.3019064 ],\n",
       "          [0.2641681 ],\n",
       "          [0.2641681 ]],\n",
       "\n",
       "         [[1.622747  ],\n",
       "          [1.5850086 ],\n",
       "          [1.5095321 ],\n",
       "          ...,\n",
       "          [0.3019064 ],\n",
       "          [0.2641681 ],\n",
       "          [0.2641681 ]],\n",
       "\n",
       "         [[1.4717938 ],\n",
       "          [1.4717938 ],\n",
       "          [1.4717938 ],\n",
       "          ...,\n",
       "          [0.3019064 ],\n",
       "          [0.3019064 ],\n",
       "          [0.3019064 ]],\n",
       "\n",
       "         ...,\n",
       "\n",
       "         [[0.98119587],\n",
       "          [0.98119587],\n",
       "          [0.98119587],\n",
       "          ...,\n",
       "          [0.0377383 ],\n",
       "          [0.        ],\n",
       "          [0.        ]],\n",
       "\n",
       "         [[0.98119587],\n",
       "          [0.98119587],\n",
       "          [1.0189341 ],\n",
       "          ...,\n",
       "          [0.0377383 ],\n",
       "          [0.        ],\n",
       "          [0.        ]],\n",
       "\n",
       "         [[1.0189341 ],\n",
       "          [1.0189341 ],\n",
       "          [1.0189341 ],\n",
       "          ...,\n",
       "          [0.0377383 ],\n",
       "          [0.        ],\n",
       "          [9.623267  ]]],\n",
       "\n",
       "\n",
       "        [[[1.4340554 ],\n",
       "          [1.4340554 ],\n",
       "          [1.4340554 ],\n",
       "          ...,\n",
       "          [0.2264298 ],\n",
       "          [0.2264298 ],\n",
       "          [0.2264298 ]],\n",
       "\n",
       "         [[1.3963171 ],\n",
       "          [1.3963171 ],\n",
       "          [1.4340554 ],\n",
       "          ...,\n",
       "          [0.2264298 ],\n",
       "          [0.2264298 ],\n",
       "          [0.2264298 ]],\n",
       "\n",
       "         [[1.4717938 ],\n",
       "          [1.4717938 ],\n",
       "          [1.3963171 ],\n",
       "          ...,\n",
       "          [0.2641681 ],\n",
       "          [0.2641681 ],\n",
       "          [0.2641681 ]],\n",
       "\n",
       "         ...,\n",
       "\n",
       "         [[1.0189341 ],\n",
       "          [1.0189341 ],\n",
       "          [1.0189341 ],\n",
       "          ...,\n",
       "          [0.0377383 ],\n",
       "          [0.        ],\n",
       "          [0.        ]],\n",
       "\n",
       "         [[1.0189341 ],\n",
       "          [1.0189341 ],\n",
       "          [1.0189341 ],\n",
       "          ...,\n",
       "          [0.0377383 ],\n",
       "          [0.        ],\n",
       "          [9.623267  ]],\n",
       "\n",
       "         [[1.0189341 ],\n",
       "          [0.98119587],\n",
       "          [0.98119587],\n",
       "          ...,\n",
       "          [0.0377383 ],\n",
       "          [9.623267  ],\n",
       "          [9.623267  ]]],\n",
       "\n",
       "\n",
       "        [[[1.4340554 ],\n",
       "          [1.4340554 ],\n",
       "          [1.4340554 ],\n",
       "          ...,\n",
       "          [0.3019064 ],\n",
       "          [0.2641681 ],\n",
       "          [0.2641681 ]],\n",
       "\n",
       "         [[1.3963171 ],\n",
       "          [1.3963171 ],\n",
       "          [1.4340554 ],\n",
       "          ...,\n",
       "          [0.3019064 ],\n",
       "          [0.2641681 ],\n",
       "          [0.2641681 ]],\n",
       "\n",
       "         [[1.4717938 ],\n",
       "          [1.4717938 ],\n",
       "          [1.3963171 ],\n",
       "          ...,\n",
       "          [0.33964473],\n",
       "          [0.3019064 ],\n",
       "          [0.3019064 ]],\n",
       "\n",
       "         ...,\n",
       "\n",
       "         [[1.0189341 ],\n",
       "          [1.0189341 ],\n",
       "          [1.0189341 ],\n",
       "          ...,\n",
       "          [0.0377383 ],\n",
       "          [0.        ],\n",
       "          [0.        ]],\n",
       "\n",
       "         [[1.0189341 ],\n",
       "          [1.0189341 ],\n",
       "          [1.0189341 ],\n",
       "          ...,\n",
       "          [0.0377383 ],\n",
       "          [0.        ],\n",
       "          [9.623267  ]],\n",
       "\n",
       "         [[1.0189341 ],\n",
       "          [0.98119587],\n",
       "          [0.98119587],\n",
       "          ...,\n",
       "          [0.0377383 ],\n",
       "          [9.623267  ],\n",
       "          [9.623267  ]]],\n",
       "\n",
       "\n",
       "        ...,\n",
       "\n",
       "\n",
       "        [[[1.3963171 ],\n",
       "          [1.4717938 ],\n",
       "          [1.5850086 ],\n",
       "          ...,\n",
       "          [0.33964473],\n",
       "          [0.33964473],\n",
       "          [0.33964473]],\n",
       "\n",
       "         [[1.4717938 ],\n",
       "          [1.5472704 ],\n",
       "          [1.4717938 ],\n",
       "          ...,\n",
       "          [0.33964473],\n",
       "          [0.33964473],\n",
       "          [0.33964473]],\n",
       "\n",
       "         [[1.5095321 ],\n",
       "          [1.5095321 ],\n",
       "          [1.4340554 ],\n",
       "          ...,\n",
       "          [0.3019064 ],\n",
       "          [0.33964473],\n",
       "          [0.33964473]],\n",
       "\n",
       "         ...,\n",
       "\n",
       "         [[0.98119587],\n",
       "          [0.98119587],\n",
       "          [0.98119587],\n",
       "          ...,\n",
       "          [0.0377383 ],\n",
       "          [0.0377383 ],\n",
       "          [0.0377383 ]],\n",
       "\n",
       "         [[0.98119587],\n",
       "          [0.98119587],\n",
       "          [0.98119587],\n",
       "          ...,\n",
       "          [0.0377383 ],\n",
       "          [0.0377383 ],\n",
       "          [0.        ]],\n",
       "\n",
       "         [[0.98119587],\n",
       "          [0.98119587],\n",
       "          [0.98119587],\n",
       "          ...,\n",
       "          [0.0377383 ],\n",
       "          [0.        ],\n",
       "          [0.        ]]],\n",
       "\n",
       "\n",
       "        [[[1.4340554 ],\n",
       "          [1.5095321 ],\n",
       "          [1.5472704 ],\n",
       "          ...,\n",
       "          [0.37738302],\n",
       "          [0.37738302],\n",
       "          [0.37738302]],\n",
       "\n",
       "         [[1.5095321 ],\n",
       "          [1.5472704 ],\n",
       "          [1.3585789 ],\n",
       "          ...,\n",
       "          [0.37738302],\n",
       "          [0.37738302],\n",
       "          [0.37738302]],\n",
       "\n",
       "         [[1.5095321 ],\n",
       "          [1.5095321 ],\n",
       "          [1.3963171 ],\n",
       "          ...,\n",
       "          [0.37738302],\n",
       "          [0.37738302],\n",
       "          [0.37738302]],\n",
       "\n",
       "         ...,\n",
       "\n",
       "         [[0.98119587],\n",
       "          [0.98119587],\n",
       "          [0.98119587],\n",
       "          ...,\n",
       "          [0.0377383 ],\n",
       "          [0.0377383 ],\n",
       "          [0.0377383 ]],\n",
       "\n",
       "         [[0.98119587],\n",
       "          [0.98119587],\n",
       "          [0.98119587],\n",
       "          ...,\n",
       "          [0.0377383 ],\n",
       "          [0.0377383 ],\n",
       "          [0.0377383 ]],\n",
       "\n",
       "         [[0.98119587],\n",
       "          [0.98119587],\n",
       "          [0.98119587],\n",
       "          ...,\n",
       "          [0.0377383 ],\n",
       "          [0.0377383 ],\n",
       "          [0.        ]]],\n",
       "\n",
       "\n",
       "        [[[1.3585789 ],\n",
       "          [1.3963171 ],\n",
       "          [1.5095321 ],\n",
       "          ...,\n",
       "          [0.41512132],\n",
       "          [0.37738302],\n",
       "          [0.37738302]],\n",
       "\n",
       "         [[1.3963171 ],\n",
       "          [1.3963171 ],\n",
       "          [1.3208406 ],\n",
       "          ...,\n",
       "          [0.41512132],\n",
       "          [0.37738302],\n",
       "          [0.37738302]],\n",
       "\n",
       "         [[1.3963171 ],\n",
       "          [1.3963171 ],\n",
       "          [1.3208406 ],\n",
       "          ...,\n",
       "          [0.3019064 ],\n",
       "          [0.3019064 ],\n",
       "          [0.2264298 ]],\n",
       "\n",
       "         ...,\n",
       "\n",
       "         [[0.94345754],\n",
       "          [0.94345754],\n",
       "          [0.94345754],\n",
       "          ...,\n",
       "          [0.0377383 ],\n",
       "          [0.0377383 ],\n",
       "          [0.0377383 ]],\n",
       "\n",
       "         [[0.94345754],\n",
       "          [0.94345754],\n",
       "          [0.94345754],\n",
       "          ...,\n",
       "          [0.0377383 ],\n",
       "          [0.0377383 ],\n",
       "          [0.        ]],\n",
       "\n",
       "         [[0.94345754],\n",
       "          [0.94345754],\n",
       "          [0.94345754],\n",
       "          ...,\n",
       "          [0.0377383 ],\n",
       "          [0.        ],\n",
       "          [0.        ]]]]], dtype=float32)"
      ]
     },
     "execution_count": 36,
     "metadata": {},
     "output_type": "execute_result"
    }
   ],
   "source": [
    "val = sample.next()\n",
    "val[0]"
   ]
  },
  {
   "cell_type": "code",
   "execution_count": 37,
   "metadata": {
    "execution": {
     "iopub.execute_input": "2023-11-04T20:00:49.785774Z",
     "iopub.status.busy": "2023-11-04T20:00:49.785393Z",
     "iopub.status.idle": "2023-11-04T20:00:49.796646Z",
     "shell.execute_reply": "2023-11-04T20:00:49.793908Z",
     "shell.execute_reply.started": "2023-11-04T20:00:49.785721Z"
    },
    "trusted": true
   },
   "outputs": [
    {
     "data": {
      "text/plain": [
       "(2, 75, 46, 140, 1)"
      ]
     },
     "execution_count": 37,
     "metadata": {},
     "output_type": "execute_result"
    }
   ],
   "source": [
    "val[0].shape"
   ]
  },
  {
   "cell_type": "code",
   "execution_count": 38,
   "metadata": {
    "execution": {
     "iopub.execute_input": "2023-11-04T20:00:49.798786Z",
     "iopub.status.busy": "2023-11-04T20:00:49.798463Z",
     "iopub.status.idle": "2023-11-04T20:00:49.806083Z",
     "shell.execute_reply": "2023-11-04T20:00:49.804984Z",
     "shell.execute_reply.started": "2023-11-04T20:00:49.798755Z"
    },
    "tags": [],
    "trusted": true
   },
   "outputs": [],
   "source": [
    "# imageio.mimsave('./animation.gif', val[0][0], fps=10)"
   ]
  },
  {
   "cell_type": "code",
   "execution_count": 39,
   "metadata": {
    "execution": {
     "iopub.execute_input": "2023-11-04T20:00:49.808565Z",
     "iopub.status.busy": "2023-11-04T20:00:49.808316Z",
     "iopub.status.idle": "2023-11-04T20:00:50.092652Z",
     "shell.execute_reply": "2023-11-04T20:00:50.091526Z",
     "shell.execute_reply.started": "2023-11-04T20:00:49.808544Z"
    },
    "tags": [],
    "trusted": true
   },
   "outputs": [
    {
     "data": {
      "text/plain": [
       "<matplotlib.image.AxesImage at 0x2442ca524d0>"
      ]
     },
     "execution_count": 39,
     "metadata": {},
     "output_type": "execute_result"
    },
    {
     "data": {
      "image/png": "[encoded data removed]",
      "text/plain": [
       "<Figure size 640x480 with 1 Axes>"
      ]
     },
     "metadata": {},
     "output_type": "display_data"
    }
   ],
   "source": [
    "# 0:videos, 0: 1st video out of the batch,  0: return the first frame in the video \n",
    "plt.imshow(val[0][0][23])"
   ]
  },
  {
   "cell_type": "code",
   "execution_count": 40,
   "metadata": {
    "execution": {
     "iopub.execute_input": "2023-11-04T20:00:50.095494Z",
     "iopub.status.busy": "2023-11-04T20:00:50.095193Z",
     "iopub.status.idle": "2023-11-04T20:00:50.169049Z",
     "shell.execute_reply": "2023-11-04T20:00:50.168039Z",
     "shell.execute_reply.started": "2023-11-04T20:00:50.095468Z"
    },
    "tags": [],
    "trusted": true
   },
   "outputs": [
    {
     "data": {
      "text/plain": [
       "<tf.Tensor: shape=(), dtype=string, numpy=b'place white in j two now'>"
      ]
     },
     "execution_count": 40,
     "metadata": {},
     "output_type": "execute_result"
    }
   ],
   "source": [
    "tf.strings.reduce_join([num_to_char(word) for word in val[1][0]])"
   ]
  },
  {
   "cell_type": "markdown",
   "metadata": {
    "tags": []
   },
   "source": [
    "# 3. Design the Deep Neural Network"
   ]
  },
  {
   "cell_type": "code",
   "execution_count": 41,
   "metadata": {
    "execution": {
     "iopub.execute_input": "2023-11-04T20:00:50.181454Z",
     "iopub.status.busy": "2023-11-04T20:00:50.181079Z",
     "iopub.status.idle": "2023-11-04T20:00:50.194539Z",
     "shell.execute_reply": "2023-11-04T20:00:50.192467Z",
     "shell.execute_reply.started": "2023-11-04T20:00:50.181429Z"
    },
    "tags": [],
    "trusted": true
   },
   "outputs": [],
   "source": [
    "from tensorflow.keras.models import Sequential \n",
    "from tensorflow.keras.layers import Conv3D, LSTM, Dense, Dropout, Bidirectional, MaxPool3D, Activation, Reshape, SpatialDropout3D, BatchNormalization, TimeDistributed, Flatten\n",
    "from tensorflow.keras.optimizers import Adam\n",
    "from tensorflow.keras.callbacks import ModelCheckpoint, LearningRateScheduler"
   ]
  },
  {
   "cell_type": "code",
   "execution_count": 42,
   "metadata": {
    "execution": {
     "iopub.execute_input": "2023-11-04T20:00:50.198037Z",
     "iopub.status.busy": "2023-11-04T20:00:50.196732Z",
     "iopub.status.idle": "2023-11-04T20:00:51.070693Z",
     "shell.execute_reply": "2023-11-04T20:00:51.069707Z",
     "shell.execute_reply.started": "2023-11-04T20:00:50.198003Z"
    },
    "trusted": true
   },
   "outputs": [
    {
     "data": {
      "text/plain": [
       "(75, 46, 140, 1)"
      ]
     },
     "execution_count": 42,
     "metadata": {},
     "output_type": "execute_result"
    }
   ],
   "source": [
    "data.as_numpy_iterator().next()[0][0].shape"
   ]
  },
  {
   "cell_type": "code",
   "execution_count": 43,
   "metadata": {
    "execution": {
     "iopub.execute_input": "2023-11-04T20:00:51.072327Z",
     "iopub.status.busy": "2023-11-04T20:00:51.072027Z",
     "iopub.status.idle": "2023-11-04T20:00:53.125310Z",
     "shell.execute_reply": "2023-11-04T20:00:53.124526Z",
     "shell.execute_reply.started": "2023-11-04T20:00:51.072302Z"
    },
    "tags": [],
    "trusted": true
   },
   "outputs": [],
   "source": [
    "model = Sequential()\n",
    "model.add(Conv3D(128, 3, input_shape=(75,46,140,1), padding='same'))\n",
    "model.add(Activation('relu'))\n",
    "model.add(MaxPool3D((1,2,2)))\n",
    "\n",
    "model.add(Conv3D(256, 3, padding='same'))\n",
    "model.add(Activation('relu'))\n",
    "model.add(MaxPool3D((1,2,2)))\n",
    "\n",
    "model.add(Conv3D(75, 3, padding='same'))\n",
    "model.add(Activation('relu'))\n",
    "model.add(MaxPool3D((1,2,2)))\n",
    "\n",
    "model.add(TimeDistributed(Flatten()))\n",
    "\n",
    "model.add(Bidirectional(LSTM(128, kernel_initializer='Orthogonal', return_sequences=True)))\n",
    "model.add(Dropout(.5))\n",
    "\n",
    "model.add(Bidirectional(LSTM(128, kernel_initializer='Orthogonal', return_sequences=True)))\n",
    "model.add(Dropout(.5))\n",
    "\n",
    "model.add(Dense(char_to_num.vocabulary_size()+1, kernel_initializer='he_normal', activation='softmax'))"
   ]
  },
  {
   "cell_type": "code",
   "execution_count": 44,
   "metadata": {
    "execution": {
     "iopub.execute_input": "2023-11-04T20:00:53.127229Z",
     "iopub.status.busy": "2023-11-04T20:00:53.126871Z",
     "iopub.status.idle": "2023-11-04T20:00:53.172782Z",
     "shell.execute_reply": "2023-11-04T20:00:53.171895Z",
     "shell.execute_reply.started": "2023-11-04T20:00:53.127195Z"
    },
    "tags": [],
    "trusted": true
   },
   "outputs": [
    {
     "name": "stdout",
     "output_type": "stream",
     "text": [
      "Model: \"sequential\"\n",
      "_________________________________________________________________\n",
      " Layer (type)                Output Shape              Param #   \n",
      "=================================================================\n",
      " conv3d (Conv3D)             (None, 75, 46, 140, 128)  3584      \n",
      "                                                                 \n",
      " activation (Activation)     (None, 75, 46, 140, 128)  0         \n",
      "                                                                 \n",
      " max_pooling3d (MaxPooling3D  (None, 75, 23, 70, 128)  0         \n",
      " )                                                               \n",
      "                                                                 \n",
      " conv3d_1 (Conv3D)           (None, 75, 23, 70, 256)   884992    \n",
      "                                                                 \n",
      " activation_1 (Activation)   (None, 75, 23, 70, 256)   0         \n",
      "                                                                 \n",
      " max_pooling3d_1 (MaxPooling  (None, 75, 11, 35, 256)  0         \n",
      " 3D)                                                             \n",
      "                                                                 \n",
      " conv3d_2 (Conv3D)           (None, 75, 11, 35, 75)    518475    \n",
      "                                                                 \n",
      " activation_2 (Activation)   (None, 75, 11, 35, 75)    0         \n",
      "                                                                 \n",
      " max_pooling3d_2 (MaxPooling  (None, 75, 5, 17, 75)    0         \n",
      " 3D)                                                             \n",
      "                                                                 \n",
      " time_distributed (TimeDistr  (None, 75, 6375)         0         \n",
      " ibuted)                                                         \n",
      "                                                                 \n",
      " bidirectional (Bidirectiona  (None, 75, 256)          6660096   \n",
      " l)                                                              \n",
      "                                                                 \n",
      " dropout (Dropout)           (None, 75, 256)           0         \n",
      "                                                                 \n",
      " bidirectional_1 (Bidirectio  (None, 75, 256)          394240    \n",
      " nal)                                                            \n",
      "                                                                 \n",
      " dropout_1 (Dropout)         (None, 75, 256)           0         \n",
      "                                                                 \n",
      " dense (Dense)               (None, 75, 41)            10537     \n",
      "                                                                 \n",
      "=================================================================\n",
      "Total params: 8,471,924\n",
      "Trainable params: 8,471,924\n",
      "Non-trainable params: 0\n",
      "_________________________________________________________________\n"
     ]
    }
   ],
   "source": [
    "model.summary()"
   ]
  },
  {
   "cell_type": "code",
   "execution_count": 45,
   "metadata": {
    "execution": {
     "iopub.execute_input": "2023-11-04T20:00:53.174140Z",
     "iopub.status.busy": "2023-11-04T20:00:53.173878Z",
     "iopub.status.idle": "2023-11-04T20:00:53.179704Z",
     "shell.execute_reply": "2023-11-04T20:00:53.178862Z",
     "shell.execute_reply.started": "2023-11-04T20:00:53.174116Z"
    },
    "trusted": true
   },
   "outputs": [
    {
     "data": {
      "text/plain": [
       "6375"
      ]
     },
     "execution_count": 45,
     "metadata": {},
     "output_type": "execute_result"
    }
   ],
   "source": [
    "5*17*75"
   ]
  },
  {
   "cell_type": "code",
   "execution_count": 46,
   "metadata": {
    "execution": {
     "iopub.execute_input": "2023-11-04T20:00:53.180937Z",
     "iopub.status.busy": "2023-11-04T20:00:53.180647Z",
     "iopub.status.idle": "2023-11-04T20:00:56.846381Z",
     "shell.execute_reply": "2023-11-04T20:00:56.845430Z",
     "shell.execute_reply.started": "2023-11-04T20:00:53.180913Z"
    },
    "tags": [],
    "trusted": true
   },
   "outputs": [
    {
     "name": "stdout",
     "output_type": "stream",
     "text": [
      "1/1 [==============================] - 4s 4s/step\n"
     ]
    }
   ],
   "source": [
    "yhat = model.predict(val[0])"
   ]
  },
  {
   "cell_type": "code",
   "execution_count": 47,
   "metadata": {
    "execution": {
     "iopub.execute_input": "2023-11-04T20:00:56.848304Z",
     "iopub.status.busy": "2023-11-04T20:00:56.847935Z",
     "iopub.status.idle": "2023-11-04T20:00:56.938652Z",
     "shell.execute_reply": "2023-11-04T20:00:56.937808Z",
     "shell.execute_reply.started": "2023-11-04T20:00:56.848269Z"
    },
    "trusted": true
   },
   "outputs": [
    {
     "data": {
      "text/plain": [
       "<tf.Tensor: shape=(), dtype=string, numpy=b'55ggggggggggggggggggggggggggggggggggggggggggggggggggggggggggggggggggggggngu'>"
      ]
     },
     "execution_count": 47,
     "metadata": {},
     "output_type": "execute_result"
    }
   ],
   "source": [
    "tf.strings.reduce_join([num_to_char(x) for x in tf.argmax(yhat[0],axis=1)])"
   ]
  },
  {
   "cell_type": "code",
   "execution_count": 48,
   "metadata": {
    "execution": {
     "iopub.execute_input": "2023-11-04T20:00:56.940485Z",
     "iopub.status.busy": "2023-11-04T20:00:56.940137Z",
     "iopub.status.idle": "2023-11-04T20:00:57.015533Z",
     "shell.execute_reply": "2023-11-04T20:00:57.014717Z",
     "shell.execute_reply.started": "2023-11-04T20:00:56.940453Z"
    },
    "tags": [],
    "trusted": true
   },
   "outputs": [
    {
     "data": {
      "text/plain": [
       "<tf.Tensor: shape=(), dtype=string, numpy=b'55ggggggggggggggggggggggggggggggggggggggggggggggggggggggggggggggggggggggngu'>"
      ]
     },
     "execution_count": 48,
     "metadata": {},
     "output_type": "execute_result"
    }
   ],
   "source": [
    "tf.strings.reduce_join([num_to_char(tf.argmax(x)) for x in yhat[0]])"
   ]
  },
  {
   "cell_type": "code",
   "execution_count": 49,
   "metadata": {
    "execution": {
     "iopub.execute_input": "2023-11-04T20:00:57.017173Z",
     "iopub.status.busy": "2023-11-04T20:00:57.016838Z",
     "iopub.status.idle": "2023-11-04T20:00:57.023337Z",
     "shell.execute_reply": "2023-11-04T20:00:57.022460Z",
     "shell.execute_reply.started": "2023-11-04T20:00:57.017142Z"
    },
    "tags": [],
    "trusted": true
   },
   "outputs": [
    {
     "data": {
      "text/plain": [
       "(None, 75, 46, 140, 1)"
      ]
     },
     "execution_count": 49,
     "metadata": {},
     "output_type": "execute_result"
    }
   ],
   "source": [
    "model.input_shape"
   ]
  },
  {
   "cell_type": "code",
   "execution_count": 50,
   "metadata": {
    "execution": {
     "iopub.execute_input": "2023-11-04T20:00:57.024704Z",
     "iopub.status.busy": "2023-11-04T20:00:57.024442Z",
     "iopub.status.idle": "2023-11-04T20:00:57.035417Z",
     "shell.execute_reply": "2023-11-04T20:00:57.034468Z",
     "shell.execute_reply.started": "2023-11-04T20:00:57.024680Z"
    },
    "tags": [],
    "trusted": true
   },
   "outputs": [
    {
     "data": {
      "text/plain": [
       "(None, 75, 41)"
      ]
     },
     "execution_count": 50,
     "metadata": {},
     "output_type": "execute_result"
    }
   ],
   "source": [
    "model.output_shape"
   ]
  },
  {
   "cell_type": "markdown",
   "metadata": {
    "tags": []
   },
   "source": [
    "# 4. Setup Training Options and Train"
   ]
  },
  {
   "cell_type": "code",
   "execution_count": 51,
   "metadata": {
    "execution": {
     "iopub.execute_input": "2023-11-04T20:00:57.036854Z",
     "iopub.status.busy": "2023-11-04T20:00:57.036568Z",
     "iopub.status.idle": "2023-11-04T20:00:57.045583Z",
     "shell.execute_reply": "2023-11-04T20:00:57.044662Z",
     "shell.execute_reply.started": "2023-11-04T20:00:57.036831Z"
    },
    "tags": [],
    "trusted": true
   },
   "outputs": [],
   "source": [
    "def scheduler(epoch, lr):\n",
    "    if epoch < 30:\n",
    "        return lr\n",
    "    else:\n",
    "        return lr * tf.math.exp(-0.1)"
   ]
  },
  {
   "cell_type": "code",
   "execution_count": 52,
   "metadata": {
    "execution": {
     "iopub.execute_input": "2023-11-04T20:00:57.046944Z",
     "iopub.status.busy": "2023-11-04T20:00:57.046636Z",
     "iopub.status.idle": "2023-11-04T20:00:57.056924Z",
     "shell.execute_reply": "2023-11-04T20:00:57.056001Z",
     "shell.execute_reply.started": "2023-11-04T20:00:57.046921Z"
    },
    "tags": [],
    "trusted": true
   },
   "outputs": [],
   "source": [
    "# define our special CTC loss function\n",
    "def CTCLoss(y_true, y_pred):\n",
    "    batch_len = tf.cast(tf.shape(y_true)[0], dtype=\"int64\")\n",
    "    input_length = tf.cast(tf.shape(y_pred)[1], dtype=\"int64\")\n",
    "    label_length = tf.cast(tf.shape(y_true)[1], dtype=\"int64\")\n",
    "\n",
    "    input_length = input_length * tf.ones(shape=(batch_len, 1), dtype=\"int64\")\n",
    "    label_length = label_length * tf.ones(shape=(batch_len, 1), dtype=\"int64\")\n",
    "\n",
    "    loss = tf.keras.backend.ctc_batch_cost(y_true, y_pred, input_length, label_length)\n",
    "    return loss"
   ]
  },
  {
   "cell_type": "code",
   "execution_count": 53,
   "metadata": {
    "execution": {
     "iopub.execute_input": "2023-11-04T20:00:57.058394Z",
     "iopub.status.busy": "2023-11-04T20:00:57.058118Z",
     "iopub.status.idle": "2023-11-04T20:00:57.069386Z",
     "shell.execute_reply": "2023-11-04T20:00:57.068428Z",
     "shell.execute_reply.started": "2023-11-04T20:00:57.058370Z"
    },
    "tags": [],
    "trusted": true
   },
   "outputs": [],
   "source": [
    "# produce example original lable and predicted lable after each epoch to see model performance\n",
    "class ProduceExample(tf.keras.callbacks.Callback): \n",
    "    def __init__(self, dataset) -> None: \n",
    "        self.dataset = dataset.as_numpy_iterator()\n",
    "    \n",
    "    def on_epoch_end(self, epoch, logs=None) -> None:\n",
    "#         if epoh == 1 or epoch % 4 == 0:\n",
    "        data = self.dataset.next()\n",
    "        yhat = self.model.predict(data[0])\n",
    "        decoded = tf.keras.backend.ctc_decode(yhat, [75,75], greedy=False)[0][0].numpy()\n",
    "        for x in range(len(yhat)):           \n",
    "            print('Original:', tf.strings.reduce_join(num_to_char(data[1][x])).numpy().decode('utf-8'))\n",
    "            print('Prediction:', tf.strings.reduce_join(num_to_char(decoded[x])).numpy().decode('utf-8'))\n",
    "            print('-'*100)"
   ]
  },
  {
   "cell_type": "code",
   "execution_count": 54,
   "metadata": {
    "execution": {
     "iopub.execute_input": "2023-11-04T20:00:57.070873Z",
     "iopub.status.busy": "2023-11-04T20:00:57.070547Z",
     "iopub.status.idle": "2023-11-04T20:00:57.093280Z",
     "shell.execute_reply": "2023-11-04T20:00:57.092544Z",
     "shell.execute_reply.started": "2023-11-04T20:00:57.070849Z"
    },
    "tags": [],
    "trusted": true
   },
   "outputs": [],
   "source": [
    "# use adam optimizer\n",
    "model.compile(optimizer=tf.keras.optimizers.legacy.Adam(learning_rate=0.0001), loss=CTCLoss)"
   ]
  },
  {
   "cell_type": "code",
   "execution_count": 55,
   "metadata": {
    "execution": {
     "iopub.execute_input": "2023-11-04T20:00:57.094614Z",
     "iopub.status.busy": "2023-11-04T20:00:57.094354Z",
     "iopub.status.idle": "2023-11-04T20:00:57.099362Z",
     "shell.execute_reply": "2023-11-04T20:00:57.098493Z",
     "shell.execute_reply.started": "2023-11-04T20:00:57.094591Z"
    },
    "tags": [],
    "trusted": true
   },
   "outputs": [],
   "source": [
    "checkpoint_callback = ModelCheckpoint(os.path.join('models','checkpoint'), monitor='loss', save_weights_only=True) "
   ]
  },
  {
   "cell_type": "code",
   "execution_count": 56,
   "metadata": {
    "execution": {
     "iopub.execute_input": "2023-11-04T20:00:57.101375Z",
     "iopub.status.busy": "2023-11-04T20:00:57.100517Z",
     "iopub.status.idle": "2023-11-04T20:00:57.110387Z",
     "shell.execute_reply": "2023-11-04T20:00:57.109361Z",
     "shell.execute_reply.started": "2023-11-04T20:00:57.101344Z"
    },
    "tags": [],
    "trusted": true
   },
   "outputs": [],
   "source": [
    "schedule_callback = LearningRateScheduler(scheduler)"
   ]
  },
  {
   "cell_type": "code",
   "execution_count": 57,
   "metadata": {
    "execution": {
     "iopub.execute_input": "2023-11-04T20:00:57.111831Z",
     "iopub.status.busy": "2023-11-04T20:00:57.111513Z",
     "iopub.status.idle": "2023-11-04T20:00:57.132512Z",
     "shell.execute_reply": "2023-11-04T20:00:57.131844Z",
     "shell.execute_reply.started": "2023-11-04T20:00:57.111791Z"
    },
    "tags": [],
    "trusted": true
   },
   "outputs": [],
   "source": [
    "example_callback = ProduceExample(test)"
   ]
  },
  {
   "cell_type": "code",
   "execution_count": null,
   "metadata": {
    "execution": {
     "iopub.execute_input": "2023-11-04T20:00:57.133868Z",
     "iopub.status.busy": "2023-11-04T20:00:57.133583Z",
     "iopub.status.idle": "2023-11-05T03:35:01.748972Z",
     "shell.execute_reply": "2023-11-05T03:35:01.746997Z",
     "shell.execute_reply.started": "2023-11-04T20:00:57.133844Z"
    },
    "trusted": true
   },
   "outputs": [
    {
     "name": "stdout",
     "output_type": "stream",
     "text": [
      " 64/450 [===>..........................] - ETA: 4:07:55 - loss: 116.8402"
     ]
    }
   ],
   "source": [
    "history = model.fit(train, validation_data=test, epochs=1, callbacks=[checkpoint_callback, schedule_callback, example_callback])"
   ]
  },
  {
   "cell_type": "code",
   "execution_count": null,
   "metadata": {
    "execution": {
     "iopub.execute_input": "2023-11-05T04:15:52.578489Z",
     "iopub.status.busy": "2023-11-05T04:15:52.578094Z",
     "iopub.status.idle": "2023-11-05T04:15:52.583205Z",
     "shell.execute_reply": "2023-11-05T04:15:52.582141Z",
     "shell.execute_reply.started": "2023-11-05T04:15:52.578457Z"
    },
    "trusted": true
   },
   "outputs": [],
   "source": [
    "# history"
   ]
  },
  {
   "cell_type": "code",
   "execution_count": null,
   "metadata": {
    "execution": {
     "iopub.execute_input": "2023-11-05T04:33:18.849760Z",
     "iopub.status.busy": "2023-11-05T04:33:18.848842Z",
     "iopub.status.idle": "2023-11-05T04:33:18.858447Z",
     "shell.execute_reply": "2023-11-05T04:33:18.857478Z",
     "shell.execute_reply.started": "2023-11-05T04:33:18.849712Z"
    },
    "trusted": true
   },
   "outputs": [],
   "source": [
    "training_loss = [85.2746 ,70.9716 ,66.9147 ,63.9592 ,61.8173 ,60.1350 ,58.5690 ,55.7670 ,52.7824 ,50.8946 ,49.0681 ,47.0584 ,44.3900 ,42.5115 ,39.7808 ,37.8971 ,35.7804 ,33.3151 ,30.8727 ,28.5955 ,26.3424 ,24.4883 ,22.5235 ,20.8805 ,19.3281 ,17.7996 ,16.5271 ,15.0045 ,14.0592,13.1728 ,12.3935 ,11.1808 ,10.4560 ,9.8701 ,9.0793 ,8.4954 ,8.0987 ,7.6377 ,7.3532 ,6.9693 ,6.5354 ,6.3091 ,6.1269 ,5.8158 ,5.5908 ,5.5060 ,5.3135 ,5.0879 ,5.0412 ,4.9653 ]\n",
    "validation_loss = [69.1930 ,65.6452 ,62.2782 ,63.9592 ,58.2501 ,55.6897 ,55.3017 ,50.9557 ,48.8146 ,46.5846 ,45.2084 ,41.4461 ,40.2157 ,36.6420 ,34.9563 ,31.5592 ,35.7804 ,27.6424 ,26.3044 ,23.0497 ,20.3814 ,18.4825 ,17.3327 ,15.4639 ,15.1650 ,12.4896 ,11.0701 ,10.2751 ,9.1001 ,9.4078 ,8.2575 ,7.8103 ,6.9572 ,6.6227 ,5.7344 ,4.9208 ,5.0810 ,4.6688 ,4.1540 ,3.7644 ,3.7980 ,3.4402 ,3.5841 ,2.9137 ,3.5077 ,2.7765 ,2.7981 ,2.4640 ,2.2985 ,2.2633 ]"
   ]
  },
  {
   "cell_type": "code",
   "execution_count": null,
   "metadata": {
    "execution": {
     "iopub.execute_input": "2023-11-05T04:33:21.782772Z",
     "iopub.status.busy": "2023-11-05T04:33:21.781973Z",
     "iopub.status.idle": "2023-11-05T04:33:22.026187Z",
     "shell.execute_reply": "2023-11-05T04:33:22.025267Z",
     "shell.execute_reply.started": "2023-11-05T04:33:21.782731Z"
    },
    "trusted": true
   },
   "outputs": [],
   "source": [
    "\n",
    "# Plot the loss\n",
    "plt.figure()\n",
    "plt.plot(training_loss, label='Training Loss')\n",
    "plt.plot(validation_loss, label='Validation Loss')\n",
    "plt.xlabel('Epoch')\n",
    "plt.ylabel('Loss')\n",
    "plt.legend()\n",
    "plt.show()"
   ]
  },
  {
   "cell_type": "markdown",
   "metadata": {
    "tags": []
   },
   "source": [
    "# 5. Make a Prediction "
   ]
  },
  {
   "cell_type": "code",
   "execution_count": null,
   "metadata": {
    "execution": {
     "iopub.status.busy": "2023-11-05T03:35:01.750124Z",
     "iopub.status.idle": "2023-11-05T03:35:01.750612Z",
     "shell.execute_reply": "2023-11-05T03:35:01.750390Z",
     "shell.execute_reply.started": "2023-11-05T03:35:01.750366Z"
    },
    "tags": [],
    "trusted": true
   },
   "outputs": [],
   "source": [
    "url = 'https://drive.google.com/uc?id=1vWscXs4Vt0a_1IH1-ct2TCgXAZT-N3_Y'\n",
    "output = 'checkpoints.zip'\n",
    "gdown.download(url, output, quiet=False)\n",
    "gdown.extractall('checkpoints.zip', 'models')"
   ]
  },
  {
   "cell_type": "code",
   "execution_count": null,
   "metadata": {
    "execution": {
     "iopub.status.busy": "2023-11-05T03:35:01.752219Z",
     "iopub.status.idle": "2023-11-05T03:35:01.752694Z",
     "shell.execute_reply": "2023-11-05T03:35:01.752477Z",
     "shell.execute_reply.started": "2023-11-05T03:35:01.752455Z"
    },
    "tags": [],
    "trusted": true
   },
   "outputs": [],
   "source": [
    "model.load_weights('./models/checkpoint')"
   ]
  },
  {
   "cell_type": "code",
   "execution_count": null,
   "metadata": {
    "execution": {
     "iopub.execute_input": "2023-11-05T04:34:44.757900Z",
     "iopub.status.busy": "2023-11-05T04:34:44.757516Z",
     "iopub.status.idle": "2023-11-05T04:34:44.771487Z",
     "shell.execute_reply": "2023-11-05T04:34:44.770617Z",
     "shell.execute_reply.started": "2023-11-05T04:34:44.757872Z"
    },
    "tags": [],
    "trusted": true
   },
   "outputs": [],
   "source": [
    "test_data = test.as_numpy_iterator()"
   ]
  },
  {
   "cell_type": "code",
   "execution_count": null,
   "id": "58fd47ad",
   "metadata": {},
   "outputs": [],
   "source": [
    "final_loss = model.evaluate(test)\n",
    "print(f\"\\n🔍 Final CTC Loss on Test Set: {final_loss:.4f}\")\n"
   ]
  },
  {
   "cell_type": "code",
   "execution_count": null,
   "id": "a0b01454",
   "metadata": {},
   "outputs": [],
   "source": [
    "from jiwer import wer  # For word error rate (install with: pip install jiwer)\n",
    "\n",
    "test_data = test.as_numpy_iterator()\n",
    "\n",
    "total_chars = 0\n",
    "correct_chars = 0\n",
    "predictions = []\n",
    "actuals = []\n",
    "\n",
    "for batch in test:\n",
    "    X, y = batch\n",
    "    yhat = model.predict(X)\n",
    "    \n",
    "    # Decode predictions\n",
    "    decoded_preds = tf.keras.backend.ctc_decode(yhat, input_length=[yhat.shape[1]] * yhat.shape[0], greedy=True)[0][0]\n",
    "\n",
    "    for i in range(len(decoded_preds)):\n",
    "        pred_text = tf.strings.reduce_join(num_to_char(decoded_preds[i])).numpy().decode('utf-8').replace('[UNK]', '')\n",
    "        true_text = tf.strings.reduce_join(num_to_char(y[i])).numpy().decode('utf-8').replace('[UNK]', '')\n",
    "\n",
    "        predictions.append(pred_text)\n",
    "        actuals.append(true_text)\n",
    "\n",
    "        # Character-level accuracy\n",
    "        min_len = min(len(pred_text), len(true_text))\n",
    "        correct_chars += sum([pred_text[j] == true_text[j] for j in range(min_len)])\n",
    "        total_chars += len(true_text)\n",
    "\n",
    "# Final Character Accuracy\n",
    "char_accuracy = correct_chars / total_chars * 100\n",
    "print(f\"✅ Final Character Accuracy: {char_accuracy:.2f}%\")\n",
    "\n",
    "# Optional: Word Error Rate (WER)\n",
    "print(f\"📉 Word Error Rate (WER): {wer(actuals, predictions):.4f}\")\n"
   ]
  },
  {
   "cell_type": "code",
   "execution_count": null,
   "id": "7aab3c64",
   "metadata": {},
   "outputs": [],
   "source": [
    "url = 'https://drive.google.com/u/0/uc?id=1JAmcd2v0JcZStgs69VytgqwGJMlhNeaT&export=download'\n",
    "output = 'check.zip'\n",
    "gdown.download(url, output, quiet=False)\n",
    "gdown.extractall('check.zip', 'models')"
   ]
  },
  {
   "cell_type": "code",
   "execution_count": null,
   "id": "ba543da1",
   "metadata": {},
   "outputs": [],
   "source": [
    "model.load_weights('models\\models\\checkpoint')"
   ]
  },
  {
   "cell_type": "code",
   "execution_count": null,
   "id": "975b4ec8",
   "metadata": {},
   "outputs": [],
   "source": [
    "final_loss = model.evaluate(test)\n",
    "print(f\"\\n🔍 Final CTC Loss on Test Set: {final_loss:.4f}\")\n",
    "\n"
   ]
  },
  {
   "cell_type": "code",
   "execution_count": null,
   "id": "5186a793",
   "metadata": {},
   "outputs": [],
   "source": [
    "from jiwer import wer  # For word error rate (install with: pip install jiwer)\n",
    "\n",
    "test_data = test.as_numpy_iterator()\n",
    "\n",
    "total_chars = 0\n",
    "correct_chars = 0\n",
    "predictions = []\n",
    "actuals = []\n",
    "\n",
    "for batch in test:\n",
    "    X, y = batch\n",
    "    yhat = model.predict(X)\n",
    "    \n",
    "    # Decode predictions\n",
    "    decoded_preds = tf.keras.backend.ctc_decode(yhat, input_length=[yhat.shape[1]] * yhat.shape[0], greedy=True)[0][0]\n",
    "\n",
    "    for i in range(len(decoded_preds)):\n",
    "        pred_text = tf.strings.reduce_join(num_to_char(decoded_preds[i])).numpy().decode('utf-8').replace('[UNK]', '')\n",
    "        true_text = tf.strings.reduce_join(num_to_char(y[i])).numpy().decode('utf-8').replace('[UNK]', '')\n",
    "\n",
    "        predictions.append(pred_text)\n",
    "        actuals.append(true_text)\n",
    "\n",
    "        # Character-level accuracy\n",
    "        min_len = min(len(pred_text), len(true_text))\n",
    "        correct_chars += sum([pred_text[j] == true_text[j] for j in range(min_len)])\n",
    "        total_chars += len(true_text)\n",
    "\n",
    "# Final Character Accuracy\n",
    "char_accuracy = correct_chars / total_chars * 100\n",
    "print(f\"✅ Final Character Accuracy: {char_accuracy:.2f}%\")\n",
    "\n",
    "# Optional: Word Error Rate (WER)\n",
    "print(f\"📉 Word Error Rate (WER): {wer(actuals, predictions):.4f}\")\n"
   ]
  },
  {
   "cell_type": "code",
   "execution_count": null,
   "metadata": {
    "execution": {
     "iopub.execute_input": "2023-11-05T04:34:44.807305Z",
     "iopub.status.busy": "2023-11-05T04:34:44.806437Z",
     "iopub.status.idle": "2023-11-05T04:37:56.157931Z",
     "shell.execute_reply": "2023-11-05T04:37:56.156911Z",
     "shell.execute_reply.started": "2023-11-05T04:34:44.807238Z"
    },
    "tags": [],
    "trusted": true
   },
   "outputs": [],
   "source": [
    "sample = test_data.next()"
   ]
  },
  {
   "cell_type": "code",
   "execution_count": null,
   "metadata": {
    "execution": {
     "iopub.execute_input": "2023-11-05T04:37:56.161474Z",
     "iopub.status.busy": "2023-11-05T04:37:56.161158Z",
     "iopub.status.idle": "2023-11-05T04:37:56.170595Z",
     "shell.execute_reply": "2023-11-05T04:37:56.169473Z",
     "shell.execute_reply.started": "2023-11-05T04:37:56.161443Z"
    },
    "trusted": true
   },
   "outputs": [],
   "source": [
    "sample[0].shape"
   ]
  },
  {
   "cell_type": "code",
   "execution_count": null,
   "metadata": {
    "execution": {
     "iopub.execute_input": "2023-11-05T04:37:56.172707Z",
     "iopub.status.busy": "2023-11-05T04:37:56.172444Z",
     "iopub.status.idle": "2023-11-05T04:37:56.184295Z",
     "shell.execute_reply": "2023-11-05T04:37:56.183192Z",
     "shell.execute_reply.started": "2023-11-05T04:37:56.172684Z"
    },
    "trusted": true
   },
   "outputs": [],
   "source": [
    "sample[1].shape"
   ]
  },
  {
   "cell_type": "code",
   "execution_count": null,
   "metadata": {
    "execution": {
     "iopub.execute_input": "2023-11-05T04:37:56.187062Z",
     "iopub.status.busy": "2023-11-05T04:37:56.186788Z",
     "iopub.status.idle": "2023-11-05T04:37:56.196114Z",
     "shell.execute_reply": "2023-11-05T04:37:56.194342Z",
     "shell.execute_reply.started": "2023-11-05T04:37:56.187039Z"
    },
    "trusted": true
   },
   "outputs": [],
   "source": [
    "sample[1]"
   ]
  },
  {
   "cell_type": "code",
   "execution_count": null,
   "metadata": {
    "execution": {
     "iopub.execute_input": "2023-11-05T04:37:56.202372Z",
     "iopub.status.busy": "2023-11-05T04:37:56.202107Z",
     "iopub.status.idle": "2023-11-05T04:37:56.394706Z",
     "shell.execute_reply": "2023-11-05T04:37:56.392818Z",
     "shell.execute_reply.started": "2023-11-05T04:37:56.202349Z"
    },
    "tags": [],
    "trusted": true
   },
   "outputs": [],
   "source": [
    "yhat = model.predict(sample[0])"
   ]
  },
  {
   "cell_type": "code",
   "execution_count": null,
   "metadata": {
    "execution": {
     "iopub.execute_input": "2023-11-05T04:37:56.397944Z",
     "iopub.status.busy": "2023-11-05T04:37:56.397095Z",
     "iopub.status.idle": "2023-11-05T04:37:56.528511Z",
     "shell.execute_reply": "2023-11-05T04:37:56.526286Z",
     "shell.execute_reply.started": "2023-11-05T04:37:56.397905Z"
    },
    "tags": [],
    "trusted": true
   },
   "outputs": [],
   "source": [
    "print('-'*100, 'REAL TEXT')\n",
    "[tf.strings.reduce_join([num_to_char(word) for word in sentence]) for sentence in sample[1]]"
   ]
  },
  {
   "cell_type": "code",
   "execution_count": null,
   "metadata": {
    "execution": {
     "iopub.execute_input": "2023-11-05T04:37:56.530719Z",
     "iopub.status.busy": "2023-11-05T04:37:56.530430Z",
     "iopub.status.idle": "2023-11-05T04:37:56.545610Z",
     "shell.execute_reply": "2023-11-05T04:37:56.544443Z",
     "shell.execute_reply.started": "2023-11-05T04:37:56.530695Z"
    },
    "tags": [],
    "trusted": true
   },
   "outputs": [],
   "source": [
    "decoded = tf.keras.backend.ctc_decode(yhat, input_length=[75,75], greedy=True)[0][0].numpy()"
   ]
  },
  {
   "cell_type": "code",
   "execution_count": null,
   "metadata": {
    "execution": {
     "iopub.execute_input": "2023-11-05T04:37:56.547597Z",
     "iopub.status.busy": "2023-11-05T04:37:56.547326Z",
     "iopub.status.idle": "2023-11-05T04:37:56.778273Z",
     "shell.execute_reply": "2023-11-05T04:37:56.777117Z",
     "shell.execute_reply.started": "2023-11-05T04:37:56.547573Z"
    },
    "tags": [],
    "trusted": true
   },
   "outputs": [],
   "source": [
    "print('-'*100, 'PREDICTIONS')\n",
    "[tf.strings.reduce_join([num_to_char(word) for word in sentence]) for sentence in decoded]"
   ]
  },
  {
   "cell_type": "markdown",
   "metadata": {},
   "source": [
    "# Test on a Video"
   ]
  },
  {
   "cell_type": "code",
   "execution_count": null,
   "metadata": {
    "execution": {
     "iopub.execute_input": "2023-11-05T04:37:56.781544Z",
     "iopub.status.busy": "2023-11-05T04:37:56.780835Z",
     "iopub.status.idle": "2023-11-05T04:37:57.185771Z",
     "shell.execute_reply": "2023-11-05T04:37:57.184304Z",
     "shell.execute_reply.started": "2023-11-05T04:37:56.781494Z"
    },
    "trusted": true
   },
   "outputs": [],
   "source": [
    "sample = load_data(tf.convert_to_tensor('./data/s1/bras9a.mpg'))"
   ]
  },
  {
   "cell_type": "code",
   "execution_count": null,
   "metadata": {
    "execution": {
     "iopub.execute_input": "2023-11-05T04:37:57.188297Z",
     "iopub.status.busy": "2023-11-05T04:37:57.187989Z",
     "iopub.status.idle": "2023-11-05T04:37:57.245672Z",
     "shell.execute_reply": "2023-11-05T04:37:57.243360Z",
     "shell.execute_reply.started": "2023-11-05T04:37:57.188264Z"
    },
    "trusted": true
   },
   "outputs": [],
   "source": [
    "print('-'*100, 'REAL TEXT')\n",
    "[tf.strings.reduce_join([num_to_char(word) for word in sentence]) for sentence in [sample[1]]]"
   ]
  },
  {
   "cell_type": "code",
   "execution_count": null,
   "metadata": {
    "execution": {
     "iopub.execute_input": "2023-11-05T04:37:57.248193Z",
     "iopub.status.busy": "2023-11-05T04:37:57.247885Z",
     "iopub.status.idle": "2023-11-05T04:37:57.399858Z",
     "shell.execute_reply": "2023-11-05T04:37:57.398706Z",
     "shell.execute_reply.started": "2023-11-05T04:37:57.248169Z"
    },
    "trusted": true
   },
   "outputs": [],
   "source": [
    "yhat = model.predict(tf.expand_dims(sample[0], axis=0))"
   ]
  },
  {
   "cell_type": "code",
   "execution_count": null,
   "metadata": {
    "execution": {
     "iopub.execute_input": "2023-11-05T04:37:57.403150Z",
     "iopub.status.busy": "2023-11-05T04:37:57.402856Z",
     "iopub.status.idle": "2023-11-05T04:37:57.418343Z",
     "shell.execute_reply": "2023-11-05T04:37:57.417325Z",
     "shell.execute_reply.started": "2023-11-05T04:37:57.403125Z"
    },
    "trusted": true
   },
   "outputs": [],
   "source": [
    "decoded = tf.keras.backend.ctc_decode(yhat, input_length=[75], greedy=True)[0][0].numpy()"
   ]
  },
  {
   "cell_type": "code",
   "execution_count": null,
   "metadata": {
    "execution": {
     "iopub.execute_input": "2023-11-05T04:37:57.420796Z",
     "iopub.status.busy": "2023-11-05T04:37:57.420095Z",
     "iopub.status.idle": "2023-11-05T04:37:57.540800Z",
     "shell.execute_reply": "2023-11-05T04:37:57.539188Z",
     "shell.execute_reply.started": "2023-11-05T04:37:57.420760Z"
    },
    "trusted": true
   },
   "outputs": [],
   "source": [
    "print('-'*100, 'PREDICTIONS')\n",
    "[tf.strings.reduce_join([num_to_char(word) for word in sentence]) for sentence in decoded]"
   ]
  },
  {
   "cell_type": "code",
   "execution_count": null,
   "metadata": {},
   "outputs": [],
   "source": []
  },
  {
   "cell_type": "code",
   "execution_count": null,
   "metadata": {},
   "outputs": [],
   "source": []
  },
  {
   "cell_type": "code",
   "execution_count": null,
   "metadata": {},
   "outputs": [],
   "source": []
  },
  {
   "cell_type": "code",
   "execution_count": null,
   "metadata": {},
   "outputs": [],
   "source": []
  },
  {
   "cell_type": "code",
   "execution_count": null,
   "metadata": {},
   "outputs": [],
   "source": []
  },
  {
   "cell_type": "code",
   "execution_count": null,
   "metadata": {},
   "outputs": [],
   "source": []
  },
  {
   "cell_type": "code",
   "execution_count": null,
   "metadata": {},
   "outputs": [],
   "source": []
  },
  {
   "cell_type": "code",
   "execution_count": null,
   "metadata": {},
   "outputs": [],
   "source": []
  },
  {
   "cell_type": "code",
   "execution_count": null,
   "metadata": {},
   "outputs": [],
   "source": []
  },
  {
   "cell_type": "code",
   "execution_count": null,
   "metadata": {},
   "outputs": [],
   "source": []
  },
  {
   "cell_type": "code",
   "execution_count": null,
   "metadata": {},
   "outputs": [],
   "source": []
  },
  {
   "cell_type": "code",
   "execution_count": null,
   "metadata": {},
   "outputs": [],
   "source": []
  },
  {
   "cell_type": "code",
   "execution_count": null,
   "metadata": {},
   "outputs": [],
   "source": []
  },
  {
   "cell_type": "code",
   "execution_count": null,
   "metadata": {},
   "outputs": [],
   "source": []
  },
  {
   "cell_type": "code",
   "execution_count": null,
   "metadata": {},
   "outputs": [],
   "source": []
  },
  {
   "cell_type": "code",
   "execution_count": null,
   "metadata": {},
   "outputs": [],
   "source": []
  }
 ],
 "metadata": {
  "kernelspec": {
   "display_name": "Python 3",
   "language": "python",
   "name": "python3"
  },
  "language_info": {
   "codemirror_mode": {
    "name": "ipython",
    "version": 3
   },
   "file_extension": ".py",
   "mimetype": "text/x-python",
   "name": "python",
   "nbconvert_exporter": "python",
   "pygments_lexer": "ipython3",
   "version": "3.10.0"
  }
 },
 "nbformat": 4,
 "nbformat_minor": 5
}
