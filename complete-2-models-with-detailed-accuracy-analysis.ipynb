{
 "cells": [
  {
   "cell_type": "markdown",
   "metadata": {
    "tags": []
   },
   "source": [
    "# 0. Install and Import Dependencies"
   ]
  },
  {
   "cell_type": "code",
   "execution_count": 1,
   "metadata": {
    "execution": {
     "iopub.execute_input": "2023-11-16T01:01:15.733704Z",
     "iopub.status.busy": "2023-11-16T01:01:15.733384Z",
     "iopub.status.idle": "2023-11-16T01:01:19.284684Z",
     "shell.execute_reply": "2023-11-16T01:01:19.283662Z",
     "shell.execute_reply.started": "2023-11-16T01:01:15.733678Z"
    },
    "scrolled": true,
    "tags": [],
    "trusted": true
   },
   "outputs": [
    {
     "name": "stdout",
     "output_type": "stream",
     "text": [
      "Package                         Version\n",
      "------------------------------- -----------\n",
      "absl-py                         1.4.0\n",
      "apache-beam                     2.54.0\n",
      "asttokens                       3.0.0\n",
      "astunparse                      1.6.3\n",
      "beautifulsoup4                  4.13.3\n",
      "cachetools                      5.5.2\n",
      "certifi                         2025.1.31\n",
      "charset-normalizer              3.4.1\n",
      "click                           8.1.8\n",
      "cloudpickle                     2.2.1\n",
      "colorama                        0.4.6\n",
      "comm                            0.2.2\n",
      "contourpy                       1.3.1\n",
      "crcmod                          1.7\n",
      "cycler                          0.12.1\n",
      "debugpy                         1.8.13\n",
      "decorator                       5.2.1\n",
      "Deprecated                      1.2.14\n",
      "dill                            0.3.1.1\n",
      "dnspython                       2.6.1\n",
      "docopt                          0.6.2\n",
      "exceptiongroup                  1.2.2\n",
      "executing                       2.2.0\n",
      "fastavro                        1.9.4\n",
      "fasteners                       0.19\n",
      "filelock                        3.18.0\n",
      "flatbuffers                     25.2.10\n",
      "fonttools                       4.57.0\n",
      "gast                            0.4.0\n",
      "gdown                           5.2.0\n",
      "google-api-core                 2.17.1\n",
      "google-api-python-client        1.12.11\n",
      "google-apitools                 0.5.31\n",
      "google-auth                     2.28.2\n",
      "google-auth-httplib2            0.1.1\n",
      "google-auth-oauthlib            1.0.0\n",
      "google-cloud-aiplatform         1.43.0\n",
      "google-cloud-bigquery           3.18.0\n",
      "google-cloud-bigquery-storage   2.24.0\n",
      "google-cloud-bigtable           2.23.0\n",
      "google-cloud-core               2.4.1\n",
      "google-cloud-datastore          2.19.0\n",
      "google-cloud-dlp                3.16.0\n",
      "google-cloud-language           2.13.3\n",
      "google-cloud-pubsub             2.20.1\n",
      "google-cloud-pubsublite         1.9.0\n",
      "google-cloud-recommendations-ai 0.10.10\n",
      "google-cloud-resource-manager   1.12.3\n",
      "google-cloud-spanner            3.43.0\n",
      "google-cloud-storage            2.15.0\n",
      "google-cloud-videointelligence  2.13.3\n",
      "google-cloud-vision             3.7.2\n",
      "google-crc32c                   1.5.0\n",
      "google-pasta                    0.2.0\n",
      "google-resumable-media          2.7.0\n",
      "googleapis-common-protos        1.62.0\n",
      "grpc-google-iam-v1              0.13.0\n",
      "grpc-interceptor                0.15.4\n",
      "grpcio                          1.71.0\n",
      "grpcio-status                   1.48.2\n",
      "h5py                            3.13.0\n",
      "hdfs                            2.7.3\n",
      "httplib2                        0.22.0\n",
      "idna                            3.10\n",
      "imageio                         2.37.0\n",
      "ipykernel                       6.29.5\n",
      "ipython                         8.34.0\n",
      "jax                             0.4.30\n",
      "jaxlib                          0.4.30\n",
      "jedi                            0.19.2\n",
      "jiwer                           3.1.0\n",
      "joblib                          1.3.2\n",
      "Js2Py                           0.74\n",
      "jsonpickle                      3.0.3\n",
      "jupyter_client                  8.6.3\n",
      "jupyter_core                    5.7.2\n",
      "kagglehub                       0.3.11\n",
      "keras                           2.12.0\n",
      "kiwisolver                      1.4.8\n",
      "libclang                        18.1.1\n",
      "Markdown                        3.7\n",
      "MarkupSafe                      3.0.2\n",
      "matplotlib                      3.10.1\n",
      "matplotlib-inline               0.1.7\n",
      "ml_dtypes                       0.5.1\n",
      "nest-asyncio                    1.6.0\n",
      "numpy                           1.23.5\n",
      "oauth2client                    4.1.3\n",
      "oauthlib                        3.2.2\n",
      "objsize                         0.7.0\n",
      "opencv-python                   4.11.0.86\n",
      "opt_einsum                      3.4.0\n",
      "orjson                          3.9.15\n",
      "overrides                       7.7.0\n",
      "packaging                       24.2\n",
      "parso                           0.8.4\n",
      "pillow                          11.1.0\n",
      "pip                             25.0.1\n",
      "platformdirs                    4.3.7\n",
      "prompt_toolkit                  3.0.50\n",
      "proto-plus                      1.23.0\n",
      "protobuf                        4.25.6\n",
      "psutil                          7.0.0\n",
      "pure_eval                       0.2.3\n",
      "pyarrow                         10.0.1\n",
      "pyarrow-hotfix                  0.6\n",
      "pyasn1                          0.6.1\n",
      "pyasn1_modules                  0.4.2\n",
      "pydot                           1.4.2\n",
      "pyfarmhash                      0.3.2\n",
      "Pygments                        2.19.1\n",
      "pyjsparser                      2.7.1\n",
      "pymongo                         4.6.2\n",
      "pyparsing                       3.2.3\n",
      "PySocks                         1.7.1\n",
      "python-dateutil                 2.9.0.post0\n",
      "pywin32                         310\n",
      "PyYAML                          6.0.2\n",
      "pyzmq                           26.3.0\n",
      "RapidFuzz                       3.13.0\n",
      "requests                        2.32.3\n",
      "requests-oauthlib               2.0.0\n",
      "rsa                             4.9\n",
      "scipy                           1.15.2\n",
      "setuptools                      57.4.0\n",
      "shapely                         2.0.3\n",
      "six                             1.17.0\n",
      "soupsieve                       2.6\n",
      "sqlparse                        0.4.4\n",
      "stack-data                      0.6.3\n",
      "tensorboard                     2.12.3\n",
      "tensorboard-data-server         0.7.2\n",
      "tensorflow                      2.12.0\n",
      "tensorflow-data-validation      1.14.0\n",
      "tensorflow-estimator            2.12.0\n",
      "tensorflow-intel                2.12.0\n",
      "tensorflow-io-gcs-filesystem    0.31.0\n",
      "tensorflow-metadata             1.14.0\n",
      "tensorflow-serving-api          2.14.1\n",
      "termcolor                       3.0.1\n",
      "tfx-bsl                         1.14.0\n",
      "tornado                         6.4.2\n",
      "tqdm                            4.67.1\n",
      "traitlets                       5.14.3\n",
      "typing_extensions               4.13.1\n",
      "tzdata                          2024.1\n",
      "tzlocal                         5.2\n",
      "uritemplate                     3.0.1\n",
      "urllib3                         2.3.0\n",
      "wcwidth                         0.2.13\n",
      "Werkzeug                        3.1.3\n",
      "wheel                           0.45.1\n",
      "wrapt                           1.14.1\n"
     ]
    }
   ],
   "source": [
    "!pip list"
   ]
  },
  {
   "cell_type": "code",
   "execution_count": 2,
   "metadata": {
    "execution": {
     "iopub.execute_input": "2023-11-16T01:01:19.286879Z",
     "iopub.status.busy": "2023-11-16T01:01:19.286574Z",
     "iopub.status.idle": "2023-11-16T01:01:31.565919Z",
     "shell.execute_reply": "2023-11-16T01:01:31.564810Z",
     "shell.execute_reply.started": "2023-11-16T01:01:19.286851Z"
    },
    "tags": [],
    "trusted": true
   },
   "outputs": [
    {
     "name": "stdout",
     "output_type": "stream",
     "text": [
      "Defaulting to user installation because normal site-packages is not writeable\n",
      "Requirement already satisfied: opencv-python in c:\\users\\kiit\\appdata\\roaming\\python\\python310\\site-packages (4.11.0.86)\n",
      "Requirement already satisfied: matplotlib in c:\\users\\kiit\\appdata\\roaming\\python\\python310\\site-packages (3.10.1)\n",
      "Requirement already satisfied: imageio in c:\\users\\kiit\\appdata\\roaming\\python\\python310\\site-packages (2.37.0)\n",
      "Requirement already satisfied: gdown in c:\\users\\kiit\\appdata\\roaming\\python\\python310\\site-packages (5.2.0)\n",
      "Requirement already satisfied: tensorflow in c:\\users\\kiit\\appdata\\roaming\\python\\python310\\site-packages (2.12.0)\n",
      "Requirement already satisfied: numpy>=1.21.2 in c:\\users\\kiit\\appdata\\roaming\\python\\python310\\site-packages (from opencv-python) (1.23.5)\n",
      "Requirement already satisfied: contourpy>=1.0.1 in c:\\users\\kiit\\appdata\\roaming\\python\\python310\\site-packages (from matplotlib) (1.3.1)\n",
      "Requirement already satisfied: cycler>=0.10 in c:\\users\\kiit\\appdata\\roaming\\python\\python310\\site-packages (from matplotlib) (0.12.1)\n",
      "Requirement already satisfied: fonttools>=4.22.0 in c:\\users\\kiit\\appdata\\roaming\\python\\python310\\site-packages (from matplotlib) (4.57.0)\n",
      "Requirement already satisfied: kiwisolver>=1.3.1 in c:\\users\\kiit\\appdata\\roaming\\python\\python310\\site-packages (from matplotlib) (1.4.8)\n",
      "Requirement already satisfied: packaging>=20.0 in c:\\users\\kiit\\appdata\\roaming\\python\\python310\\site-packages (from matplotlib) (24.2)\n",
      "Requirement already satisfied: pillow>=8 in c:\\users\\kiit\\appdata\\roaming\\python\\python310\\site-packages (from matplotlib) (11.1.0)\n",
      "Requirement already satisfied: pyparsing>=2.3.1 in c:\\users\\kiit\\appdata\\roaming\\python\\python310\\site-packages (from matplotlib) (3.2.3)\n",
      "Requirement already satisfied: python-dateutil>=2.7 in c:\\users\\kiit\\appdata\\roaming\\python\\python310\\site-packages (from matplotlib) (2.9.0.post0)\n",
      "Requirement already satisfied: beautifulsoup4 in c:\\users\\kiit\\appdata\\roaming\\python\\python310\\site-packages (from gdown) (4.13.3)\n",
      "Requirement already satisfied: filelock in c:\\users\\kiit\\appdata\\roaming\\python\\python310\\site-packages (from gdown) (3.18.0)\n",
      "Requirement already satisfied: requests[socks] in c:\\users\\kiit\\appdata\\roaming\\python\\python310\\site-packages (from gdown) (2.32.3)\n",
      "Requirement already satisfied: tqdm in c:\\users\\kiit\\appdata\\roaming\\python\\python310\\site-packages (from gdown) (4.67.1)\n",
      "Requirement already satisfied: tensorflow-intel==2.12.0 in c:\\users\\kiit\\appdata\\roaming\\python\\python310\\site-packages (from tensorflow) (2.12.0)\n",
      "Requirement already satisfied: absl-py>=1.0.0 in c:\\users\\kiit\\appdata\\roaming\\python\\python310\\site-packages (from tensorflow-intel==2.12.0->tensorflow) (1.4.0)\n",
      "Requirement already satisfied: astunparse>=1.6.0 in c:\\users\\kiit\\appdata\\roaming\\python\\python310\\site-packages (from tensorflow-intel==2.12.0->tensorflow) (1.6.3)\n",
      "Requirement already satisfied: flatbuffers>=2.0 in c:\\users\\kiit\\appdata\\roaming\\python\\python310\\site-packages (from tensorflow-intel==2.12.0->tensorflow) (25.2.10)\n",
      "Requirement already satisfied: gast<=0.4.0,>=0.2.1 in c:\\users\\kiit\\appdata\\roaming\\python\\python310\\site-packages (from tensorflow-intel==2.12.0->tensorflow) (0.4.0)\n",
      "Requirement already satisfied: google-pasta>=0.1.1 in c:\\users\\kiit\\appdata\\roaming\\python\\python310\\site-packages (from tensorflow-intel==2.12.0->tensorflow) (0.2.0)\n",
      "Requirement already satisfied: h5py>=2.9.0 in c:\\users\\kiit\\appdata\\roaming\\python\\python310\\site-packages (from tensorflow-intel==2.12.0->tensorflow) (3.13.0)\n",
      "Requirement already satisfied: jax>=0.3.15 in c:\\users\\kiit\\appdata\\roaming\\python\\python310\\site-packages (from tensorflow-intel==2.12.0->tensorflow) (0.4.30)\n",
      "Requirement already satisfied: libclang>=13.0.0 in c:\\users\\kiit\\appdata\\roaming\\python\\python310\\site-packages (from tensorflow-intel==2.12.0->tensorflow) (18.1.1)\n",
      "Requirement already satisfied: opt-einsum>=2.3.2 in c:\\users\\kiit\\appdata\\roaming\\python\\python310\\site-packages (from tensorflow-intel==2.12.0->tensorflow) (3.4.0)\n",
      "Requirement already satisfied: protobuf!=4.21.0,!=4.21.1,!=4.21.2,!=4.21.3,!=4.21.4,!=4.21.5,<5.0.0dev,>=3.20.3 in c:\\users\\kiit\\appdata\\roaming\\python\\python310\\site-packages (from tensorflow-intel==2.12.0->tensorflow) (4.25.6)\n",
      "Requirement already satisfied: setuptools in c:\\program files\\python310\\lib\\site-packages (from tensorflow-intel==2.12.0->tensorflow) (57.4.0)\n",
      "Requirement already satisfied: six>=1.12.0 in c:\\users\\kiit\\appdata\\roaming\\python\\python310\\site-packages (from tensorflow-intel==2.12.0->tensorflow) (1.17.0)\n",
      "Requirement already satisfied: termcolor>=1.1.0 in c:\\users\\kiit\\appdata\\roaming\\python\\python310\\site-packages (from tensorflow-intel==2.12.0->tensorflow) (3.0.1)\n",
      "Requirement already satisfied: typing-extensions>=3.6.6 in c:\\users\\kiit\\appdata\\roaming\\python\\python310\\site-packages (from tensorflow-intel==2.12.0->tensorflow) (4.13.1)\n",
      "Requirement already satisfied: wrapt<1.15,>=1.11.0 in c:\\users\\kiit\\appdata\\roaming\\python\\python310\\site-packages (from tensorflow-intel==2.12.0->tensorflow) (1.14.1)\n",
      "Requirement already satisfied: grpcio<2.0,>=1.24.3 in c:\\users\\kiit\\appdata\\roaming\\python\\python310\\site-packages (from tensorflow-intel==2.12.0->tensorflow) (1.71.0)\n",
      "Requirement already satisfied: tensorboard<2.13,>=2.12 in c:\\users\\kiit\\appdata\\roaming\\python\\python310\\site-packages (from tensorflow-intel==2.12.0->tensorflow) (2.12.3)\n",
      "Requirement already satisfied: tensorflow-estimator<2.13,>=2.12.0 in c:\\users\\kiit\\appdata\\roaming\\python\\python310\\site-packages (from tensorflow-intel==2.12.0->tensorflow) (2.12.0)\n",
      "Requirement already satisfied: keras<2.13,>=2.12.0 in c:\\users\\kiit\\appdata\\roaming\\python\\python310\\site-packages (from tensorflow-intel==2.12.0->tensorflow) (2.12.0)\n",
      "Requirement already satisfied: tensorflow-io-gcs-filesystem>=0.23.1 in c:\\users\\kiit\\appdata\\roaming\\python\\python310\\site-packages (from tensorflow-intel==2.12.0->tensorflow) (0.31.0)\n",
      "Requirement already satisfied: soupsieve>1.2 in c:\\users\\kiit\\appdata\\roaming\\python\\python310\\site-packages (from beautifulsoup4->gdown) (2.6)\n",
      "Requirement already satisfied: charset-normalizer<4,>=2 in c:\\users\\kiit\\appdata\\roaming\\python\\python310\\site-packages (from requests[socks]->gdown) (3.4.1)\n",
      "Requirement already satisfied: idna<4,>=2.5 in c:\\users\\kiit\\appdata\\roaming\\python\\python310\\site-packages (from requests[socks]->gdown) (3.10)\n",
      "Requirement already satisfied: urllib3<3,>=1.21.1 in c:\\users\\kiit\\appdata\\roaming\\python\\python310\\site-packages (from requests[socks]->gdown) (2.3.0)\n",
      "Requirement already satisfied: certifi>=2017.4.17 in c:\\users\\kiit\\appdata\\roaming\\python\\python310\\site-packages (from requests[socks]->gdown) (2025.1.31)\n",
      "Requirement already satisfied: PySocks!=1.5.7,>=1.5.6 in c:\\users\\kiit\\appdata\\roaming\\python\\python310\\site-packages (from requests[socks]->gdown) (1.7.1)\n",
      "Requirement already satisfied: colorama in c:\\users\\kiit\\appdata\\roaming\\python\\python310\\site-packages (from tqdm->gdown) (0.4.6)\n",
      "Requirement already satisfied: wheel<1.0,>=0.23.0 in c:\\users\\kiit\\appdata\\roaming\\python\\python310\\site-packages (from astunparse>=1.6.0->tensorflow-intel==2.12.0->tensorflow) (0.45.1)\n",
      "Requirement already satisfied: jaxlib<=0.4.30,>=0.4.27 in c:\\users\\kiit\\appdata\\roaming\\python\\python310\\site-packages (from jax>=0.3.15->tensorflow-intel==2.12.0->tensorflow) (0.4.30)\n",
      "Requirement already satisfied: ml-dtypes>=0.2.0 in c:\\users\\kiit\\appdata\\roaming\\python\\python310\\site-packages (from jax>=0.3.15->tensorflow-intel==2.12.0->tensorflow) (0.5.1)\n",
      "Requirement already satisfied: scipy>=1.9 in c:\\users\\kiit\\appdata\\roaming\\python\\python310\\site-packages (from jax>=0.3.15->tensorflow-intel==2.12.0->tensorflow) (1.15.2)\n",
      "Requirement already satisfied: google-auth<3,>=1.6.3 in c:\\users\\kiit\\appdata\\roaming\\python\\python310\\site-packages (from tensorboard<2.13,>=2.12->tensorflow-intel==2.12.0->tensorflow) (2.28.2)\n",
      "Requirement already satisfied: google-auth-oauthlib<1.1,>=0.5 in c:\\users\\kiit\\appdata\\roaming\\python\\python310\\site-packages (from tensorboard<2.13,>=2.12->tensorflow-intel==2.12.0->tensorflow) (1.0.0)\n",
      "Requirement already satisfied: markdown>=2.6.8 in c:\\users\\kiit\\appdata\\roaming\\python\\python310\\site-packages (from tensorboard<2.13,>=2.12->tensorflow-intel==2.12.0->tensorflow) (3.7)\n",
      "Requirement already satisfied: tensorboard-data-server<0.8.0,>=0.7.0 in c:\\users\\kiit\\appdata\\roaming\\python\\python310\\site-packages (from tensorboard<2.13,>=2.12->tensorflow-intel==2.12.0->tensorflow) (0.7.2)\n",
      "Requirement already satisfied: werkzeug>=1.0.1 in c:\\users\\kiit\\appdata\\roaming\\python\\python310\\site-packages (from tensorboard<2.13,>=2.12->tensorflow-intel==2.12.0->tensorflow) (3.1.3)\n",
      "Requirement already satisfied: cachetools<6.0,>=2.0.0 in c:\\users\\kiit\\appdata\\roaming\\python\\python310\\site-packages (from google-auth<3,>=1.6.3->tensorboard<2.13,>=2.12->tensorflow-intel==2.12.0->tensorflow) (5.5.2)\n",
      "Requirement already satisfied: pyasn1-modules>=0.2.1 in c:\\users\\kiit\\appdata\\roaming\\python\\python310\\site-packages (from google-auth<3,>=1.6.3->tensorboard<2.13,>=2.12->tensorflow-intel==2.12.0->tensorflow) (0.4.2)\n",
      "Requirement already satisfied: rsa<5,>=3.1.4 in c:\\users\\kiit\\appdata\\roaming\\python\\python310\\site-packages (from google-auth<3,>=1.6.3->tensorboard<2.13,>=2.12->tensorflow-intel==2.12.0->tensorflow) (4.9)\n",
      "Requirement already satisfied: requests-oauthlib>=0.7.0 in c:\\users\\kiit\\appdata\\roaming\\python\\python310\\site-packages (from google-auth-oauthlib<1.1,>=0.5->tensorboard<2.13,>=2.12->tensorflow-intel==2.12.0->tensorflow) (2.0.0)\n",
      "Requirement already satisfied: MarkupSafe>=2.1.1 in c:\\users\\kiit\\appdata\\roaming\\python\\python310\\site-packages (from werkzeug>=1.0.1->tensorboard<2.13,>=2.12->tensorflow-intel==2.12.0->tensorflow) (3.0.2)\n",
      "Requirement already satisfied: pyasn1<0.7.0,>=0.6.1 in c:\\users\\kiit\\appdata\\roaming\\python\\python310\\site-packages (from pyasn1-modules>=0.2.1->google-auth<3,>=1.6.3->tensorboard<2.13,>=2.12->tensorflow-intel==2.12.0->tensorflow) (0.6.1)\n",
      "Requirement already satisfied: oauthlib>=3.0.0 in c:\\users\\kiit\\appdata\\roaming\\python\\python310\\site-packages (from requests-oauthlib>=0.7.0->google-auth-oauthlib<1.1,>=0.5->tensorboard<2.13,>=2.12->tensorflow-intel==2.12.0->tensorflow) (3.2.2)\n",
      "Note: you may need to restart the kernel to use updated packages.\n"
     ]
    }
   ],
   "source": [
    "%pip install opencv-python matplotlib imageio gdown tensorflow"
   ]
  },
  {
   "cell_type": "code",
   "execution_count": 3,
   "metadata": {
    "execution": {
     "iopub.execute_input": "2023-11-16T01:01:31.569275Z",
     "iopub.status.busy": "2023-11-16T01:01:31.568504Z",
     "iopub.status.idle": "2023-11-16T01:01:39.424403Z",
     "shell.execute_reply": "2023-11-16T01:01:39.423624Z",
     "shell.execute_reply.started": "2023-11-16T01:01:31.569244Z"
    },
    "tags": [],
    "trusted": true
   },
   "outputs": [],
   "source": [
    "import os\n",
    "import cv2\n",
    "import tensorflow as tf\n",
    "import numpy as np\n",
    "from typing import List\n",
    "from matplotlib import pyplot as plt\n"
   ]
  },
  {
   "cell_type": "code",
   "execution_count": 4,
   "metadata": {
    "execution": {
     "iopub.execute_input": "2023-11-16T01:01:39.427676Z",
     "iopub.status.busy": "2023-11-16T01:01:39.426957Z",
     "iopub.status.idle": "2023-11-16T01:01:39.495305Z",
     "shell.execute_reply": "2023-11-16T01:01:39.494577Z",
     "shell.execute_reply.started": "2023-11-16T01:01:39.427634Z"
    },
    "trusted": true
   },
   "outputs": [],
   "source": [
    "import imageio"
   ]
  },
  {
   "cell_type": "code",
   "execution_count": 5,
   "metadata": {
    "execution": {
     "iopub.execute_input": "2023-11-16T01:01:39.496715Z",
     "iopub.status.busy": "2023-11-16T01:01:39.496389Z",
     "iopub.status.idle": "2023-11-16T01:01:39.827526Z",
     "shell.execute_reply": "2023-11-16T01:01:39.826489Z",
     "shell.execute_reply.started": "2023-11-16T01:01:39.496687Z"
    },
    "trusted": true
   },
   "outputs": [
    {
     "data": {
      "text/plain": [
       "[]"
      ]
     },
     "execution_count": 5,
     "metadata": {},
     "output_type": "execute_result"
    }
   ],
   "source": [
    "tf.config.list_physical_devices('GPU')"
   ]
  },
  {
   "cell_type": "code",
   "execution_count": 6,
   "metadata": {
    "execution": {
     "iopub.execute_input": "2023-11-16T01:01:39.829843Z",
     "iopub.status.busy": "2023-11-16T01:01:39.828983Z",
     "iopub.status.idle": "2023-11-16T01:01:39.836424Z",
     "shell.execute_reply": "2023-11-16T01:01:39.835564Z",
     "shell.execute_reply.started": "2023-11-16T01:01:39.829805Z"
    },
    "tags": [],
    "trusted": true
   },
   "outputs": [],
   "source": [
    "physical_devices = tf.config.list_physical_devices('GPU')\n",
    "try:\n",
    "    tf.config.experimental.set_memory_growth(physical_devices[0], True)\n",
    "except:\n",
    "    pass"
   ]
  },
  {
   "cell_type": "markdown",
   "metadata": {
    "tags": []
   },
   "source": [
    "# 1. Build Data Loading Functions"
   ]
  },
  {
   "cell_type": "code",
   "execution_count": 7,
   "metadata": {
    "execution": {
     "iopub.execute_input": "2023-11-16T01:01:39.838469Z",
     "iopub.status.busy": "2023-11-16T01:01:39.837750Z",
     "iopub.status.idle": "2023-11-16T01:01:40.019714Z",
     "shell.execute_reply": "2023-11-16T01:01:40.018899Z",
     "shell.execute_reply.started": "2023-11-16T01:01:39.838420Z"
    },
    "tags": [],
    "trusted": true
   },
   "outputs": [],
   "source": [
    "import gdown"
   ]
  },
  {
   "cell_type": "code",
   "execution_count": 8,
   "metadata": {
    "execution": {
     "iopub.execute_input": "2023-11-16T01:01:40.021974Z",
     "iopub.status.busy": "2023-11-16T01:01:40.021138Z",
     "iopub.status.idle": "2023-11-16T01:02:02.192867Z",
     "shell.execute_reply": "2023-11-16T01:02:02.191833Z",
     "shell.execute_reply.started": "2023-11-16T01:01:40.021938Z"
    },
    "trusted": true
   },
   "outputs": [
    {
     "name": "stderr",
     "output_type": "stream",
     "text": [
      "Downloading...\n",
      "From (original): https://drive.google.com/uc?id=1YlvpDLix3S-U8fd-gqRwPcWXAXm8JwjL\n",
      "From (redirected): https://drive.google.com/uc?id=1YlvpDLix3S-U8fd-gqRwPcWXAXm8JwjL&confirm=t&uuid=a02e9f1f-511d-4567-915d-12a7bdf63c3f\n",
      "To: c:\\Users\\KIIT\\OneDrive\\Desktop\\python\\LIP_READING\\data.zip\n",
      " 38%|███▊      | 162M/423M [14:40<25:25, 171kB/s]  "
     ]
    },
    {
     "ename": "KeyboardInterrupt",
     "evalue": "",
     "output_type": "error",
     "traceback": [
      "\u001b[1;31m---------------------------------------------------------------------------\u001b[0m",
      "\u001b[1;31mKeyboardInterrupt\u001b[0m                         Traceback (most recent call last)",
      "Cell \u001b[1;32mIn[8], line 3\u001b[0m\n\u001b[0;32m      1\u001b[0m url \u001b[38;5;241m=\u001b[39m \u001b[38;5;124m'\u001b[39m\u001b[38;5;124mhttps://drive.google.com/uc?id=1YlvpDLix3S-U8fd-gqRwPcWXAXm8JwjL\u001b[39m\u001b[38;5;124m'\u001b[39m\n\u001b[0;32m      2\u001b[0m output \u001b[38;5;241m=\u001b[39m \u001b[38;5;124m'\u001b[39m\u001b[38;5;124mdata.zip\u001b[39m\u001b[38;5;124m'\u001b[39m\n\u001b[1;32m----> 3\u001b[0m \u001b[43mgdown\u001b[49m\u001b[38;5;241;43m.\u001b[39;49m\u001b[43mdownload\u001b[49m\u001b[43m(\u001b[49m\u001b[43murl\u001b[49m\u001b[43m,\u001b[49m\u001b[43m \u001b[49m\u001b[43moutput\u001b[49m\u001b[43m,\u001b[49m\u001b[43m \u001b[49m\u001b[43mquiet\u001b[49m\u001b[38;5;241;43m=\u001b[39;49m\u001b[38;5;28;43;01mFalse\u001b[39;49;00m\u001b[43m)\u001b[49m\n\u001b[0;32m      4\u001b[0m gdown\u001b[38;5;241m.\u001b[39mextractall(\u001b[38;5;124m'\u001b[39m\u001b[38;5;124mdata.zip\u001b[39m\u001b[38;5;124m'\u001b[39m)\n",
      "File \u001b[1;32m~\\AppData\\Roaming\\Python\\Python310\\site-packages\\gdown\\download.py:368\u001b[0m, in \u001b[0;36mdownload\u001b[1;34m(url, output, quiet, proxy, speed, use_cookies, verify, id, fuzzy, resume, format, user_agent, log_messages)\u001b[0m\n\u001b[0;32m    366\u001b[0m     pbar \u001b[38;5;241m=\u001b[39m tqdm\u001b[38;5;241m.\u001b[39mtqdm(total\u001b[38;5;241m=\u001b[39mtotal, unit\u001b[38;5;241m=\u001b[39m\u001b[38;5;124m\"\u001b[39m\u001b[38;5;124mB\u001b[39m\u001b[38;5;124m\"\u001b[39m, initial\u001b[38;5;241m=\u001b[39mstart_size, unit_scale\u001b[38;5;241m=\u001b[39m\u001b[38;5;28;01mTrue\u001b[39;00m)\n\u001b[0;32m    367\u001b[0m t_start \u001b[38;5;241m=\u001b[39m time\u001b[38;5;241m.\u001b[39mtime()\n\u001b[1;32m--> 368\u001b[0m \u001b[38;5;28;01mfor\u001b[39;00m chunk \u001b[38;5;129;01min\u001b[39;00m res\u001b[38;5;241m.\u001b[39miter_content(chunk_size\u001b[38;5;241m=\u001b[39mCHUNK_SIZE):\n\u001b[0;32m    369\u001b[0m     f\u001b[38;5;241m.\u001b[39mwrite(chunk)\n\u001b[0;32m    370\u001b[0m     \u001b[38;5;28;01mif\u001b[39;00m \u001b[38;5;129;01mnot\u001b[39;00m quiet:\n",
      "File \u001b[1;32m~\\AppData\\Roaming\\Python\\Python310\\site-packages\\requests\\models.py:820\u001b[0m, in \u001b[0;36mResponse.iter_content.<locals>.generate\u001b[1;34m()\u001b[0m\n\u001b[0;32m    818\u001b[0m \u001b[38;5;28;01mif\u001b[39;00m \u001b[38;5;28mhasattr\u001b[39m(\u001b[38;5;28mself\u001b[39m\u001b[38;5;241m.\u001b[39mraw, \u001b[38;5;124m\"\u001b[39m\u001b[38;5;124mstream\u001b[39m\u001b[38;5;124m\"\u001b[39m):\n\u001b[0;32m    819\u001b[0m     \u001b[38;5;28;01mtry\u001b[39;00m:\n\u001b[1;32m--> 820\u001b[0m         \u001b[38;5;28;01myield from\u001b[39;00m \u001b[38;5;28mself\u001b[39m\u001b[38;5;241m.\u001b[39mraw\u001b[38;5;241m.\u001b[39mstream(chunk_size, decode_content\u001b[38;5;241m=\u001b[39m\u001b[38;5;28;01mTrue\u001b[39;00m)\n\u001b[0;32m    821\u001b[0m     \u001b[38;5;28;01mexcept\u001b[39;00m ProtocolError \u001b[38;5;28;01mas\u001b[39;00m e:\n\u001b[0;32m    822\u001b[0m         \u001b[38;5;28;01mraise\u001b[39;00m ChunkedEncodingError(e)\n",
      "File \u001b[1;32m~\\AppData\\Roaming\\Python\\Python310\\site-packages\\urllib3\\response.py:1066\u001b[0m, in \u001b[0;36mHTTPResponse.stream\u001b[1;34m(self, amt, decode_content)\u001b[0m\n\u001b[0;32m   1064\u001b[0m \u001b[38;5;28;01melse\u001b[39;00m:\n\u001b[0;32m   1065\u001b[0m     \u001b[38;5;28;01mwhile\u001b[39;00m \u001b[38;5;129;01mnot\u001b[39;00m is_fp_closed(\u001b[38;5;28mself\u001b[39m\u001b[38;5;241m.\u001b[39m_fp) \u001b[38;5;129;01mor\u001b[39;00m \u001b[38;5;28mlen\u001b[39m(\u001b[38;5;28mself\u001b[39m\u001b[38;5;241m.\u001b[39m_decoded_buffer) \u001b[38;5;241m>\u001b[39m \u001b[38;5;241m0\u001b[39m:\n\u001b[1;32m-> 1066\u001b[0m         data \u001b[38;5;241m=\u001b[39m \u001b[38;5;28;43mself\u001b[39;49m\u001b[38;5;241;43m.\u001b[39;49m\u001b[43mread\u001b[49m\u001b[43m(\u001b[49m\u001b[43mamt\u001b[49m\u001b[38;5;241;43m=\u001b[39;49m\u001b[43mamt\u001b[49m\u001b[43m,\u001b[49m\u001b[43m \u001b[49m\u001b[43mdecode_content\u001b[49m\u001b[38;5;241;43m=\u001b[39;49m\u001b[43mdecode_content\u001b[49m\u001b[43m)\u001b[49m\n\u001b[0;32m   1068\u001b[0m         \u001b[38;5;28;01mif\u001b[39;00m data:\n\u001b[0;32m   1069\u001b[0m             \u001b[38;5;28;01myield\u001b[39;00m data\n",
      "File \u001b[1;32m~\\AppData\\Roaming\\Python\\Python310\\site-packages\\urllib3\\response.py:955\u001b[0m, in \u001b[0;36mHTTPResponse.read\u001b[1;34m(self, amt, decode_content, cache_content)\u001b[0m\n\u001b[0;32m    952\u001b[0m     \u001b[38;5;28;01mif\u001b[39;00m \u001b[38;5;28mlen\u001b[39m(\u001b[38;5;28mself\u001b[39m\u001b[38;5;241m.\u001b[39m_decoded_buffer) \u001b[38;5;241m>\u001b[39m\u001b[38;5;241m=\u001b[39m amt:\n\u001b[0;32m    953\u001b[0m         \u001b[38;5;28;01mreturn\u001b[39;00m \u001b[38;5;28mself\u001b[39m\u001b[38;5;241m.\u001b[39m_decoded_buffer\u001b[38;5;241m.\u001b[39mget(amt)\n\u001b[1;32m--> 955\u001b[0m data \u001b[38;5;241m=\u001b[39m \u001b[38;5;28;43mself\u001b[39;49m\u001b[38;5;241;43m.\u001b[39;49m\u001b[43m_raw_read\u001b[49m\u001b[43m(\u001b[49m\u001b[43mamt\u001b[49m\u001b[43m)\u001b[49m\n\u001b[0;32m    957\u001b[0m flush_decoder \u001b[38;5;241m=\u001b[39m amt \u001b[38;5;129;01mis\u001b[39;00m \u001b[38;5;28;01mNone\u001b[39;00m \u001b[38;5;129;01mor\u001b[39;00m (amt \u001b[38;5;241m!=\u001b[39m \u001b[38;5;241m0\u001b[39m \u001b[38;5;129;01mand\u001b[39;00m \u001b[38;5;129;01mnot\u001b[39;00m data)\n\u001b[0;32m    959\u001b[0m \u001b[38;5;28;01mif\u001b[39;00m \u001b[38;5;129;01mnot\u001b[39;00m data \u001b[38;5;129;01mand\u001b[39;00m \u001b[38;5;28mlen\u001b[39m(\u001b[38;5;28mself\u001b[39m\u001b[38;5;241m.\u001b[39m_decoded_buffer) \u001b[38;5;241m==\u001b[39m \u001b[38;5;241m0\u001b[39m:\n",
      "File \u001b[1;32m~\\AppData\\Roaming\\Python\\Python310\\site-packages\\urllib3\\response.py:879\u001b[0m, in \u001b[0;36mHTTPResponse._raw_read\u001b[1;34m(self, amt, read1)\u001b[0m\n\u001b[0;32m    876\u001b[0m fp_closed \u001b[38;5;241m=\u001b[39m \u001b[38;5;28mgetattr\u001b[39m(\u001b[38;5;28mself\u001b[39m\u001b[38;5;241m.\u001b[39m_fp, \u001b[38;5;124m\"\u001b[39m\u001b[38;5;124mclosed\u001b[39m\u001b[38;5;124m\"\u001b[39m, \u001b[38;5;28;01mFalse\u001b[39;00m)\n\u001b[0;32m    878\u001b[0m \u001b[38;5;28;01mwith\u001b[39;00m \u001b[38;5;28mself\u001b[39m\u001b[38;5;241m.\u001b[39m_error_catcher():\n\u001b[1;32m--> 879\u001b[0m     data \u001b[38;5;241m=\u001b[39m \u001b[38;5;28;43mself\u001b[39;49m\u001b[38;5;241;43m.\u001b[39;49m\u001b[43m_fp_read\u001b[49m\u001b[43m(\u001b[49m\u001b[43mamt\u001b[49m\u001b[43m,\u001b[49m\u001b[43m \u001b[49m\u001b[43mread1\u001b[49m\u001b[38;5;241;43m=\u001b[39;49m\u001b[43mread1\u001b[49m\u001b[43m)\u001b[49m \u001b[38;5;28;01mif\u001b[39;00m \u001b[38;5;129;01mnot\u001b[39;00m fp_closed \u001b[38;5;28;01melse\u001b[39;00m \u001b[38;5;124mb\u001b[39m\u001b[38;5;124m\"\u001b[39m\u001b[38;5;124m\"\u001b[39m\n\u001b[0;32m    880\u001b[0m     \u001b[38;5;28;01mif\u001b[39;00m amt \u001b[38;5;129;01mis\u001b[39;00m \u001b[38;5;129;01mnot\u001b[39;00m \u001b[38;5;28;01mNone\u001b[39;00m \u001b[38;5;129;01mand\u001b[39;00m amt \u001b[38;5;241m!=\u001b[39m \u001b[38;5;241m0\u001b[39m \u001b[38;5;129;01mand\u001b[39;00m \u001b[38;5;129;01mnot\u001b[39;00m data:\n\u001b[0;32m    881\u001b[0m         \u001b[38;5;66;03m# Platform-specific: Buggy versions of Python.\u001b[39;00m\n\u001b[0;32m    882\u001b[0m         \u001b[38;5;66;03m# Close the connection when no data is returned\u001b[39;00m\n\u001b[1;32m   (...)\u001b[0m\n\u001b[0;32m    887\u001b[0m         \u001b[38;5;66;03m# not properly close the connection in all cases. There is\u001b[39;00m\n\u001b[0;32m    888\u001b[0m         \u001b[38;5;66;03m# no harm in redundantly calling close.\u001b[39;00m\n\u001b[0;32m    889\u001b[0m         \u001b[38;5;28mself\u001b[39m\u001b[38;5;241m.\u001b[39m_fp\u001b[38;5;241m.\u001b[39mclose()\n",
      "File \u001b[1;32m~\\AppData\\Roaming\\Python\\Python310\\site-packages\\urllib3\\response.py:862\u001b[0m, in \u001b[0;36mHTTPResponse._fp_read\u001b[1;34m(self, amt, read1)\u001b[0m\n\u001b[0;32m    859\u001b[0m     \u001b[38;5;28;01mreturn\u001b[39;00m \u001b[38;5;28mself\u001b[39m\u001b[38;5;241m.\u001b[39m_fp\u001b[38;5;241m.\u001b[39mread1(amt) \u001b[38;5;28;01mif\u001b[39;00m amt \u001b[38;5;129;01mis\u001b[39;00m \u001b[38;5;129;01mnot\u001b[39;00m \u001b[38;5;28;01mNone\u001b[39;00m \u001b[38;5;28;01melse\u001b[39;00m \u001b[38;5;28mself\u001b[39m\u001b[38;5;241m.\u001b[39m_fp\u001b[38;5;241m.\u001b[39mread1()\n\u001b[0;32m    860\u001b[0m \u001b[38;5;28;01melse\u001b[39;00m:\n\u001b[0;32m    861\u001b[0m     \u001b[38;5;66;03m# StringIO doesn't like amt=None\u001b[39;00m\n\u001b[1;32m--> 862\u001b[0m     \u001b[38;5;28;01mreturn\u001b[39;00m \u001b[38;5;28;43mself\u001b[39;49m\u001b[38;5;241;43m.\u001b[39;49m\u001b[43m_fp\u001b[49m\u001b[38;5;241;43m.\u001b[39;49m\u001b[43mread\u001b[49m\u001b[43m(\u001b[49m\u001b[43mamt\u001b[49m\u001b[43m)\u001b[49m \u001b[38;5;28;01mif\u001b[39;00m amt \u001b[38;5;129;01mis\u001b[39;00m \u001b[38;5;129;01mnot\u001b[39;00m \u001b[38;5;28;01mNone\u001b[39;00m \u001b[38;5;28;01melse\u001b[39;00m \u001b[38;5;28mself\u001b[39m\u001b[38;5;241m.\u001b[39m_fp\u001b[38;5;241m.\u001b[39mread()\n",
      "File \u001b[1;32mc:\\Program Files\\Python310\\lib\\http\\client.py:464\u001b[0m, in \u001b[0;36mHTTPResponse.read\u001b[1;34m(self, amt)\u001b[0m\n\u001b[0;32m    461\u001b[0m \u001b[38;5;28;01mif\u001b[39;00m \u001b[38;5;28mself\u001b[39m\u001b[38;5;241m.\u001b[39mlength \u001b[38;5;129;01mis\u001b[39;00m \u001b[38;5;129;01mnot\u001b[39;00m \u001b[38;5;28;01mNone\u001b[39;00m \u001b[38;5;129;01mand\u001b[39;00m amt \u001b[38;5;241m>\u001b[39m \u001b[38;5;28mself\u001b[39m\u001b[38;5;241m.\u001b[39mlength:\n\u001b[0;32m    462\u001b[0m     \u001b[38;5;66;03m# clip the read to the \"end of response\"\u001b[39;00m\n\u001b[0;32m    463\u001b[0m     amt \u001b[38;5;241m=\u001b[39m \u001b[38;5;28mself\u001b[39m\u001b[38;5;241m.\u001b[39mlength\n\u001b[1;32m--> 464\u001b[0m s \u001b[38;5;241m=\u001b[39m \u001b[38;5;28;43mself\u001b[39;49m\u001b[38;5;241;43m.\u001b[39;49m\u001b[43mfp\u001b[49m\u001b[38;5;241;43m.\u001b[39;49m\u001b[43mread\u001b[49m\u001b[43m(\u001b[49m\u001b[43mamt\u001b[49m\u001b[43m)\u001b[49m\n\u001b[0;32m    465\u001b[0m \u001b[38;5;28;01mif\u001b[39;00m \u001b[38;5;129;01mnot\u001b[39;00m s \u001b[38;5;129;01mand\u001b[39;00m amt:\n\u001b[0;32m    466\u001b[0m     \u001b[38;5;66;03m# Ideally, we would raise IncompleteRead if the content-length\u001b[39;00m\n\u001b[0;32m    467\u001b[0m     \u001b[38;5;66;03m# wasn't satisfied, but it might break compatibility.\u001b[39;00m\n\u001b[0;32m    468\u001b[0m     \u001b[38;5;28mself\u001b[39m\u001b[38;5;241m.\u001b[39m_close_conn()\n",
      "File \u001b[1;32mc:\\Program Files\\Python310\\lib\\socket.py:705\u001b[0m, in \u001b[0;36mSocketIO.readinto\u001b[1;34m(self, b)\u001b[0m\n\u001b[0;32m    703\u001b[0m \u001b[38;5;28;01mwhile\u001b[39;00m \u001b[38;5;28;01mTrue\u001b[39;00m:\n\u001b[0;32m    704\u001b[0m     \u001b[38;5;28;01mtry\u001b[39;00m:\n\u001b[1;32m--> 705\u001b[0m         \u001b[38;5;28;01mreturn\u001b[39;00m \u001b[38;5;28;43mself\u001b[39;49m\u001b[38;5;241;43m.\u001b[39;49m\u001b[43m_sock\u001b[49m\u001b[38;5;241;43m.\u001b[39;49m\u001b[43mrecv_into\u001b[49m\u001b[43m(\u001b[49m\u001b[43mb\u001b[49m\u001b[43m)\u001b[49m\n\u001b[0;32m    706\u001b[0m     \u001b[38;5;28;01mexcept\u001b[39;00m timeout:\n\u001b[0;32m    707\u001b[0m         \u001b[38;5;28mself\u001b[39m\u001b[38;5;241m.\u001b[39m_timeout_occurred \u001b[38;5;241m=\u001b[39m \u001b[38;5;28;01mTrue\u001b[39;00m\n",
      "File \u001b[1;32mc:\\Program Files\\Python310\\lib\\ssl.py:1273\u001b[0m, in \u001b[0;36mSSLSocket.recv_into\u001b[1;34m(self, buffer, nbytes, flags)\u001b[0m\n\u001b[0;32m   1269\u001b[0m     \u001b[38;5;28;01mif\u001b[39;00m flags \u001b[38;5;241m!=\u001b[39m \u001b[38;5;241m0\u001b[39m:\n\u001b[0;32m   1270\u001b[0m         \u001b[38;5;28;01mraise\u001b[39;00m \u001b[38;5;167;01mValueError\u001b[39;00m(\n\u001b[0;32m   1271\u001b[0m           \u001b[38;5;124m\"\u001b[39m\u001b[38;5;124mnon-zero flags not allowed in calls to recv_into() on \u001b[39m\u001b[38;5;132;01m%s\u001b[39;00m\u001b[38;5;124m\"\u001b[39m \u001b[38;5;241m%\u001b[39m\n\u001b[0;32m   1272\u001b[0m           \u001b[38;5;28mself\u001b[39m\u001b[38;5;241m.\u001b[39m\u001b[38;5;18m__class__\u001b[39m)\n\u001b[1;32m-> 1273\u001b[0m     \u001b[38;5;28;01mreturn\u001b[39;00m \u001b[38;5;28;43mself\u001b[39;49m\u001b[38;5;241;43m.\u001b[39;49m\u001b[43mread\u001b[49m\u001b[43m(\u001b[49m\u001b[43mnbytes\u001b[49m\u001b[43m,\u001b[49m\u001b[43m \u001b[49m\u001b[43mbuffer\u001b[49m\u001b[43m)\u001b[49m\n\u001b[0;32m   1274\u001b[0m \u001b[38;5;28;01melse\u001b[39;00m:\n\u001b[0;32m   1275\u001b[0m     \u001b[38;5;28;01mreturn\u001b[39;00m \u001b[38;5;28msuper\u001b[39m()\u001b[38;5;241m.\u001b[39mrecv_into(buffer, nbytes, flags)\n",
      "File \u001b[1;32mc:\\Program Files\\Python310\\lib\\ssl.py:1129\u001b[0m, in \u001b[0;36mSSLSocket.read\u001b[1;34m(self, len, buffer)\u001b[0m\n\u001b[0;32m   1127\u001b[0m \u001b[38;5;28;01mtry\u001b[39;00m:\n\u001b[0;32m   1128\u001b[0m     \u001b[38;5;28;01mif\u001b[39;00m buffer \u001b[38;5;129;01mis\u001b[39;00m \u001b[38;5;129;01mnot\u001b[39;00m \u001b[38;5;28;01mNone\u001b[39;00m:\n\u001b[1;32m-> 1129\u001b[0m         \u001b[38;5;28;01mreturn\u001b[39;00m \u001b[38;5;28;43mself\u001b[39;49m\u001b[38;5;241;43m.\u001b[39;49m\u001b[43m_sslobj\u001b[49m\u001b[38;5;241;43m.\u001b[39;49m\u001b[43mread\u001b[49m\u001b[43m(\u001b[49m\u001b[38;5;28;43mlen\u001b[39;49m\u001b[43m,\u001b[49m\u001b[43m \u001b[49m\u001b[43mbuffer\u001b[49m\u001b[43m)\u001b[49m\n\u001b[0;32m   1130\u001b[0m     \u001b[38;5;28;01melse\u001b[39;00m:\n\u001b[0;32m   1131\u001b[0m         \u001b[38;5;28;01mreturn\u001b[39;00m \u001b[38;5;28mself\u001b[39m\u001b[38;5;241m.\u001b[39m_sslobj\u001b[38;5;241m.\u001b[39mread(\u001b[38;5;28mlen\u001b[39m)\n",
      "\u001b[1;31mKeyboardInterrupt\u001b[0m: "
     ]
    },
    {
     "name": "stderr",
     "output_type": "stream",
     "text": [
      " 38%|███▊      | 162M/423M [14:50<25:25, 171kB/s]"
     ]
    }
   ],
   "source": [
    "url = 'https://drive.google.com/uc?id=1YlvpDLix3S-U8fd-gqRwPcWXAXm8JwjL'\n",
    "output = 'data.zip'\n",
    "gdown.download(url, output, quiet=False)\n",
    "gdown.extractall('data.zip')"
   ]
  },
  {
   "cell_type": "code",
   "execution_count": null,
   "metadata": {
    "execution": {
     "iopub.execute_input": "2023-11-16T01:02:02.195068Z",
     "iopub.status.busy": "2023-11-16T01:02:02.194276Z",
     "iopub.status.idle": "2023-11-16T01:02:02.202688Z",
     "shell.execute_reply": "2023-11-16T01:02:02.201627Z",
     "shell.execute_reply.started": "2023-11-16T01:02:02.195028Z"
    },
    "tags": [],
    "trusted": true
   },
   "outputs": [],
   "source": [
    "def load_video(path:str) -> List[float]: \n",
    "\n",
    "    cap = cv2.VideoCapture(path)\n",
    "    frames = []\n",
    "    for _ in range(int(cap.get(cv2.CAP_PROP_FRAME_COUNT))): \n",
    "        ret, frame = cap.read()\n",
    "        frame = tf.image.rgb_to_grayscale(frame)\n",
    "        frames.append(frame[190:236,80:220,:])\n",
    "    cap.release()\n",
    "    \n",
    "    mean = tf.math.reduce_mean(frames)\n",
    "    std = tf.math.reduce_std(tf.cast(frames, tf.float32))\n",
    "    return tf.cast((frames - mean), tf.float32) / std"
   ]
  },
  {
   "cell_type": "code",
   "execution_count": null,
   "metadata": {
    "execution": {
     "iopub.execute_input": "2023-11-16T01:02:02.207747Z",
     "iopub.status.busy": "2023-11-16T01:02:02.207148Z",
     "iopub.status.idle": "2023-11-16T01:02:02.212605Z",
     "shell.execute_reply": "2023-11-16T01:02:02.211502Z",
     "shell.execute_reply.started": "2023-11-16T01:02:02.207718Z"
    },
    "tags": [],
    "trusted": true
   },
   "outputs": [],
   "source": [
    "vocab = [x for x in \"abcdefghijklmnopqrstuvwxyz'?!123456789 \"]"
   ]
  },
  {
   "cell_type": "code",
   "execution_count": null,
   "metadata": {
    "execution": {
     "iopub.execute_input": "2023-11-16T01:02:02.214219Z",
     "iopub.status.busy": "2023-11-16T01:02:02.213908Z",
     "iopub.status.idle": "2023-11-16T01:02:04.369046Z",
     "shell.execute_reply": "2023-11-16T01:02:04.368025Z",
     "shell.execute_reply.started": "2023-11-16T01:02:02.214191Z"
    },
    "tags": [],
    "trusted": true
   },
   "outputs": [
    {
     "name": "stdout",
     "output_type": "stream",
     "text": [
      "WARNING:tensorflow:From c:\\Users\\KIIT\\anaconda3\\lib\\site-packages\\keras\\src\\backend.py:873: The name tf.get_default_graph is deprecated. Please use tf.compat.v1.get_default_graph instead.\n",
      "\n",
      "The vocabulary is: ['', 'a', 'b', 'c', 'd', 'e', 'f', 'g', 'h', 'i', 'j', 'k', 'l', 'm', 'n', 'o', 'p', 'q', 'r', 's', 't', 'u', 'v', 'w', 'x', 'y', 'z', \"'\", '?', '!', '1', '2', '3', '4', '5', '6', '7', '8', '9', ' '] (size =40)\n"
     ]
    }
   ],
   "source": [
    "char_to_num = tf.keras.layers.StringLookup(vocabulary=vocab, oov_token=\"\")\n",
    "num_to_char = tf.keras.layers.StringLookup(\n",
    "    vocabulary=char_to_num.get_vocabulary(), oov_token=\"\", invert=True\n",
    ")\n",
    "\n",
    "print(\n",
    "    f\"The vocabulary is: {char_to_num.get_vocabulary()} \"\n",
    "    f\"(size ={char_to_num.vocabulary_size()})\"\n",
    ")"
   ]
  },
  {
   "cell_type": "code",
   "execution_count": null,
   "metadata": {
    "execution": {
     "iopub.execute_input": "2023-11-16T01:02:04.370490Z",
     "iopub.status.busy": "2023-11-16T01:02:04.370200Z",
     "iopub.status.idle": "2023-11-16T01:02:04.379020Z",
     "shell.execute_reply": "2023-11-16T01:02:04.378119Z",
     "shell.execute_reply.started": "2023-11-16T01:02:04.370459Z"
    },
    "tags": [],
    "trusted": true
   },
   "outputs": [
    {
     "data": {
      "text/plain": [
       "['',\n",
       " 'a',\n",
       " 'b',\n",
       " 'c',\n",
       " 'd',\n",
       " 'e',\n",
       " 'f',\n",
       " 'g',\n",
       " 'h',\n",
       " 'i',\n",
       " 'j',\n",
       " 'k',\n",
       " 'l',\n",
       " 'm',\n",
       " 'n',\n",
       " 'o',\n",
       " 'p',\n",
       " 'q',\n",
       " 'r',\n",
       " 's',\n",
       " 't',\n",
       " 'u',\n",
       " 'v',\n",
       " 'w',\n",
       " 'x',\n",
       " 'y',\n",
       " 'z',\n",
       " \"'\",\n",
       " '?',\n",
       " '!',\n",
       " '1',\n",
       " '2',\n",
       " '3',\n",
       " '4',\n",
       " '5',\n",
       " '6',\n",
       " '7',\n",
       " '8',\n",
       " '9',\n",
       " ' ']"
      ]
     },
     "execution_count": 12,
     "metadata": {},
     "output_type": "execute_result"
    }
   ],
   "source": [
    "char_to_num.get_vocabulary()"
   ]
  },
  {
   "cell_type": "code",
   "execution_count": null,
   "metadata": {
    "execution": {
     "iopub.execute_input": "2023-11-16T01:02:04.380486Z",
     "iopub.status.busy": "2023-11-16T01:02:04.380175Z",
     "iopub.status.idle": "2023-11-16T01:02:04.390993Z",
     "shell.execute_reply": "2023-11-16T01:02:04.390020Z",
     "shell.execute_reply.started": "2023-11-16T01:02:04.380453Z"
    },
    "tags": [],
    "trusted": true
   },
   "outputs": [
    {
     "name": "stdout",
     "output_type": "stream",
     "text": [
      "WARNING:tensorflow:From c:\\Users\\KIIT\\anaconda3\\lib\\site-packages\\keras\\src\\utils\\tf_utils.py:492: The name tf.ragged.RaggedTensorValue is deprecated. Please use tf.compat.v1.ragged.RaggedTensorValue instead.\n",
      "\n"
     ]
    },
    {
     "data": {
      "text/plain": [
       "<tf.Tensor: shape=(4,), dtype=int64, numpy=array([14,  9,  3, 11], dtype=int64)>"
      ]
     },
     "execution_count": 13,
     "metadata": {},
     "output_type": "execute_result"
    }
   ],
   "source": [
    "char_to_num(['n','i','c','k'])"
   ]
  },
  {
   "cell_type": "code",
   "execution_count": null,
   "metadata": {
    "execution": {
     "iopub.execute_input": "2023-11-16T01:02:04.392841Z",
     "iopub.status.busy": "2023-11-16T01:02:04.392256Z",
     "iopub.status.idle": "2023-11-16T01:02:04.406456Z",
     "shell.execute_reply": "2023-11-16T01:02:04.405663Z",
     "shell.execute_reply.started": "2023-11-16T01:02:04.392809Z"
    },
    "trusted": true
   },
   "outputs": [
    {
     "data": {
      "text/plain": [
       "<tf.Tensor: shape=(4,), dtype=string, numpy=array([b'n', b'i', b'c', b'k'], dtype=object)>"
      ]
     },
     "execution_count": 14,
     "metadata": {},
     "output_type": "execute_result"
    }
   ],
   "source": [
    "num_to_char([14,  9,  3, 11])"
   ]
  },
  {
   "cell_type": "code",
   "execution_count": null,
   "metadata": {
    "execution": {
     "iopub.execute_input": "2023-11-16T01:02:04.407722Z",
     "iopub.status.busy": "2023-11-16T01:02:04.407449Z",
     "iopub.status.idle": "2023-11-16T01:02:04.413358Z",
     "shell.execute_reply": "2023-11-16T01:02:04.412495Z",
     "shell.execute_reply.started": "2023-11-16T01:02:04.407699Z"
    },
    "tags": [],
    "trusted": true
   },
   "outputs": [],
   "source": [
    "def load_alignments(path:str) -> List[str]: \n",
    "    with open(path, 'r') as f: \n",
    "        lines = f.readlines() \n",
    "    tokens = []\n",
    "    for line in lines:\n",
    "        line = line.split()\n",
    "        if line[2] != 'sil': \n",
    "            tokens = [*tokens,' ',line[2]]\n",
    "    return char_to_num(tf.reshape(tf.strings.unicode_split(tokens, input_encoding='UTF-8'), (-1)))[1:]"
   ]
  },
  {
   "cell_type": "code",
   "execution_count": null,
   "metadata": {
    "execution": {
     "iopub.execute_input": "2023-11-16T01:02:04.414812Z",
     "iopub.status.busy": "2023-11-16T01:02:04.414492Z",
     "iopub.status.idle": "2023-11-16T01:02:04.422524Z",
     "shell.execute_reply": "2023-11-16T01:02:04.421748Z",
     "shell.execute_reply.started": "2023-11-16T01:02:04.414781Z"
    },
    "tags": [],
    "trusted": true
   },
   "outputs": [],
   "source": [
    "def load_data(path: str): \n",
    "    path = bytes.decode(path.numpy())\n",
    "    #file_name = path.split('/')[-1].split('.')[0]\n",
    "    # File name splitting for windows\n",
    "    file_name = path.split('\\\\')[-1].split('.')[0]\n",
    "    video_path = os.path.join('data','s1',f'{file_name}.mpg')\n",
    "    alignment_path = os.path.join('data','alignments','s1',f'{file_name}.align')\n",
    "    frames = load_video(video_path) \n",
    "    alignments = load_alignments(alignment_path)\n",
    "    \n",
    "    return frames, alignments"
   ]
  },
  {
   "cell_type": "code",
   "execution_count": null,
   "metadata": {
    "execution": {
     "iopub.execute_input": "2023-11-16T01:02:04.424480Z",
     "iopub.status.busy": "2023-11-16T01:02:04.423603Z",
     "iopub.status.idle": "2023-11-16T01:02:04.433202Z",
     "shell.execute_reply": "2023-11-16T01:02:04.432474Z",
     "shell.execute_reply.started": "2023-11-16T01:02:04.424448Z"
    },
    "tags": [],
    "trusted": true
   },
   "outputs": [],
   "source": [
    "test_path = '.\\\\data\\\\s1\\\\bbal6n.mpg'"
   ]
  },
  {
   "cell_type": "code",
   "execution_count": null,
   "metadata": {
    "execution": {
     "iopub.execute_input": "2023-11-16T01:02:04.434441Z",
     "iopub.status.busy": "2023-11-16T01:02:04.434154Z",
     "iopub.status.idle": "2023-11-16T01:02:04.441157Z",
     "shell.execute_reply": "2023-11-16T01:02:04.440440Z",
     "shell.execute_reply.started": "2023-11-16T01:02:04.434409Z"
    },
    "trusted": true
   },
   "outputs": [],
   "source": [
    "# test_path = bytes.decode(test_path.numpy())"
   ]
  },
  {
   "cell_type": "code",
   "execution_count": null,
   "metadata": {
    "execution": {
     "iopub.execute_input": "2023-11-16T01:02:04.442760Z",
     "iopub.status.busy": "2023-11-16T01:02:04.442400Z",
     "iopub.status.idle": "2023-11-16T01:02:04.449944Z",
     "shell.execute_reply": "2023-11-16T01:02:04.449118Z",
     "shell.execute_reply.started": "2023-11-16T01:02:04.442734Z"
    },
    "trusted": true
   },
   "outputs": [],
   "source": [
    "# hi = tf.convert_to_tensor(test_path).numpy().decode('utf-8')\n",
    "# hi"
   ]
  },
  {
   "cell_type": "code",
   "execution_count": null,
   "metadata": {
    "execution": {
     "iopub.execute_input": "2023-11-16T01:02:04.451255Z",
     "iopub.status.busy": "2023-11-16T01:02:04.450947Z",
     "iopub.status.idle": "2023-11-16T01:02:04.460280Z",
     "shell.execute_reply": "2023-11-16T01:02:04.459452Z",
     "shell.execute_reply.started": "2023-11-16T01:02:04.451231Z"
    },
    "trusted": true
   },
   "outputs": [
    {
     "data": {
      "text/plain": [
       "'bbal6n'"
      ]
     },
     "execution_count": 43,
     "metadata": {},
     "output_type": "execute_result"
    }
   ],
   "source": [
    "tf.convert_to_tensor(test_path).numpy().decode('utf-8').split('\\\\')[-1].split('.')[0]"
   ]
  },
  {
   "cell_type": "code",
   "execution_count": null,
   "metadata": {
    "execution": {
     "iopub.execute_input": "2023-11-16T01:02:04.461507Z",
     "iopub.status.busy": "2023-11-16T01:02:04.461196Z",
     "iopub.status.idle": "2023-11-16T01:02:07.211166Z",
     "shell.execute_reply": "2023-11-16T01:02:07.210200Z",
     "shell.execute_reply.started": "2023-11-16T01:02:04.461477Z"
    },
    "scrolled": true,
    "tags": [],
    "trusted": true
   },
   "outputs": [],
   "source": [
    "frames, alignments = load_data(tf.convert_to_tensor(test_path))"
   ]
  },
  {
   "cell_type": "code",
   "execution_count": null,
   "metadata": {
    "execution": {
     "iopub.execute_input": "2023-11-16T01:02:07.213171Z",
     "iopub.status.busy": "2023-11-16T01:02:07.212518Z",
     "iopub.status.idle": "2023-11-16T01:02:07.219601Z",
     "shell.execute_reply": "2023-11-16T01:02:07.218675Z",
     "shell.execute_reply.started": "2023-11-16T01:02:07.213125Z"
    },
    "trusted": true
   },
   "outputs": [
    {
     "data": {
      "text/plain": [
       "<tf.Tensor: shape=(21,), dtype=int64, numpy=\n",
       "array([ 2,  9, 14, 39,  2, 12, 21,  5, 39,  1, 20, 39, 12, 39, 19,  9, 24,\n",
       "       39, 14, 15, 23], dtype=int64)>"
      ]
     },
     "execution_count": 45,
     "metadata": {},
     "output_type": "execute_result"
    }
   ],
   "source": [
    "alignments"
   ]
  },
  {
   "cell_type": "code",
   "execution_count": null,
   "metadata": {
    "execution": {
     "iopub.execute_input": "2023-11-16T01:02:07.221257Z",
     "iopub.status.busy": "2023-11-16T01:02:07.220912Z",
     "iopub.status.idle": "2023-11-16T01:02:07.507113Z",
     "shell.execute_reply": "2023-11-16T01:02:07.506374Z",
     "shell.execute_reply.started": "2023-11-16T01:02:07.221218Z"
    },
    "trusted": true
   },
   "outputs": [
    {
     "data": {
      "text/plain": [
       "<matplotlib.image.AxesImage at 0x2e4e770bd30>"
      ]
     },
     "execution_count": 46,
     "metadata": {},
     "output_type": "execute_result"
    },
    {
     "data": {
      "image/png": "[encoded data removed]",
      "text/plain": [
       "<Figure size 640x480 with 1 Axes>"
      ]
     },
     "metadata": {},
     "output_type": "display_data"
    }
   ],
   "source": [
    "plt.imshow(frames[40])"
   ]
  },
  {
   "cell_type": "code",
   "execution_count": null,
   "metadata": {
    "execution": {
     "iopub.execute_input": "2023-11-16T01:02:07.509308Z",
     "iopub.status.busy": "2023-11-16T01:02:07.508655Z",
     "iopub.status.idle": "2023-11-16T01:02:07.515693Z",
     "shell.execute_reply": "2023-11-16T01:02:07.514752Z",
     "shell.execute_reply.started": "2023-11-16T01:02:07.509270Z"
    },
    "trusted": true
   },
   "outputs": [
    {
     "data": {
      "text/plain": [
       "<tf.Tensor: shape=(21,), dtype=int64, numpy=\n",
       "array([ 2,  9, 14, 39,  2, 12, 21,  5, 39,  1, 20, 39, 12, 39, 19,  9, 24,\n",
       "       39, 14, 15, 23], dtype=int64)>"
      ]
     },
     "execution_count": 47,
     "metadata": {},
     "output_type": "execute_result"
    }
   ],
   "source": [
    "alignments"
   ]
  },
  {
   "cell_type": "code",
   "execution_count": null,
   "metadata": {
    "execution": {
     "iopub.execute_input": "2023-11-16T01:02:07.517148Z",
     "iopub.status.busy": "2023-11-16T01:02:07.516841Z",
     "iopub.status.idle": "2023-11-16T01:02:07.527980Z",
     "shell.execute_reply": "2023-11-16T01:02:07.527058Z",
     "shell.execute_reply.started": "2023-11-16T01:02:07.517117Z"
    },
    "trusted": true
   },
   "outputs": [
    {
     "data": {
      "text/plain": [
       "<tf.Tensor: shape=(), dtype=string, numpy=b'bin blue at l six now'>"
      ]
     },
     "execution_count": 48,
     "metadata": {},
     "output_type": "execute_result"
    }
   ],
   "source": [
    "tf.strings.reduce_join([bytes.decode(x) for x in num_to_char(alignments.numpy()).numpy()])"
   ]
  },
  {
   "cell_type": "code",
   "execution_count": null,
   "metadata": {
    "execution": {
     "iopub.execute_input": "2023-11-16T01:02:07.529207Z",
     "iopub.status.busy": "2023-11-16T01:02:07.528969Z",
     "iopub.status.idle": "2023-11-16T01:02:07.534332Z",
     "shell.execute_reply": "2023-11-16T01:02:07.533492Z",
     "shell.execute_reply.started": "2023-11-16T01:02:07.529185Z"
    },
    "tags": [],
    "trusted": true
   },
   "outputs": [],
   "source": [
    "def mappable_function(path:str) ->List[str]:\n",
    "    result = tf.py_function(load_data, [path], (tf.float32, tf.int64))\n",
    "    return result"
   ]
  },
  {
   "cell_type": "markdown",
   "metadata": {
    "tags": []
   },
   "source": [
    "# 2. Create Data Pipeline"
   ]
  },
  {
   "cell_type": "code",
   "execution_count": null,
   "metadata": {
    "execution": {
     "iopub.execute_input": "2023-11-16T01:02:07.535709Z",
     "iopub.status.busy": "2023-11-16T01:02:07.535419Z",
     "iopub.status.idle": "2023-11-16T01:02:07.543321Z",
     "shell.execute_reply": "2023-11-16T01:02:07.542480Z",
     "shell.execute_reply.started": "2023-11-16T01:02:07.535685Z"
    },
    "tags": [],
    "trusted": true
   },
   "outputs": [],
   "source": [
    "from matplotlib import pyplot as plt"
   ]
  },
  {
   "cell_type": "code",
   "execution_count": null,
   "metadata": {
    "execution": {
     "iopub.execute_input": "2023-11-16T01:02:07.553068Z",
     "iopub.status.busy": "2023-11-16T01:02:07.552753Z",
     "iopub.status.idle": "2023-11-16T01:02:07.660047Z",
     "shell.execute_reply": "2023-11-16T01:02:07.659302Z",
     "shell.execute_reply.started": "2023-11-16T01:02:07.553045Z"
    },
    "tags": [],
    "trusted": true
   },
   "outputs": [],
   "source": [
    "data = tf.data.Dataset.list_files('./data/s1/*.mpg')\n",
    "data = data.shuffle(500, reshuffle_each_iteration=False)\n",
    "data = data.map(mappable_function)\n",
    "data = data.padded_batch(2, padded_shapes=([75,None,None,None],[40]))\n",
    "data = data.prefetch(tf.data.AUTOTUNE)\n",
    "# Added for split \n",
    "train = data.take(450)\n",
    "test = data.skip(450)"
   ]
  },
  {
   "cell_type": "code",
   "execution_count": null,
   "metadata": {
    "execution": {
     "iopub.execute_input": "2023-11-16T01:02:07.661413Z",
     "iopub.status.busy": "2023-11-16T01:02:07.661133Z",
     "iopub.status.idle": "2023-11-16T01:02:07.667877Z",
     "shell.execute_reply": "2023-11-16T01:02:07.666701Z",
     "shell.execute_reply.started": "2023-11-16T01:02:07.661387Z"
    },
    "trusted": true
   },
   "outputs": [
    {
     "data": {
      "text/plain": [
       "450"
      ]
     },
     "execution_count": 52,
     "metadata": {},
     "output_type": "execute_result"
    }
   ],
   "source": [
    "len(train)"
   ]
  },
  {
   "cell_type": "code",
   "execution_count": null,
   "metadata": {
    "execution": {
     "iopub.execute_input": "2023-11-16T01:02:07.669157Z",
     "iopub.status.busy": "2023-11-16T01:02:07.668868Z",
     "iopub.status.idle": "2023-11-16T01:02:08.373507Z",
     "shell.execute_reply": "2023-11-16T01:02:08.372488Z",
     "shell.execute_reply.started": "2023-11-16T01:02:07.669123Z"
    },
    "trusted": true
   },
   "outputs": [],
   "source": [
    "frames, alignments = data.as_numpy_iterator().next()"
   ]
  },
  {
   "cell_type": "code",
   "execution_count": null,
   "metadata": {
    "execution": {
     "iopub.execute_input": "2023-11-16T01:02:08.375065Z",
     "iopub.status.busy": "2023-11-16T01:02:08.374766Z",
     "iopub.status.idle": "2023-11-16T01:02:08.381548Z",
     "shell.execute_reply": "2023-11-16T01:02:08.380485Z",
     "shell.execute_reply.started": "2023-11-16T01:02:08.375038Z"
    },
    "trusted": true
   },
   "outputs": [
    {
     "data": {
      "text/plain": [
       "2"
      ]
     },
     "execution_count": 54,
     "metadata": {},
     "output_type": "execute_result"
    }
   ],
   "source": [
    "len(frames)"
   ]
  },
  {
   "cell_type": "code",
   "execution_count": null,
   "metadata": {
    "execution": {
     "iopub.execute_input": "2023-11-16T01:02:08.383352Z",
     "iopub.status.busy": "2023-11-16T01:02:08.382959Z",
     "iopub.status.idle": "2023-11-16T01:02:08.393436Z",
     "shell.execute_reply": "2023-11-16T01:02:08.392611Z",
     "shell.execute_reply.started": "2023-11-16T01:02:08.383319Z"
    },
    "tags": [],
    "trusted": true
   },
   "outputs": [],
   "source": [
    "sample = data.as_numpy_iterator()"
   ]
  },
  {
   "cell_type": "code",
   "execution_count": null,
   "metadata": {
    "execution": {
     "iopub.execute_input": "2023-11-16T01:02:08.395420Z",
     "iopub.status.busy": "2023-11-16T01:02:08.394839Z",
     "iopub.status.idle": "2023-11-16T01:02:08.399362Z",
     "shell.execute_reply": "2023-11-16T01:02:08.398384Z",
     "shell.execute_reply.started": "2023-11-16T01:02:08.395387Z"
    },
    "trusted": true
   },
   "outputs": [],
   "source": [
    "# len(sample)"
   ]
  },
  {
   "cell_type": "code",
   "execution_count": null,
   "metadata": {
    "execution": {
     "iopub.execute_input": "2023-11-16T01:02:08.400690Z",
     "iopub.status.busy": "2023-11-16T01:02:08.400409Z",
     "iopub.status.idle": "2023-11-16T01:02:08.845733Z",
     "shell.execute_reply": "2023-11-16T01:02:08.844693Z",
     "shell.execute_reply.started": "2023-11-16T01:02:08.400667Z"
    },
    "scrolled": true,
    "tags": [],
    "trusted": true
   },
   "outputs": [
    {
     "data": {
      "text/plain": [
       "array([[[[[1.3946624 ],\n",
       "          [1.3946624 ],\n",
       "          [1.3946624 ],\n",
       "          ...,\n",
       "          [0.1549625 ],\n",
       "          [0.23244374],\n",
       "          [0.27118436]],\n",
       "\n",
       "         [[1.3946624 ],\n",
       "          [1.3946624 ],\n",
       "          [1.3946624 ],\n",
       "          ...,\n",
       "          [0.1549625 ],\n",
       "          [0.27118436],\n",
       "          [0.309925  ]],\n",
       "\n",
       "         [[1.3171811 ],\n",
       "          [1.3171811 ],\n",
       "          [1.3171811 ],\n",
       "          ...,\n",
       "          [0.1549625 ],\n",
       "          [0.07748125],\n",
       "          [0.07748125]],\n",
       "\n",
       "         ...,\n",
       "\n",
       "         [[0.8910343 ],\n",
       "          [0.8910343 ],\n",
       "          [0.8910343 ],\n",
       "          ...,\n",
       "          [9.723896  ],\n",
       "          [9.801377  ],\n",
       "          [9.762637  ]],\n",
       "\n",
       "         [[0.85229367],\n",
       "          [0.85229367],\n",
       "          [0.85229367],\n",
       "          ...,\n",
       "          [9.607675  ],\n",
       "          [9.723896  ],\n",
       "          [9.723896  ]],\n",
       "\n",
       "         [[0.85229367],\n",
       "          [0.85229367],\n",
       "          [0.85229367],\n",
       "          ...,\n",
       "          [9.646415  ],\n",
       "          [9.723896  ],\n",
       "          [9.685156  ]]],\n",
       "\n",
       "\n",
       "        [[[1.3559217 ],\n",
       "          [1.3559217 ],\n",
       "          [1.2784406 ],\n",
       "          ...,\n",
       "          [0.19370311],\n",
       "          [0.19370311],\n",
       "          [0.23244374]],\n",
       "\n",
       "         [[1.3559217 ],\n",
       "          [1.3559217 ],\n",
       "          [1.2784406 ],\n",
       "          ...,\n",
       "          [0.23244374],\n",
       "          [0.19370311],\n",
       "          [0.19370311]],\n",
       "\n",
       "         [[1.3559217 ],\n",
       "          [1.3559217 ],\n",
       "          [1.3559217 ],\n",
       "          ...,\n",
       "          [0.1549625 ],\n",
       "          [0.03874062],\n",
       "          [0.03874062]],\n",
       "\n",
       "         ...,\n",
       "\n",
       "         [[0.8910343 ],\n",
       "          [0.8910343 ],\n",
       "          [0.8910343 ],\n",
       "          ...,\n",
       "          [9.723896  ],\n",
       "          [9.723896  ],\n",
       "          [9.646415  ]],\n",
       "\n",
       "         [[0.85229367],\n",
       "          [0.85229367],\n",
       "          [0.85229367],\n",
       "          ...,\n",
       "          [9.5689335 ],\n",
       "          [9.723896  ],\n",
       "          [9.607675  ]],\n",
       "\n",
       "         [[0.85229367],\n",
       "          [0.85229367],\n",
       "          [0.85229367],\n",
       "          ...,\n",
       "          [9.5689335 ],\n",
       "          [9.762637  ],\n",
       "          [9.646415  ]]],\n",
       "\n",
       "\n",
       "        [[[1.3559217 ],\n",
       "          [1.3559217 ],\n",
       "          [1.2784406 ],\n",
       "          ...,\n",
       "          [0.11622187],\n",
       "          [0.11622187],\n",
       "          [0.11622187]],\n",
       "\n",
       "         [[1.3559217 ],\n",
       "          [1.3559217 ],\n",
       "          [1.2784406 ],\n",
       "          ...,\n",
       "          [0.23244374],\n",
       "          [0.        ],\n",
       "          [9.878859  ]],\n",
       "\n",
       "         [[1.3559217 ],\n",
       "          [1.3559217 ],\n",
       "          [1.3559217 ],\n",
       "          ...,\n",
       "          [0.1549625 ],\n",
       "          [0.07748125],\n",
       "          [0.07748125]],\n",
       "\n",
       "         ...,\n",
       "\n",
       "         [[0.9685156 ],\n",
       "          [0.9685156 ],\n",
       "          [0.9685156 ],\n",
       "          ...,\n",
       "          [9.801377  ],\n",
       "          [9.685156  ],\n",
       "          [9.607675  ]],\n",
       "\n",
       "         [[0.8910343 ],\n",
       "          [0.8910343 ],\n",
       "          [0.8910343 ],\n",
       "          ...,\n",
       "          [9.607675  ],\n",
       "          [9.723896  ],\n",
       "          [9.607675  ]],\n",
       "\n",
       "         [[0.8910343 ],\n",
       "          [0.8910343 ],\n",
       "          [0.8910343 ],\n",
       "          ...,\n",
       "          [9.607675  ],\n",
       "          [9.762637  ],\n",
       "          [9.646415  ]]],\n",
       "\n",
       "\n",
       "        ...,\n",
       "\n",
       "\n",
       "        [[[1.433403  ],\n",
       "          [1.433403  ],\n",
       "          [1.433403  ],\n",
       "          ...,\n",
       "          [0.1549625 ],\n",
       "          [0.1549625 ],\n",
       "          [0.1549625 ]],\n",
       "\n",
       "         [[1.3559217 ],\n",
       "          [1.3559217 ],\n",
       "          [1.3559217 ],\n",
       "          ...,\n",
       "          [0.1549625 ],\n",
       "          [0.1549625 ],\n",
       "          [0.1549625 ]],\n",
       "\n",
       "         [[1.3171811 ],\n",
       "          [1.3171811 ],\n",
       "          [1.3171811 ],\n",
       "          ...,\n",
       "          [0.11622187],\n",
       "          [0.11622187],\n",
       "          [0.11622187]],\n",
       "\n",
       "         ...,\n",
       "\n",
       "         [[0.92977494],\n",
       "          [0.8910343 ],\n",
       "          [0.8910343 ],\n",
       "          ...,\n",
       "          [9.607675  ],\n",
       "          [9.762637  ],\n",
       "          [9.840118  ]],\n",
       "\n",
       "         [[0.92977494],\n",
       "          [0.8910343 ],\n",
       "          [0.8910343 ],\n",
       "          ...,\n",
       "          [9.491452  ],\n",
       "          [9.607675  ],\n",
       "          [9.723896  ]],\n",
       "\n",
       "         [[0.92977494],\n",
       "          [0.8910343 ],\n",
       "          [0.8910343 ],\n",
       "          ...,\n",
       "          [9.491452  ],\n",
       "          [9.5689335 ],\n",
       "          [9.685156  ]]],\n",
       "\n",
       "\n",
       "        [[[1.433403  ],\n",
       "          [1.433403  ],\n",
       "          [1.433403  ],\n",
       "          ...,\n",
       "          [0.19370311],\n",
       "          [0.07748125],\n",
       "          [0.07748125]],\n",
       "\n",
       "         [[1.3559217 ],\n",
       "          [1.3559217 ],\n",
       "          [1.3559217 ],\n",
       "          ...,\n",
       "          [0.19370311],\n",
       "          [0.07748125],\n",
       "          [0.07748125]],\n",
       "\n",
       "         [[1.2397    ],\n",
       "          [1.2397    ],\n",
       "          [1.2397    ],\n",
       "          ...,\n",
       "          [0.03874062],\n",
       "          [0.03874062],\n",
       "          [0.03874062]],\n",
       "\n",
       "         ...,\n",
       "\n",
       "         [[0.92977494],\n",
       "          [0.8910343 ],\n",
       "          [0.8910343 ],\n",
       "          ...,\n",
       "          [9.685156  ],\n",
       "          [9.723896  ],\n",
       "          [9.762637  ]],\n",
       "\n",
       "         [[0.92977494],\n",
       "          [0.8910343 ],\n",
       "          [0.8910343 ],\n",
       "          ...,\n",
       "          [9.646415  ],\n",
       "          [9.5689335 ],\n",
       "          [9.607675  ]],\n",
       "\n",
       "         [[0.92977494],\n",
       "          [0.8910343 ],\n",
       "          [0.8910343 ],\n",
       "          ...,\n",
       "          [9.607675  ],\n",
       "          [9.5689335 ],\n",
       "          [9.607675  ]]],\n",
       "\n",
       "\n",
       "        [[[1.433403  ],\n",
       "          [1.433403  ],\n",
       "          [1.3559217 ],\n",
       "          ...,\n",
       "          [0.23244374],\n",
       "          [0.1549625 ],\n",
       "          [0.07748125]],\n",
       "\n",
       "         [[1.3559217 ],\n",
       "          [1.3559217 ],\n",
       "          [1.2784406 ],\n",
       "          ...,\n",
       "          [0.23244374],\n",
       "          [0.1549625 ],\n",
       "          [0.07748125]],\n",
       "\n",
       "         [[1.2397    ],\n",
       "          [1.2397    ],\n",
       "          [1.2397    ],\n",
       "          ...,\n",
       "          [0.11622187],\n",
       "          [0.03874062],\n",
       "          [0.03874062]],\n",
       "\n",
       "         ...,\n",
       "\n",
       "         [[0.85229367],\n",
       "          [0.85229367],\n",
       "          [0.85229367],\n",
       "          ...,\n",
       "          [9.723896  ],\n",
       "          [9.762637  ],\n",
       "          [9.801377  ]],\n",
       "\n",
       "         [[0.8910343 ],\n",
       "          [0.85229367],\n",
       "          [0.85229367],\n",
       "          ...,\n",
       "          [9.685156  ],\n",
       "          [9.607675  ],\n",
       "          [9.685156  ]],\n",
       "\n",
       "         [[0.8910343 ],\n",
       "          [0.85229367],\n",
       "          [0.85229367],\n",
       "          ...,\n",
       "          [9.646415  ],\n",
       "          [9.607675  ],\n",
       "          [9.685156  ]]]],\n",
       "\n",
       "\n",
       "\n",
       "       [[[[1.3366271 ],\n",
       "          [1.4088773 ],\n",
       "          [0.93925154],\n",
       "          ...,\n",
       "          [0.4335007 ],\n",
       "          [0.4335007 ],\n",
       "          [0.4335007 ]],\n",
       "\n",
       "         [[1.3005021 ],\n",
       "          [1.3366271 ],\n",
       "          [1.1198769 ],\n",
       "          ...,\n",
       "          [0.4335007 ],\n",
       "          [0.4335007 ],\n",
       "          [0.4335007 ]],\n",
       "\n",
       "         [[1.3366271 ],\n",
       "          [1.4088773 ],\n",
       "          [1.3366271 ],\n",
       "          ...,\n",
       "          [0.39737564],\n",
       "          [0.39737564],\n",
       "          [0.39737564]],\n",
       "\n",
       "         ...,\n",
       "\n",
       "         [[1.0837518 ],\n",
       "          [1.0837518 ],\n",
       "          [1.0837518 ],\n",
       "          ...,\n",
       "          [0.18062529],\n",
       "          [0.18062529],\n",
       "          [0.18062529]],\n",
       "\n",
       "         [[1.0837518 ],\n",
       "          [1.0837518 ],\n",
       "          [1.0837518 ],\n",
       "          ...,\n",
       "          [0.18062529],\n",
       "          [0.18062529],\n",
       "          [0.18062529]],\n",
       "\n",
       "         [[1.0837518 ],\n",
       "          [1.0837518 ],\n",
       "          [1.0837518 ],\n",
       "          ...,\n",
       "          [0.18062529],\n",
       "          [0.18062529],\n",
       "          [0.14450024]]],\n",
       "\n",
       "\n",
       "        [[[1.4088773 ],\n",
       "          [1.4450023 ],\n",
       "          [0.9753766 ],\n",
       "          ...,\n",
       "          [0.4335007 ],\n",
       "          [0.39737564],\n",
       "          [0.39737564]],\n",
       "\n",
       "         [[1.4088773 ],\n",
       "          [1.3005021 ],\n",
       "          [1.0476267 ],\n",
       "          ...,\n",
       "          [0.4335007 ],\n",
       "          [0.39737564],\n",
       "          [0.39737564]],\n",
       "\n",
       "         [[1.5533775 ],\n",
       "          [1.4450023 ],\n",
       "          [1.3727522 ],\n",
       "          ...,\n",
       "          [0.39737564],\n",
       "          [0.39737564],\n",
       "          [0.39737564]],\n",
       "\n",
       "         ...,\n",
       "\n",
       "         [[1.0837518 ],\n",
       "          [1.0837518 ],\n",
       "          [1.0837518 ],\n",
       "          ...,\n",
       "          [0.14450024],\n",
       "          [0.14450024],\n",
       "          [0.14450024]],\n",
       "\n",
       "         [[1.0476267 ],\n",
       "          [1.0476267 ],\n",
       "          [1.0476267 ],\n",
       "          ...,\n",
       "          [0.14450024],\n",
       "          [0.14450024],\n",
       "          [0.10837518]],\n",
       "\n",
       "         [[1.0476267 ],\n",
       "          [1.0476267 ],\n",
       "          [1.0476267 ],\n",
       "          ...,\n",
       "          [0.14450024],\n",
       "          [0.10837518],\n",
       "          [0.10837518]]],\n",
       "\n",
       "\n",
       "        [[[1.4450023 ],\n",
       "          [1.3727522 ],\n",
       "          [0.93925154],\n",
       "          ...,\n",
       "          [0.4335007 ],\n",
       "          [0.36125058],\n",
       "          [0.36125058]],\n",
       "\n",
       "         [[1.4450023 ],\n",
       "          [1.3005021 ],\n",
       "          [0.9753766 ],\n",
       "          ...,\n",
       "          [0.4335007 ],\n",
       "          [0.36125058],\n",
       "          [0.36125058]],\n",
       "\n",
       "         [[1.4811274 ],\n",
       "          [1.4811274 ],\n",
       "          [1.3366271 ],\n",
       "          ...,\n",
       "          [0.39737564],\n",
       "          [0.39737564],\n",
       "          [0.39737564]],\n",
       "\n",
       "         ...,\n",
       "\n",
       "         [[1.1198769 ],\n",
       "          [1.1198769 ],\n",
       "          [1.0837518 ],\n",
       "          ...,\n",
       "          [0.18062529],\n",
       "          [0.18062529],\n",
       "          [0.14450024]],\n",
       "\n",
       "         [[1.0837518 ],\n",
       "          [1.0837518 ],\n",
       "          [1.0476267 ],\n",
       "          ...,\n",
       "          [0.14450024],\n",
       "          [0.10837518],\n",
       "          [0.10837518]],\n",
       "\n",
       "         [[1.0837518 ],\n",
       "          [1.0837518 ],\n",
       "          [1.0476267 ],\n",
       "          ...,\n",
       "          [0.10837518],\n",
       "          [0.10837518],\n",
       "          [0.10837518]]],\n",
       "\n",
       "\n",
       "        ...,\n",
       "\n",
       "\n",
       "        [[[1.4450023 ],\n",
       "          [1.4811274 ],\n",
       "          [1.0837518 ],\n",
       "          ...,\n",
       "          [0.39737564],\n",
       "          [0.36125058],\n",
       "          [0.36125058]],\n",
       "\n",
       "         [[1.5172524 ],\n",
       "          [1.4450023 ],\n",
       "          [0.7947513 ],\n",
       "          ...,\n",
       "          [0.39737564],\n",
       "          [0.36125058],\n",
       "          [0.36125058]],\n",
       "\n",
       "         [[1.4450023 ],\n",
       "          [1.4450023 ],\n",
       "          [1.3005021 ],\n",
       "          ...,\n",
       "          [0.4335007 ],\n",
       "          [0.4335007 ],\n",
       "          [0.4335007 ]],\n",
       "\n",
       "         ...,\n",
       "\n",
       "         [[1.0837518 ],\n",
       "          [1.0837518 ],\n",
       "          [1.0837518 ],\n",
       "          ...,\n",
       "          [0.21675035],\n",
       "          [0.18062529],\n",
       "          [0.14450024]],\n",
       "\n",
       "         [[1.0837518 ],\n",
       "          [1.0837518 ],\n",
       "          [1.0837518 ],\n",
       "          ...,\n",
       "          [0.18062529],\n",
       "          [0.18062529],\n",
       "          [0.14450024]],\n",
       "\n",
       "         [[1.0476267 ],\n",
       "          [1.0476267 ],\n",
       "          [1.0476267 ],\n",
       "          ...,\n",
       "          [0.14450024],\n",
       "          [0.14450024],\n",
       "          [0.10837518]]],\n",
       "\n",
       "\n",
       "        [[[1.4088773 ],\n",
       "          [1.4088773 ],\n",
       "          [1.0837518 ],\n",
       "          ...,\n",
       "          [0.4335007 ],\n",
       "          [0.39737564],\n",
       "          [0.39737564]],\n",
       "\n",
       "         [[1.4450023 ],\n",
       "          [1.3366271 ],\n",
       "          [0.9031265 ],\n",
       "          ...,\n",
       "          [0.4335007 ],\n",
       "          [0.39737564],\n",
       "          [0.39737564]],\n",
       "\n",
       "         [[1.5172524 ],\n",
       "          [1.3727522 ],\n",
       "          [1.1560019 ],\n",
       "          ...,\n",
       "          [0.4335007 ],\n",
       "          [0.4335007 ],\n",
       "          [0.4335007 ]],\n",
       "\n",
       "         ...,\n",
       "\n",
       "         [[1.1198769 ],\n",
       "          [1.1198769 ],\n",
       "          [1.0837518 ],\n",
       "          ...,\n",
       "          [0.18062529],\n",
       "          [0.14450024],\n",
       "          [0.10837518]],\n",
       "\n",
       "         [[1.1198769 ],\n",
       "          [1.1198769 ],\n",
       "          [1.0837518 ],\n",
       "          ...,\n",
       "          [0.14450024],\n",
       "          [0.14450024],\n",
       "          [0.10837518]],\n",
       "\n",
       "         [[1.0837518 ],\n",
       "          [1.0837518 ],\n",
       "          [1.0476267 ],\n",
       "          ...,\n",
       "          [0.10837518],\n",
       "          [0.10837518],\n",
       "          [0.07225012]]],\n",
       "\n",
       "\n",
       "        [[[1.4450023 ],\n",
       "          [1.4811274 ],\n",
       "          [1.1198769 ],\n",
       "          ...,\n",
       "          [0.39737564],\n",
       "          [0.36125058],\n",
       "          [0.36125058]],\n",
       "\n",
       "         [[1.4811274 ],\n",
       "          [1.3727522 ],\n",
       "          [1.0476267 ],\n",
       "          ...,\n",
       "          [0.39737564],\n",
       "          [0.36125058],\n",
       "          [0.36125058]],\n",
       "\n",
       "         [[1.4811274 ],\n",
       "          [1.3366271 ],\n",
       "          [1.1560019 ],\n",
       "          ...,\n",
       "          [0.39737564],\n",
       "          [0.39737564],\n",
       "          [0.39737564]],\n",
       "\n",
       "         ...,\n",
       "\n",
       "         [[1.1198769 ],\n",
       "          [1.1198769 ],\n",
       "          [1.0837518 ],\n",
       "          ...,\n",
       "          [0.21675035],\n",
       "          [0.18062529],\n",
       "          [0.18062529]],\n",
       "\n",
       "         [[1.1198769 ],\n",
       "          [1.1198769 ],\n",
       "          [1.0837518 ],\n",
       "          ...,\n",
       "          [0.18062529],\n",
       "          [0.18062529],\n",
       "          [0.14450024]],\n",
       "\n",
       "         [[1.0837518 ],\n",
       "          [1.0837518 ],\n",
       "          [1.0476267 ],\n",
       "          ...,\n",
       "          [0.14450024],\n",
       "          [0.14450024],\n",
       "          [0.10837518]]]]], dtype=float32)"
      ]
     },
     "execution_count": 57,
     "metadata": {},
     "output_type": "execute_result"
    }
   ],
   "source": [
    "val = sample.next(); val[0]"
   ]
  },
  {
   "cell_type": "code",
   "execution_count": null,
   "metadata": {
    "execution": {
     "iopub.execute_input": "2023-11-16T01:02:08.849536Z",
     "iopub.status.busy": "2023-11-16T01:02:08.849213Z",
     "iopub.status.idle": "2023-11-16T01:02:08.854538Z",
     "shell.execute_reply": "2023-11-16T01:02:08.853313Z",
     "shell.execute_reply.started": "2023-11-16T01:02:08.849509Z"
    },
    "trusted": true
   },
   "outputs": [],
   "source": [
    "\n",
    "# for i in range (50):\n",
    "#     val = sample.next()\n",
    "    \n",
    "#     print(i,val[0][0][0][0][0])\n",
    "#     print(tf.strings.reduce_join([num_to_char(word) for word in val[1][0]]))\n",
    "#     yhat = model.predict(val[0])\n",
    "#     print(tf.strings.reduce_join([num_to_char(x) for x in tf.argmax(yhat[0],axis=1)]))\n",
    "#     print(tf.strings.reduce_join([num_to_char(tf.argmax(x)) for x in yhat[0]]))"
   ]
  },
  {
   "cell_type": "code",
   "execution_count": null,
   "metadata": {
    "execution": {
     "iopub.execute_input": "2023-11-16T01:02:08.857382Z",
     "iopub.status.busy": "2023-11-16T01:02:08.856444Z",
     "iopub.status.idle": "2023-11-16T01:02:08.867939Z",
     "shell.execute_reply": "2023-11-16T01:02:08.865876Z",
     "shell.execute_reply.started": "2023-11-16T01:02:08.857348Z"
    },
    "tags": [],
    "trusted": true
   },
   "outputs": [],
   "source": [
    "# imageio.mimsave('./animation.gif', val[0][0], fps=10)"
   ]
  },
  {
   "cell_type": "code",
   "execution_count": null,
   "metadata": {
    "execution": {
     "iopub.execute_input": "2023-11-16T01:02:08.871024Z",
     "iopub.status.busy": "2023-11-16T01:02:08.870680Z",
     "iopub.status.idle": "2023-11-16T01:02:09.177830Z",
     "shell.execute_reply": "2023-11-16T01:02:09.176227Z",
     "shell.execute_reply.started": "2023-11-16T01:02:08.870991Z"
    },
    "tags": [],
    "trusted": true
   },
   "outputs": [
    {
     "data": {
      "text/plain": [
       "<matplotlib.image.AxesImage at 0x2e4df3dd480>"
      ]
     },
     "execution_count": 60,
     "metadata": {},
     "output_type": "execute_result"
    },
    {
     "data": {
      "image/png": "[encoded data removed]",
      "text/plain": [
       "<Figure size 640x480 with 1 Axes>"
      ]
     },
     "metadata": {},
     "output_type": "display_data"
    }
   ],
   "source": [
    "# 0:videos, 0: 1st video out of the batch,  0: return the first frame in the video \n",
    "plt.imshow(val[0][0][35])"
   ]
  },
  {
   "cell_type": "code",
   "execution_count": null,
   "metadata": {
    "execution": {
     "iopub.execute_input": "2023-11-16T01:02:09.180156Z",
     "iopub.status.busy": "2023-11-16T01:02:09.179875Z",
     "iopub.status.idle": "2023-11-16T01:02:09.252441Z",
     "shell.execute_reply": "2023-11-16T01:02:09.250826Z",
     "shell.execute_reply.started": "2023-11-16T01:02:09.180131Z"
    },
    "tags": [],
    "trusted": true
   },
   "outputs": [
    {
     "data": {
      "text/plain": [
       "<tf.Tensor: shape=(), dtype=string, numpy=b'set green by j one soon'>"
      ]
     },
     "execution_count": 61,
     "metadata": {},
     "output_type": "execute_result"
    }
   ],
   "source": [
    "tf.strings.reduce_join([num_to_char(word) for word in val[1][0]])"
   ]
  },
  {
   "cell_type": "markdown",
   "metadata": {
    "tags": []
   },
   "source": [
    "# 3. Design the Deep Neural Network"
   ]
  },
  {
   "cell_type": "code",
   "execution_count": null,
   "metadata": {
    "execution": {
     "iopub.execute_input": "2023-11-16T01:02:09.254830Z",
     "iopub.status.busy": "2023-11-16T01:02:09.254567Z",
     "iopub.status.idle": "2023-11-16T01:02:09.267015Z",
     "shell.execute_reply": "2023-11-16T01:02:09.265945Z",
     "shell.execute_reply.started": "2023-11-16T01:02:09.254807Z"
    },
    "tags": [],
    "trusted": true
   },
   "outputs": [],
   "source": [
    "from tensorflow.keras.models import Sequential \n",
    "from tensorflow.keras.layers import Conv3D, LSTM, Dense, Dropout, Bidirectional, MaxPool3D, Activation, Reshape, SpatialDropout3D, BatchNormalization, TimeDistributed, Flatten\n",
    "from tensorflow.keras.optimizers import Adam\n",
    "from tensorflow.keras.callbacks import ModelCheckpoint, LearningRateScheduler"
   ]
  },
  {
   "cell_type": "code",
   "execution_count": null,
   "metadata": {
    "execution": {
     "iopub.execute_input": "2023-11-16T01:02:09.269962Z",
     "iopub.status.busy": "2023-11-16T01:02:09.269705Z",
     "iopub.status.idle": "2023-11-16T01:02:10.183317Z",
     "shell.execute_reply": "2023-11-16T01:02:10.182371Z",
     "shell.execute_reply.started": "2023-11-16T01:02:09.269939Z"
    },
    "trusted": true
   },
   "outputs": [
    {
     "data": {
      "text/plain": [
       "(75, 46, 140, 1)"
      ]
     },
     "execution_count": 63,
     "metadata": {},
     "output_type": "execute_result"
    }
   ],
   "source": [
    "data.as_numpy_iterator().next()[0][0].shape"
   ]
  },
  {
   "cell_type": "code",
   "execution_count": null,
   "metadata": {
    "execution": {
     "iopub.execute_input": "2023-11-16T01:02:10.185713Z",
     "iopub.status.busy": "2023-11-16T01:02:10.184620Z",
     "iopub.status.idle": "2023-11-16T01:02:12.367267Z",
     "shell.execute_reply": "2023-11-16T01:02:12.366243Z",
     "shell.execute_reply.started": "2023-11-16T01:02:10.185683Z"
    },
    "tags": [],
    "trusted": true
   },
   "outputs": [],
   "source": [
    "model = Sequential()\n",
    "model.add(Conv3D(128, 3, input_shape=(75,46,140,1), padding='same'))\n",
    "model.add(Activation('relu'))\n",
    "model.add(MaxPool3D((1,2,2)))\n",
    "\n",
    "model.add(Conv3D(256, 3, padding='same'))\n",
    "model.add(Activation('relu'))\n",
    "model.add(MaxPool3D((1,2,2)))\n",
    "\n",
    "model.add(Conv3D(75, 3, padding='same'))\n",
    "model.add(Activation('relu'))\n",
    "model.add(MaxPool3D((1,2,2)))\n",
    "\n",
    "model.add(TimeDistributed(Flatten()))\n",
    "\n",
    "model.add(Bidirectional(LSTM(128, kernel_initializer='Orthogonal', return_sequences=True)))\n",
    "model.add(Dropout(.5))\n",
    "\n",
    "model.add(Bidirectional(LSTM(128, kernel_initializer='Orthogonal', return_sequences=True)))\n",
    "model.add(Dropout(.5))\n",
    "\n",
    "model.add(Dense(char_to_num.vocabulary_size()+1, kernel_initializer='he_normal', activation='softmax'))"
   ]
  },
  {
   "cell_type": "code",
   "execution_count": null,
   "metadata": {
    "execution": {
     "iopub.execute_input": "2023-11-16T01:02:12.369086Z",
     "iopub.status.busy": "2023-11-16T01:02:12.368701Z",
     "iopub.status.idle": "2023-11-16T01:02:12.374115Z",
     "shell.execute_reply": "2023-11-16T01:02:12.373081Z",
     "shell.execute_reply.started": "2023-11-16T01:02:12.369050Z"
    },
    "trusted": true
   },
   "outputs": [],
   "source": [
    "# url = 'https://drive.google.com/uc?id=1vWscXs4Vt0a_1IH1-ct2TCgXAZT-N3_Y'\n",
    "# url = 'https://drive.google.com/file/d/1fyZoYgqZw_aRa66kiOR6J8XLu3Y9wfMg/view?usp=sharing'\n",
    "# url = 'https://drive.google.com/u/0/uc?id=1JAmcd2v0JcZStgs69VytgqwGJMlhNeaT&export=download'\n",
    "# output = 'check.zip'\n",
    "# gdown.download(url, output, quiet=False)\n",
    "# gdown.extractall('check.zip', 'models')"
   ]
  },
  {
   "cell_type": "code",
   "execution_count": null,
   "metadata": {
    "execution": {
     "iopub.execute_input": "2023-11-16T01:02:12.375650Z",
     "iopub.status.busy": "2023-11-16T01:02:12.375308Z",
     "iopub.status.idle": "2023-11-16T01:02:12.385450Z",
     "shell.execute_reply": "2023-11-16T01:02:12.384584Z",
     "shell.execute_reply.started": "2023-11-16T01:02:12.375624Z"
    },
    "trusted": true
   },
   "outputs": [],
   "source": [
    "# model.load_weights('./models/models/checkpoint')"
   ]
  },
  {
   "cell_type": "code",
   "execution_count": null,
   "metadata": {
    "execution": {
     "iopub.execute_input": "2023-11-16T01:02:12.387025Z",
     "iopub.status.busy": "2023-11-16T01:02:12.386652Z",
     "iopub.status.idle": "2023-11-16T01:02:12.432834Z",
     "shell.execute_reply": "2023-11-16T01:02:12.432029Z",
     "shell.execute_reply.started": "2023-11-16T01:02:12.386994Z"
    },
    "tags": [],
    "trusted": true
   },
   "outputs": [
    {
     "name": "stdout",
     "output_type": "stream",
     "text": [
      "Model: \"sequential\"\n",
      "_________________________________________________________________\n",
      " Layer (type)                Output Shape              Param #   \n",
      "=================================================================\n",
      " conv3d (Conv3D)             (None, 75, 46, 140, 128   3584      \n",
      "                             )                                   \n",
      "                                                                 \n",
      " activation (Activation)     (None, 75, 46, 140, 128   0         \n",
      "                             )                                   \n",
      "                                                                 \n",
      " max_pooling3d (MaxPooling3  (None, 75, 23, 70, 128)   0         \n",
      " D)                                                              \n",
      "                                                                 \n",
      " conv3d_1 (Conv3D)           (None, 75, 23, 70, 256)   884992    \n",
      "                                                                 \n",
      " activation_1 (Activation)   (None, 75, 23, 70, 256)   0         \n",
      "                                                                 \n",
      " max_pooling3d_1 (MaxPoolin  (None, 75, 11, 35, 256)   0         \n",
      " g3D)                                                            \n",
      "                                                                 \n",
      " conv3d_2 (Conv3D)           (None, 75, 11, 35, 75)    518475    \n",
      "                                                                 \n",
      " activation_2 (Activation)   (None, 75, 11, 35, 75)    0         \n",
      "                                                                 \n",
      " max_pooling3d_2 (MaxPoolin  (None, 75, 5, 17, 75)     0         \n",
      " g3D)                                                            \n",
      "                                                                 \n",
      " time_distributed (TimeDist  (None, 75, 6375)          0         \n",
      " ributed)                                                        \n",
      "                                                                 \n",
      " bidirectional (Bidirection  (None, 75, 256)           6660096   \n",
      " al)                                                             \n",
      "                                                                 \n",
      " dropout (Dropout)           (None, 75, 256)           0         \n",
      "                                                                 \n",
      " bidirectional_1 (Bidirecti  (None, 75, 256)           394240    \n",
      " onal)                                                           \n",
      "                                                                 \n",
      " dropout_1 (Dropout)         (None, 75, 256)           0         \n",
      "                                                                 \n",
      " dense (Dense)               (None, 75, 41)            10537     \n",
      "                                                                 \n",
      "=================================================================\n",
      "Total params: 8471924 (32.32 MB)\n",
      "Trainable params: 8471924 (32.32 MB)\n",
      "Non-trainable params: 0 (0.00 Byte)\n",
      "_________________________________________________________________\n"
     ]
    }
   ],
   "source": [
    "model.summary()"
   ]
  },
  {
   "cell_type": "code",
   "execution_count": null,
   "metadata": {
    "execution": {
     "iopub.execute_input": "2023-11-16T01:02:12.434271Z",
     "iopub.status.busy": "2023-11-16T01:02:12.433949Z",
     "iopub.status.idle": "2023-11-16T01:02:12.440389Z",
     "shell.execute_reply": "2023-11-16T01:02:12.439478Z",
     "shell.execute_reply.started": "2023-11-16T01:02:12.434239Z"
    },
    "trusted": true
   },
   "outputs": [
    {
     "data": {
      "text/plain": [
       "6375"
      ]
     },
     "execution_count": 68,
     "metadata": {},
     "output_type": "execute_result"
    }
   ],
   "source": [
    "5*17*75"
   ]
  },
  {
   "cell_type": "code",
   "execution_count": null,
   "metadata": {
    "execution": {
     "iopub.execute_input": "2023-11-16T01:02:12.441738Z",
     "iopub.status.busy": "2023-11-16T01:02:12.441390Z",
     "iopub.status.idle": "2023-11-16T01:02:17.867857Z",
     "shell.execute_reply": "2023-11-16T01:02:17.866905Z",
     "shell.execute_reply.started": "2023-11-16T01:02:12.441708Z"
    },
    "tags": [],
    "trusted": true
   },
   "outputs": [
    {
     "name": "stdout",
     "output_type": "stream",
     "text": [
      "1/1 [==============================] - 3s 3s/step\n"
     ]
    }
   ],
   "source": [
    "yhat = model.predict(val[0])"
   ]
  },
  {
   "cell_type": "code",
   "execution_count": null,
   "metadata": {
    "execution": {
     "iopub.execute_input": "2023-11-16T01:02:17.869776Z",
     "iopub.status.busy": "2023-11-16T01:02:17.869368Z",
     "iopub.status.idle": "2023-11-16T01:02:18.011056Z",
     "shell.execute_reply": "2023-11-16T01:02:18.009234Z",
     "shell.execute_reply.started": "2023-11-16T01:02:17.869743Z"
    },
    "trusted": true
   },
   "outputs": [
    {
     "data": {
      "text/plain": [
       "<tf.Tensor: shape=(), dtype=string, numpy=b'ooooooooooooooooooooooooooooooooooooooooooooooooooooooooooooooooooooooooooo'>"
      ]
     },
     "execution_count": 70,
     "metadata": {},
     "output_type": "execute_result"
    }
   ],
   "source": [
    "tf.strings.reduce_join([num_to_char(x) for x in tf.argmax(yhat[0],axis=1)])"
   ]
  },
  {
   "cell_type": "code",
   "execution_count": null,
   "metadata": {
    "execution": {
     "iopub.execute_input": "2023-11-16T01:02:18.014624Z",
     "iopub.status.busy": "2023-11-16T01:02:18.013854Z",
     "iopub.status.idle": "2023-11-16T01:02:18.198215Z",
     "shell.execute_reply": "2023-11-16T01:02:18.196422Z",
     "shell.execute_reply.started": "2023-11-16T01:02:18.014568Z"
    },
    "tags": [],
    "trusted": true
   },
   "outputs": [
    {
     "data": {
      "text/plain": [
       "<tf.Tensor: shape=(), dtype=string, numpy=b'ooooooooooooooooooooooooooooooooooooooooooooooooooooooooooooooooooooooooooo'>"
      ]
     },
     "execution_count": 71,
     "metadata": {},
     "output_type": "execute_result"
    }
   ],
   "source": [
    "tf.strings.reduce_join([num_to_char(tf.argmax(x)) for x in yhat[0]])"
   ]
  },
  {
   "cell_type": "code",
   "execution_count": null,
   "metadata": {
    "execution": {
     "iopub.execute_input": "2023-11-16T01:02:18.201696Z",
     "iopub.status.busy": "2023-11-16T01:02:18.200916Z",
     "iopub.status.idle": "2023-11-16T01:02:18.212821Z",
     "shell.execute_reply": "2023-11-16T01:02:18.210996Z",
     "shell.execute_reply.started": "2023-11-16T01:02:18.201612Z"
    },
    "tags": [],
    "trusted": true
   },
   "outputs": [
    {
     "data": {
      "text/plain": [
       "(None, 75, 46, 140, 1)"
      ]
     },
     "execution_count": 72,
     "metadata": {},
     "output_type": "execute_result"
    }
   ],
   "source": [
    "model.input_shape"
   ]
  },
  {
   "cell_type": "code",
   "execution_count": null,
   "metadata": {
    "execution": {
     "iopub.execute_input": "2023-11-16T01:02:18.216022Z",
     "iopub.status.busy": "2023-11-16T01:02:18.215246Z",
     "iopub.status.idle": "2023-11-16T01:02:18.227781Z",
     "shell.execute_reply": "2023-11-16T01:02:18.226185Z",
     "shell.execute_reply.started": "2023-11-16T01:02:18.215963Z"
    },
    "tags": [],
    "trusted": true
   },
   "outputs": [
    {
     "data": {
      "text/plain": [
       "(None, 75, 41)"
      ]
     },
     "execution_count": 73,
     "metadata": {},
     "output_type": "execute_result"
    }
   ],
   "source": [
    "model.output_shape"
   ]
  },
  {
   "cell_type": "markdown",
   "metadata": {
    "tags": []
   },
   "source": [
    "# 4. Setup Training Options and Train"
   ]
  },
  {
   "cell_type": "code",
   "execution_count": null,
   "metadata": {
    "execution": {
     "iopub.execute_input": "2023-11-16T01:02:18.230390Z",
     "iopub.status.busy": "2023-11-16T01:02:18.230038Z",
     "iopub.status.idle": "2023-11-16T01:02:18.238048Z",
     "shell.execute_reply": "2023-11-16T01:02:18.236699Z",
     "shell.execute_reply.started": "2023-11-16T01:02:18.230356Z"
    },
    "tags": [],
    "trusted": true
   },
   "outputs": [],
   "source": [
    "def scheduler(epoch, lr):\n",
    "    if epoch < 30:\n",
    "        return lr\n",
    "    else:\n",
    "        return lr * tf.math.exp(-0.1)"
   ]
  },
  {
   "cell_type": "code",
   "execution_count": null,
   "metadata": {
    "execution": {
     "iopub.execute_input": "2023-11-16T01:02:18.239706Z",
     "iopub.status.busy": "2023-11-16T01:02:18.239359Z",
     "iopub.status.idle": "2023-11-16T01:02:18.251918Z",
     "shell.execute_reply": "2023-11-16T01:02:18.250056Z",
     "shell.execute_reply.started": "2023-11-16T01:02:18.239678Z"
    },
    "tags": [],
    "trusted": true
   },
   "outputs": [],
   "source": [
    "def CTCLoss(y_true, y_pred):\n",
    "    batch_len = tf.cast(tf.shape(y_true)[0], dtype=\"int64\")\n",
    "    input_length = tf.cast(tf.shape(y_pred)[1], dtype=\"int64\")\n",
    "    label_length = tf.cast(tf.shape(y_true)[1], dtype=\"int64\")\n",
    "\n",
    "    input_length = input_length * tf.ones(shape=(batch_len, 1), dtype=\"int64\")\n",
    "    label_length = label_length * tf.ones(shape=(batch_len, 1), dtype=\"int64\")\n",
    "\n",
    "    loss = tf.keras.backend.ctc_batch_cost(y_true, y_pred, input_length, label_length)\n",
    "    return loss"
   ]
  },
  {
   "cell_type": "code",
   "execution_count": null,
   "metadata": {
    "execution": {
     "iopub.execute_input": "2023-11-16T01:02:18.254204Z",
     "iopub.status.busy": "2023-11-16T01:02:18.253816Z",
     "iopub.status.idle": "2023-11-16T01:02:18.267950Z",
     "shell.execute_reply": "2023-11-16T01:02:18.265822Z",
     "shell.execute_reply.started": "2023-11-16T01:02:18.254167Z"
    },
    "tags": [],
    "trusted": true
   },
   "outputs": [],
   "source": [
    "class ProduceExample(tf.keras.callbacks.Callback): \n",
    "    def __init__(self, dataset) -> None: \n",
    "        self.dataset = dataset.as_numpy_iterator()\n",
    "    \n",
    "    def on_epoch_end(self, epoch, logs=None) -> None:\n",
    "        data = self.dataset.next()\n",
    "        yhat = self.model.predict(data[0])\n",
    "        decoded = tf.keras.backend.ctc_decode(yhat, [75,75], greedy=False)[0][0].numpy()\n",
    "        for x in range(len(yhat)):           \n",
    "            print('Original:', tf.strings.reduce_join(num_to_char(data[1][x])).numpy().decode('utf-8'))\n",
    "            print('Prediction:', tf.strings.reduce_join(num_to_char(decoded[x])).numpy().decode('utf-8'))\n",
    "            print('~'*100)"
   ]
  },
  {
   "cell_type": "code",
   "execution_count": null,
   "metadata": {
    "execution": {
     "iopub.execute_input": "2023-11-16T01:02:18.272093Z",
     "iopub.status.busy": "2023-11-16T01:02:18.270718Z",
     "iopub.status.idle": "2023-11-16T01:02:18.310185Z",
     "shell.execute_reply": "2023-11-16T01:02:18.308020Z",
     "shell.execute_reply.started": "2023-11-16T01:02:18.272012Z"
    },
    "tags": [],
    "trusted": true
   },
   "outputs": [],
   "source": [
    "model.compile(optimizer=tf.keras.optimizers.legacy.Adam(learning_rate=0.00001), loss=CTCLoss)"
   ]
  },
  {
   "cell_type": "code",
   "execution_count": null,
   "metadata": {
    "execution": {
     "iopub.execute_input": "2023-11-16T01:02:18.313619Z",
     "iopub.status.busy": "2023-11-16T01:02:18.312893Z",
     "iopub.status.idle": "2023-11-16T01:02:18.323468Z",
     "shell.execute_reply": "2023-11-16T01:02:18.321547Z",
     "shell.execute_reply.started": "2023-11-16T01:02:18.313555Z"
    },
    "tags": [],
    "trusted": true
   },
   "outputs": [],
   "source": [
    "checkpoint_callback = ModelCheckpoint(os.path.join('models','checkpoint'), monitor='loss', save_weights_only=True) "
   ]
  },
  {
   "cell_type": "code",
   "execution_count": null,
   "metadata": {
    "execution": {
     "iopub.execute_input": "2023-11-16T01:02:18.326646Z",
     "iopub.status.busy": "2023-11-16T01:02:18.325921Z",
     "iopub.status.idle": "2023-11-16T01:02:18.336578Z",
     "shell.execute_reply": "2023-11-16T01:02:18.334992Z",
     "shell.execute_reply.started": "2023-11-16T01:02:18.326572Z"
    },
    "tags": [],
    "trusted": true
   },
   "outputs": [],
   "source": [
    "schedule_callback = LearningRateScheduler(scheduler)"
   ]
  },
  {
   "cell_type": "code",
   "execution_count": null,
   "metadata": {
    "execution": {
     "iopub.execute_input": "2023-11-16T01:02:18.338182Z",
     "iopub.status.busy": "2023-11-16T01:02:18.337812Z",
     "iopub.status.idle": "2023-11-16T01:02:18.375157Z",
     "shell.execute_reply": "2023-11-16T01:02:18.373543Z",
     "shell.execute_reply.started": "2023-11-16T01:02:18.338137Z"
    },
    "tags": [],
    "trusted": true
   },
   "outputs": [],
   "source": [
    "example_callback = ProduceExample(test)"
   ]
  },
  {
   "cell_type": "code",
   "execution_count": null,
   "metadata": {
    "execution": {
     "iopub.execute_input": "2023-11-16T01:02:18.378054Z",
     "iopub.status.busy": "2023-11-16T01:02:18.377394Z",
     "iopub.status.idle": "2023-11-16T01:02:18.388987Z",
     "shell.execute_reply": "2023-11-16T01:02:18.387121Z",
     "shell.execute_reply.started": "2023-11-16T01:02:18.378005Z"
    },
    "tags": [],
    "trusted": true
   },
   "outputs": [],
   "source": [
    "model.fit(train, validation_data=test, epochs=46, callbacks=[checkpoint_callback, schedule_callback, example_callback])"
   ]
  },
  {
   "cell_type": "markdown",
   "metadata": {
    "tags": []
   },
   "source": [
    "# 5. Make a Prediction "
   ]
  },
  {
   "cell_type": "code",
   "execution_count": null,
   "metadata": {
    "execution": {
     "iopub.execute_input": "2023-11-16T01:02:18.392824Z",
     "iopub.status.busy": "2023-11-16T01:02:18.391934Z",
     "iopub.status.idle": "2023-11-16T01:02:18.401515Z",
     "shell.execute_reply": "2023-11-16T01:02:18.399554Z",
     "shell.execute_reply.started": "2023-11-16T01:02:18.392766Z"
    },
    "tags": [],
    "trusted": true
   },
   "outputs": [],
   "source": [
    "# url = 'https://drive.google.com/uc?id=1vWscXs4Vt0a_1IH1-ct2TCgXAZT-N3_Y'\n",
    "# output = 'checkpoints.zip'\n",
    "# gdown.download(url, output, quiet=False)\n",
    "# gdown.extractall('checkpoints.zip', 'models')"
   ]
  },
  {
   "cell_type": "code",
   "execution_count": null,
   "metadata": {
    "execution": {
     "iopub.execute_input": "2023-11-16T01:02:18.405551Z",
     "iopub.status.busy": "2023-11-16T01:02:18.404344Z",
     "iopub.status.idle": "2023-11-16T01:02:18.414322Z",
     "shell.execute_reply": "2023-11-16T01:02:18.412503Z",
     "shell.execute_reply.started": "2023-11-16T01:02:18.405466Z"
    },
    "tags": [],
    "trusted": true
   },
   "outputs": [],
   "source": [
    "# model.load_weights('./models/checkpoint')"
   ]
  },
  {
   "cell_type": "code",
   "execution_count": null,
   "metadata": {
    "execution": {
     "iopub.execute_input": "2023-11-16T01:02:18.417827Z",
     "iopub.status.busy": "2023-11-16T01:02:18.417118Z",
     "iopub.status.idle": "2023-11-16T01:02:18.438233Z",
     "shell.execute_reply": "2023-11-16T01:02:18.436777Z",
     "shell.execute_reply.started": "2023-11-16T01:02:18.417761Z"
    },
    "tags": [],
    "trusted": true
   },
   "outputs": [],
   "source": [
    "test_data = data.as_numpy_iterator()"
   ]
  },
  {
   "cell_type": "code",
   "execution_count": null,
   "metadata": {
    "execution": {
     "iopub.execute_input": "2023-11-16T01:02:18.440743Z",
     "iopub.status.busy": "2023-11-16T01:02:18.440330Z",
     "iopub.status.idle": "2023-11-16T01:02:18.909674Z",
     "shell.execute_reply": "2023-11-16T01:02:18.908517Z",
     "shell.execute_reply.started": "2023-11-16T01:02:18.440706Z"
    },
    "tags": [],
    "trusted": true
   },
   "outputs": [],
   "source": [
    "sample = test_data.next()"
   ]
  },
  {
   "cell_type": "code",
   "execution_count": null,
   "metadata": {
    "execution": {
     "iopub.execute_input": "2023-11-16T01:02:18.911724Z",
     "iopub.status.busy": "2023-11-16T01:02:18.911098Z",
     "iopub.status.idle": "2023-11-16T01:02:18.920760Z",
     "shell.execute_reply": "2023-11-16T01:02:18.919667Z",
     "shell.execute_reply.started": "2023-11-16T01:02:18.911696Z"
    },
    "trusted": true
   },
   "outputs": [
    {
     "data": {
      "text/plain": [
       "(2, 75, 46, 140, 1)"
      ]
     },
     "execution_count": 86,
     "metadata": {},
     "output_type": "execute_result"
    }
   ],
   "source": [
    "sample[0].shape"
   ]
  },
  {
   "cell_type": "code",
   "execution_count": null,
   "metadata": {
    "execution": {
     "iopub.execute_input": "2023-11-16T01:02:18.923037Z",
     "iopub.status.busy": "2023-11-16T01:02:18.922780Z",
     "iopub.status.idle": "2023-11-16T01:02:18.934067Z",
     "shell.execute_reply": "2023-11-16T01:02:18.932549Z",
     "shell.execute_reply.started": "2023-11-16T01:02:18.923014Z"
    },
    "trusted": true
   },
   "outputs": [
    {
     "data": {
      "text/plain": [
       "(2, 40)"
      ]
     },
     "execution_count": 87,
     "metadata": {},
     "output_type": "execute_result"
    }
   ],
   "source": [
    "sample[1].shape"
   ]
  },
  {
   "cell_type": "code",
   "execution_count": null,
   "metadata": {
    "execution": {
     "iopub.execute_input": "2023-11-16T01:02:18.936239Z",
     "iopub.status.busy": "2023-11-16T01:02:18.935968Z",
     "iopub.status.idle": "2023-11-16T01:02:18.946044Z",
     "shell.execute_reply": "2023-11-16T01:02:18.944884Z",
     "shell.execute_reply.started": "2023-11-16T01:02:18.936215Z"
    },
    "trusted": true
   },
   "outputs": [
    {
     "data": {
      "text/plain": [
       "array([[ 2,  9, 14, 39,  2, 12, 21,  5, 39,  9, 14, 39, 18, 39, 19,  9,\n",
       "        24, 39, 14, 15, 23,  0,  0,  0,  0,  0,  0,  0,  0,  0,  0,  0,\n",
       "         0,  0,  0,  0,  0,  0,  0,  0],\n",
       "       [16, 12,  1,  3,  5, 39,  2, 12, 21,  5, 39, 23,  9, 20,  8, 39,\n",
       "         3, 39,  5,  9,  7,  8, 20, 39, 14, 15, 23,  0,  0,  0,  0,  0,\n",
       "         0,  0,  0,  0,  0,  0,  0,  0]], dtype=int64)"
      ]
     },
     "execution_count": 88,
     "metadata": {},
     "output_type": "execute_result"
    }
   ],
   "source": [
    "sample[1]"
   ]
  },
  {
   "cell_type": "code",
   "execution_count": null,
   "metadata": {
    "execution": {
     "iopub.execute_input": "2023-11-16T01:02:18.948652Z",
     "iopub.status.busy": "2023-11-16T01:02:18.948346Z",
     "iopub.status.idle": "2023-11-16T01:02:20.930136Z",
     "shell.execute_reply": "2023-11-16T01:02:20.929211Z",
     "shell.execute_reply.started": "2023-11-16T01:02:18.948627Z"
    },
    "tags": [],
    "trusted": true
   },
   "outputs": [
    {
     "name": "stdout",
     "output_type": "stream",
     "text": [
      "1/1 [==============================] - 3s 3s/step\n"
     ]
    }
   ],
   "source": [
    "yhat = model.predict(sample[0])"
   ]
  },
  {
   "cell_type": "code",
   "execution_count": null,
   "metadata": {
    "execution": {
     "iopub.execute_input": "2023-11-16T01:02:20.932015Z",
     "iopub.status.busy": "2023-11-16T01:02:20.931667Z",
     "iopub.status.idle": "2023-11-16T01:02:21.011348Z",
     "shell.execute_reply": "2023-11-16T01:02:21.010469Z",
     "shell.execute_reply.started": "2023-11-16T01:02:20.931982Z"
    },
    "tags": [],
    "trusted": true
   },
   "outputs": [
    {
     "name": "stdout",
     "output_type": "stream",
     "text": [
      "~~~~~~~~~~~~~~~~~~~~~~~~~~~~~~~~~~~~~~~~~~~~~~~~~~~~~~~~~~~~~~~~~~~~~~~~~~~~~~~~~~~~~~~~~~~~~~~~~~~~ REAL TEXT\n"
     ]
    },
    {
     "data": {
      "text/plain": [
       "[<tf.Tensor: shape=(), dtype=string, numpy=b'bin blue in r six now'>,\n",
       " <tf.Tensor: shape=(), dtype=string, numpy=b'place blue with c eight now'>]"
      ]
     },
     "execution_count": 90,
     "metadata": {},
     "output_type": "execute_result"
    }
   ],
   "source": [
    "print('~'*100, 'REAL TEXT')\n",
    "[tf.strings.reduce_join([num_to_char(word) for word in sentence]) for sentence in sample[1]]"
   ]
  },
  {
   "cell_type": "code",
   "execution_count": null,
   "metadata": {
    "execution": {
     "iopub.execute_input": "2023-11-16T01:02:21.012975Z",
     "iopub.status.busy": "2023-11-16T01:02:21.012632Z",
     "iopub.status.idle": "2023-11-16T01:02:21.858647Z",
     "shell.execute_reply": "2023-11-16T01:02:21.857344Z",
     "shell.execute_reply.started": "2023-11-16T01:02:21.012942Z"
    },
    "trusted": true
   },
   "outputs": [],
   "source": [
    "# for i in range (50):\n",
    "#     val = sample.next()\n",
    "    \n",
    "# #     print(i,val[0][0][0][0][0])\n",
    "#     og = tf.strings.reduce_join([num_to_char(word) for word in val[1][0]])\n",
    "#     print(og)\n",
    "#     yhat = model.predict(val[0])\n",
    "# #     print(tf.strings.reduce_join([num_to_char(x) for x in tf.argmax(yhat[0],axis=1)]))\n",
    "# #     print(tf.strings.reduce_join([num_to_char(tf.argmax(x)) for x in yhat[0]]))\n",
    "#     decoded = tf.keras.backend.ctc_decode(yhat, input_length=[75,75], greedy=True)[0][0].numpy()\n",
    "#     predicted = [tf.strings.reduce_join([num_to_char(word) for word in sentence]) for sentence in decoded]\n",
    "#     print(predicted)"
   ]
  },
  {
   "cell_type": "code",
   "execution_count": null,
   "metadata": {
    "execution": {
     "iopub.execute_input": "2023-11-16T01:02:21.860657Z",
     "iopub.status.busy": "2023-11-16T01:02:21.860217Z",
     "iopub.status.idle": "2023-11-16T01:02:21.884725Z",
     "shell.execute_reply": "2023-11-16T01:02:21.883652Z",
     "shell.execute_reply.started": "2023-11-16T01:02:21.860604Z"
    },
    "tags": [],
    "trusted": true
   },
   "outputs": [],
   "source": [
    "decoded = tf.keras.backend.ctc_decode(yhat, input_length=[75,75], greedy=True)[0][0].numpy()"
   ]
  },
  {
   "cell_type": "code",
   "execution_count": null,
   "metadata": {
    "execution": {
     "iopub.execute_input": "2023-11-16T01:02:21.886180Z",
     "iopub.status.busy": "2023-11-16T01:02:21.885892Z",
     "iopub.status.idle": "2023-11-16T01:02:22.038020Z",
     "shell.execute_reply": "2023-11-16T01:02:22.036993Z",
     "shell.execute_reply.started": "2023-11-16T01:02:21.886153Z"
    },
    "tags": [],
    "trusted": true
   },
   "outputs": [
    {
     "name": "stdout",
     "output_type": "stream",
     "text": [
      "~~~~~~~~~~~~~~~~~~~~~~~~~~~~~~~~~~~~~~~~~~~~~~~~~~~~~~~~~~~~~~~~~~~~~~~~~~~~~~~~~~~~~~~~~~~~~~~~~~~~ PREDICTIONS\n"
     ]
    },
    {
     "data": {
      "text/plain": [
       "[<tf.Tensor: shape=(), dtype=string, numpy=b'o'>,\n",
       " <tf.Tensor: shape=(), dtype=string, numpy=b'o'>]"
      ]
     },
     "execution_count": 93,
     "metadata": {},
     "output_type": "execute_result"
    }
   ],
   "source": [
    "print('~'*100, 'PREDICTIONS')\n",
    "[tf.strings.reduce_join([num_to_char(word) for word in sentence]) for sentence in decoded]"
   ]
  },
  {
   "cell_type": "code",
   "execution_count": null,
   "metadata": {},
   "outputs": [],
   "source": []
  },
  {
   "cell_type": "markdown",
   "metadata": {},
   "source": [
    "# Test on a Video"
   ]
  },
  {
   "cell_type": "code",
   "execution_count": null,
   "metadata": {
    "execution": {
     "iopub.execute_input": "2023-11-16T01:02:22.039539Z",
     "iopub.status.busy": "2023-11-16T01:02:22.039230Z",
     "iopub.status.idle": "2023-11-16T01:02:22.282420Z",
     "shell.execute_reply": "2023-11-16T01:02:22.281358Z",
     "shell.execute_reply.started": "2023-11-16T01:02:22.039513Z"
    },
    "trusted": true
   },
   "outputs": [],
   "source": [
    "sample = load_data(tf.convert_to_tensor('.\\\\data\\\\s1\\\\bbbf7s.mpg'))"
   ]
  },
  {
   "cell_type": "code",
   "execution_count": null,
   "metadata": {
    "execution": {
     "iopub.execute_input": "2023-11-16T01:02:22.284011Z",
     "iopub.status.busy": "2023-11-16T01:02:22.283682Z",
     "iopub.status.idle": "2023-11-16T01:02:22.321027Z",
     "shell.execute_reply": "2023-11-16T01:02:22.320135Z",
     "shell.execute_reply.started": "2023-11-16T01:02:22.283979Z"
    },
    "trusted": true
   },
   "outputs": [
    {
     "name": "stdout",
     "output_type": "stream",
     "text": [
      "~~~~~~~~~~~~~~~~~~~~~~~~~~~~~~~~~~~~~~~~~~~~~~~~~~~~~~~~~~~~~~~~~~~~~~~~~~~~~~~~~~~~~~~~~~~~~~~~~~~~ REAL TEXT\n"
     ]
    },
    {
     "data": {
      "text/plain": [
       "[<tf.Tensor: shape=(), dtype=string, numpy=b'bin blue by f seven soon'>]"
      ]
     },
     "execution_count": 97,
     "metadata": {},
     "output_type": "execute_result"
    }
   ],
   "source": [
    "print('~'*100, 'REAL TEXT')\n",
    "[tf.strings.reduce_join([num_to_char(word) for word in sentence]) for sentence in [sample[1]]]"
   ]
  },
  {
   "cell_type": "code",
   "execution_count": null,
   "metadata": {
    "execution": {
     "iopub.execute_input": "2023-11-16T01:02:22.323090Z",
     "iopub.status.busy": "2023-11-16T01:02:22.322717Z",
     "iopub.status.idle": "2023-11-16T01:02:22.876313Z",
     "shell.execute_reply": "2023-11-16T01:02:22.875386Z",
     "shell.execute_reply.started": "2023-11-16T01:02:22.323054Z"
    },
    "trusted": true
   },
   "outputs": [
    {
     "name": "stdout",
     "output_type": "stream",
     "text": [
      "1/1 [==============================] - 1s 911ms/step\n"
     ]
    }
   ],
   "source": [
    "yhat = model.predict(tf.expand_dims(sample[0], axis=0))"
   ]
  },
  {
   "cell_type": "code",
   "execution_count": null,
   "metadata": {
    "execution": {
     "iopub.execute_input": "2023-11-16T01:02:22.878224Z",
     "iopub.status.busy": "2023-11-16T01:02:22.877877Z",
     "iopub.status.idle": "2023-11-16T01:02:22.888161Z",
     "shell.execute_reply": "2023-11-16T01:02:22.887390Z",
     "shell.execute_reply.started": "2023-11-16T01:02:22.878191Z"
    },
    "trusted": true
   },
   "outputs": [],
   "source": [
    "decoded = tf.keras.backend.ctc_decode(yhat, input_length=[75], greedy=True)[0][0].numpy()"
   ]
  },
  {
   "cell_type": "code",
   "execution_count": null,
   "metadata": {
    "execution": {
     "iopub.execute_input": "2023-11-16T01:02:22.889733Z",
     "iopub.status.busy": "2023-11-16T01:02:22.889404Z",
     "iopub.status.idle": "2023-11-16T01:02:22.965500Z",
     "shell.execute_reply": "2023-11-16T01:02:22.964501Z",
     "shell.execute_reply.started": "2023-11-16T01:02:22.889707Z"
    },
    "trusted": true
   },
   "outputs": [
    {
     "name": "stdout",
     "output_type": "stream",
     "text": [
      "~~~~~~~~~~~~~~~~~~~~~~~~~~~~~~~~~~~~~~~~~~~~~~~~~~~~~~~~~~~~~~~~~~~~~~~~~~~~~~~~~~~~~~~~~~~~~~~~~~~~ PREDICTIONS\n"
     ]
    },
    {
     "data": {
      "text/plain": [
       "[<tf.Tensor: shape=(), dtype=string, numpy=b'o'>]"
      ]
     },
     "execution_count": 101,
     "metadata": {},
     "output_type": "execute_result"
    }
   ],
   "source": [
    "print('~'*100, 'PREDICTIONS')\n",
    "[tf.strings.reduce_join([num_to_char(word) for word in sentence]) for sentence in decoded]"
   ]
  },
  {
   "cell_type": "code",
   "execution_count": null,
   "metadata": {
    "execution": {
     "iopub.execute_input": "2023-11-16T01:02:22.966963Z",
     "iopub.status.busy": "2023-11-16T01:02:22.966690Z",
     "iopub.status.idle": "2023-11-16T01:02:22.973697Z",
     "shell.execute_reply": "2023-11-16T01:02:22.972704Z",
     "shell.execute_reply.started": "2023-11-16T01:02:22.966937Z"
    },
    "trusted": true
   },
   "outputs": [
    {
     "data": {
      "text/plain": [
       "50"
      ]
     },
     "execution_count": 102,
     "metadata": {},
     "output_type": "execute_result"
    }
   ],
   "source": [
    "len(test)"
   ]
  },
  {
   "cell_type": "code",
   "execution_count": null,
   "metadata": {},
   "outputs": [],
   "source": []
  },
  {
   "cell_type": "markdown",
   "metadata": {},
   "source": [
    "# Accuracy Analysis"
   ]
  },
  {
   "cell_type": "markdown",
   "metadata": {},
   "source": [
    "### On 50-Epoch Trained Model"
   ]
  },
  {
   "cell_type": "code",
   "execution_count": null,
   "metadata": {
    "execution": {
     "iopub.execute_input": "2023-11-16T01:02:22.975204Z",
     "iopub.status.busy": "2023-11-16T01:02:22.974883Z",
     "iopub.status.idle": "2023-11-16T01:02:30.165129Z",
     "shell.execute_reply": "2023-11-16T01:02:30.164142Z",
     "shell.execute_reply.started": "2023-11-16T01:02:22.975168Z"
    },
    "trusted": true
   },
   "outputs": [
    {
     "name": "stderr",
     "output_type": "stream",
     "text": [
      "Downloading...\n",
      "From (original): https://drive.google.com/u/0/uc?id=1JAmcd2v0JcZStgs69VytgqwGJMlhNeaT&export=download\n",
      "From (redirected): https://drive.google.com/uc?id=1JAmcd2v0JcZStgs69VytgqwGJMlhNeaT&export=download&confirm=t&uuid=c0de1440-dd0d-4a6f-8387-401c0a9e722e\n",
      "To: c:\\Users\\KIIT\\OneDrive\\Desktop\\python\\LIP_READING\\check.zip\n",
      "100%|██████████| 95.3M/95.3M [00:05<00:00, 17.0MB/s]\n"
     ]
    },
    {
     "data": {
      "text/plain": [
       "['models\\\\models/checkpoint',\n",
       " 'models\\\\models/checkpoint.index',\n",
       " 'models\\\\models/checkpoint.data-00000-of-00001']"
      ]
     },
     "execution_count": 103,
     "metadata": {},
     "output_type": "execute_result"
    }
   ],
   "source": [
    "url = 'https://drive.google.com/u/0/uc?id=1JAmcd2v0JcZStgs69VytgqwGJMlhNeaT&export=download'\n",
    "output = 'check.zip'\n",
    "gdown.download(url, output, quiet=False)\n",
    "gdown.extractall('check.zip', 'models')"
   ]
  },
  {
   "cell_type": "code",
   "execution_count": null,
   "metadata": {
    "execution": {
     "iopub.execute_input": "2023-11-16T01:02:30.167125Z",
     "iopub.status.busy": "2023-11-16T01:02:30.166689Z",
     "iopub.status.idle": "2023-11-16T01:02:30.379332Z",
     "shell.execute_reply": "2023-11-16T01:02:30.378388Z",
     "shell.execute_reply.started": "2023-11-16T01:02:30.167075Z"
    },
    "trusted": true
   },
   "outputs": [
    {
     "name": "stdout",
     "output_type": "stream",
     "text": [
      "WARNING:tensorflow:From c:\\Users\\KIIT\\anaconda3\\lib\\site-packages\\keras\\src\\saving\\legacy\\save.py:538: The name tf.train.NewCheckpointReader is deprecated. Please use tf.compat.v1.train.NewCheckpointReader instead.\n",
      "\n"
     ]
    },
    {
     "data": {
      "text/plain": [
       "<tensorflow.python.checkpoint.checkpoint.CheckpointLoadStatus at 0x2e4def7c820>"
      ]
     },
     "execution_count": 104,
     "metadata": {},
     "output_type": "execute_result"
    }
   ],
   "source": [
    "model.load_weights('models\\models\\checkpoint')"
   ]
  },
  {
   "cell_type": "code",
   "execution_count": null,
   "metadata": {
    "execution": {
     "iopub.execute_input": "2023-11-16T01:02:30.381503Z",
     "iopub.status.busy": "2023-11-16T01:02:30.380814Z",
     "iopub.status.idle": "2023-11-16T01:02:30.407552Z",
     "shell.execute_reply": "2023-11-16T01:02:30.406681Z",
     "shell.execute_reply.started": "2023-11-16T01:02:30.381465Z"
    },
    "trusted": true
   },
   "outputs": [],
   "source": [
    "data = tf.data.Dataset.list_files('./data/s1/*.mpg')\n",
    "data = data.shuffle(500, reshuffle_each_iteration=False)\n",
    "data = data.map(mappable_function)\n",
    "data = data.padded_batch(2, padded_shapes=([75,None,None,None],[40]))\n",
    "data = data.prefetch(tf.data.AUTOTUNE)"
   ]
  },
  {
   "cell_type": "code",
   "execution_count": null,
   "metadata": {
    "execution": {
     "iopub.execute_input": "2023-11-16T01:02:30.409011Z",
     "iopub.status.busy": "2023-11-16T01:02:30.408666Z",
     "iopub.status.idle": "2023-11-16T01:02:30.426119Z",
     "shell.execute_reply": "2023-11-16T01:02:30.425257Z",
     "shell.execute_reply.started": "2023-11-16T01:02:30.408978Z"
    },
    "trusted": true
   },
   "outputs": [],
   "source": [
    "test_data = data.as_numpy_iterator()"
   ]
  },
  {
   "cell_type": "code",
   "execution_count": null,
   "metadata": {
    "trusted": true
   },
   "outputs": [],
   "source": []
  },
  {
   "cell_type": "code",
   "execution_count": null,
   "metadata": {
    "execution": {
     "iopub.execute_input": "2023-11-16T01:02:30.427568Z",
     "iopub.status.busy": "2023-11-16T01:02:30.427259Z",
     "iopub.status.idle": "2023-11-16T01:02:30.437569Z",
     "shell.execute_reply": "2023-11-16T01:02:30.436456Z",
     "shell.execute_reply.started": "2023-11-16T01:02:30.427541Z"
    },
    "trusted": true
   },
   "outputs": [],
   "source": [
    "def levenshtein_distance(str1, str2):\n",
    "    len_str1 = len(str1) + 1\n",
    "    len_str2 = len(str2) + 1\n",
    "\n",
    "    # Initialize a matrix to store edit distances\n",
    "    matrix = [[0] * len_str2 for _ in range(len_str1)]\n",
    "\n",
    "    # Initialize the first row and column of the matrix\n",
    "    for i in range(len_str1):\n",
    "        matrix[i][0] = i\n",
    "    for j in range(len_str2):\n",
    "        matrix[0][j] = j\n",
    "\n",
    "    # Fill in the matrix using dynamic programming\n",
    "    for i in range(1, len_str1):\n",
    "        for j in range(1, len_str2):\n",
    "            cost = 0 if str1[i - 1] == str2[j - 1] else 1\n",
    "            matrix[i][j] = min(\n",
    "                matrix[i - 1][j] + 1,      # Deletion\n",
    "                matrix[i][j - 1] + 1,      # Insertion\n",
    "                matrix[i - 1][j - 1] + cost  # Substitution\n",
    "            )\n",
    "\n",
    "    return matrix[len_str1 - 1][len_str2 - 1]\n",
    "\n",
    "def calculate_word_error_rate(reference, hypothesis):\n",
    "    reference_words = reference.split()\n",
    "    hypothesis_words = hypothesis.split()\n",
    "\n",
    "    # Calculate Levenshtein distance between reference and hypothesis words\n",
    "    distance = levenshtein_distance(reference_words, hypothesis_words)\n",
    "\n",
    "    # Calculate Word Error Rate\n",
    "    wer = distance / len(reference_words)\n",
    "    return wer\n",
    "\n",
    "def calculate_sentence_error_rate(reference, hypothesis):\n",
    "    # Calculate Levenshtein distance between reference and hypothesis sentences\n",
    "    distance = levenshtein_distance(reference, hypothesis)\n",
    "\n",
    "    # Calculate Sentence Error Rate\n",
    "    ser = distance / len(reference)\n",
    "    return ser"
   ]
  },
  {
   "cell_type": "code",
   "execution_count": null,
   "metadata": {
    "execution": {
     "iopub.execute_input": "2023-11-16T01:02:30.449401Z",
     "iopub.status.busy": "2023-11-16T01:02:30.449087Z",
     "iopub.status.idle": "2023-11-16T01:02:30.453964Z",
     "shell.execute_reply": "2023-11-16T01:02:30.452913Z",
     "shell.execute_reply.started": "2023-11-16T01:02:30.449374Z"
    },
    "trusted": true
   },
   "outputs": [],
   "source": [
    "word_error_rates_for_model1=[]\n",
    "sentence_error_rates_for_model1=[]"
   ]
  },
  {
   "cell_type": "code",
   "execution_count": null,
   "metadata": {
    "execution": {
     "iopub.execute_input": "2023-11-16T01:02:30.455389Z",
     "iopub.status.busy": "2023-11-16T01:02:30.455065Z",
     "iopub.status.idle": "2023-11-16T01:08:45.275142Z",
     "shell.execute_reply": "2023-11-16T01:08:45.274331Z",
     "shell.execute_reply.started": "2023-11-16T01:02:30.455363Z"
    },
    "trusted": true
   },
   "outputs": [
    {
     "name": "stdout",
     "output_type": "stream",
     "text": [
      "1/1 [==============================] - 2s 2s/step\n",
      "tf.Tensor(b'lay white with m zero now', shape=(), dtype=string)\n",
      "Real Sentence 'lay white with m zero now'\n",
      "tf.Tensor(b'lay white with zero now', shape=(), dtype=string)\n",
      "Sentence Predicted 'lay white with zero now'\n",
      "Word Error Rate: 16.67%\n",
      "Sentence Error Rate: 7.41%\n",
      "\n",
      "1/1 [==============================] - 1s 1s/step\n",
      "tf.Tensor(b'place green with z zero please', shape=(), dtype=string)\n",
      "Real Sentence 'place green with z zero please'\n",
      "tf.Tensor(b'place green with z zero please', shape=(), dtype=string)\n",
      "Sentence Predicted 'place green with z zero please'\n",
      "Word Error Rate: 0.00%\n",
      "Sentence Error Rate: 0.00%\n",
      "\n",
      "1/1 [==============================] - 1s 1s/step\n",
      "tf.Tensor(b'set red by u nine again', shape=(), dtype=string)\n",
      "Real Sentence 'set red by u nine again'\n",
      "tf.Tensor(b'set red by u nine again', shape=(), dtype=string)\n",
      "Sentence Predicted 'set red by u nine again'\n",
      "Word Error Rate: 0.00%\n",
      "Sentence Error Rate: 0.00%\n",
      "\n",
      "1/1 [==============================] - 1s 1s/step\n",
      "tf.Tensor(b'place red at j zero now', shape=(), dtype=string)\n",
      "Real Sentence 'place red at j zero now'\n",
      "tf.Tensor(b'place red at j zero now', shape=(), dtype=string)\n",
      "Sentence Predicted 'place red at j zero now'\n",
      "Word Error Rate: 0.00%\n",
      "Sentence Error Rate: 0.00%\n",
      "\n",
      "1/1 [==============================] - 1s 1s/step\n",
      "tf.Tensor(b'place green by r three again', shape=(), dtype=string)\n",
      "Real Sentence 'place green by r three again'\n",
      "tf.Tensor(b'place green by three again', shape=(), dtype=string)\n",
      "Sentence Predicted 'place green by three again'\n",
      "Word Error Rate: 16.67%\n",
      "Sentence Error Rate: 6.67%\n",
      "\n",
      "1/1 [==============================] - 2s 2s/step\n",
      "tf.Tensor(b'set white at i two please', shape=(), dtype=string)\n",
      "Real Sentence 'set white at i two please'\n",
      "tf.Tensor(b'set white at two please', shape=(), dtype=string)\n",
      "Sentence Predicted 'set white at two please'\n",
      "Word Error Rate: 16.67%\n",
      "Sentence Error Rate: 7.41%\n",
      "\n",
      "1/1 [==============================] - 6s 6s/step\n",
      "tf.Tensor(b'lay red at r zero now', shape=(), dtype=string)\n",
      "Real Sentence 'lay red at r zero now'\n",
      "tf.Tensor(b'lay red at zero now', shape=(), dtype=string)\n",
      "Sentence Predicted 'lay red at zero now'\n",
      "Word Error Rate: 16.67%\n",
      "Sentence Error Rate: 8.70%\n",
      "\n",
      "1/1 [==============================] - 2s 2s/step\n",
      "tf.Tensor(b'set red at h five soon', shape=(), dtype=string)\n",
      "Real Sentence 'set red at h five soon'\n",
      "tf.Tensor(b'set red at five soon', shape=(), dtype=string)\n",
      "Sentence Predicted 'set red at five soon'\n",
      "Word Error Rate: 16.67%\n",
      "Sentence Error Rate: 8.33%\n",
      "\n",
      "1/1 [==============================] - 2s 2s/step\n",
      "tf.Tensor(b'place blue at v five again', shape=(), dtype=string)\n",
      "Real Sentence 'place blue at v five again'\n",
      "tf.Tensor(b'place blue at five again', shape=(), dtype=string)\n",
      "Sentence Predicted 'place blue at five again'\n",
      "Word Error Rate: 16.67%\n",
      "Sentence Error Rate: 7.14%\n",
      "\n",
      "1/1 [==============================] - 2s 2s/step\n",
      "tf.Tensor(b'lay red with l seven again', shape=(), dtype=string)\n",
      "Real Sentence 'lay red with l seven again'\n",
      "tf.Tensor(b'lay red with seven again', shape=(), dtype=string)\n",
      "Sentence Predicted 'lay red with seven again'\n",
      "Word Error Rate: 16.67%\n",
      "Sentence Error Rate: 7.14%\n",
      "\n",
      "1/1 [==============================] - 2s 2s/step\n",
      "1/1 [==============================] - 2s 2s/step\n",
      "1/1 [==============================] - 2s 2s/step\n",
      "1/1 [==============================] - 2s 2s/step\n",
      "1/1 [==============================] - 2s 2s/step\n",
      "1/1 [==============================] - 2s 2s/step\n",
      "1/1 [==============================] - 2s 2s/step\n",
      "1/1 [==============================] - 2s 2s/step\n",
      "1/1 [==============================] - 2s 2s/step\n",
      "1/1 [==============================] - 2s 2s/step\n",
      "1/1 [==============================] - 2s 2s/step\n",
      "1/1 [==============================] - 2s 2s/step\n",
      "1/1 [==============================] - 2s 2s/step\n",
      "1/1 [==============================] - 2s 2s/step\n",
      "1/1 [==============================] - 2s 2s/step\n",
      "1/1 [==============================] - 2s 2s/step\n",
      "1/1 [==============================] - 2s 2s/step\n",
      "1/1 [==============================] - 2s 2s/step\n",
      "1/1 [==============================] - 2s 2s/step\n",
      "1/1 [==============================] - 2s 2s/step\n",
      "1/1 [==============================] - 2s 2s/step\n",
      "1/1 [==============================] - 1s 1s/step\n",
      "1/1 [==============================] - 1s 1s/step\n",
      "1/1 [==============================] - 1s 1s/step\n",
      "1/1 [==============================] - 1s 1s/step\n",
      "1/1 [==============================] - 1s 1s/step\n",
      "1/1 [==============================] - 1s 1s/step\n",
      "1/1 [==============================] - 1s 1s/step\n",
      "1/1 [==============================] - 1s 1s/step\n",
      "1/1 [==============================] - 1s 1s/step\n",
      "1/1 [==============================] - 1s 1s/step\n",
      "1/1 [==============================] - 1s 1s/step\n",
      "1/1 [==============================] - 1s 1s/step\n",
      "1/1 [==============================] - 1s 1s/step\n",
      "1/1 [==============================] - 1s 1s/step\n",
      "1/1 [==============================] - 1s 1s/step\n",
      "1/1 [==============================] - 1s 1s/step\n",
      "1/1 [==============================] - 1s 1s/step\n",
      "1/1 [==============================] - 1s 1s/step\n",
      "1/1 [==============================] - 1s 1s/step\n",
      "1/1 [==============================] - 1s 1s/step\n",
      "1/1 [==============================] - 1s 1s/step\n",
      "1/1 [==============================] - 1s 1s/step\n",
      "1/1 [==============================] - 1s 1s/step\n",
      "1/1 [==============================] - 1s 1s/step\n",
      "1/1 [==============================] - 1s 1s/step\n",
      "1/1 [==============================] - 1s 1s/step\n",
      "1/1 [==============================] - 1s 1s/step\n",
      "1/1 [==============================] - 1s 1s/step\n",
      "1/1 [==============================] - 1s 1s/step\n",
      "1/1 [==============================] - 1s 1s/step\n",
      "1/1 [==============================] - 1s 1s/step\n",
      "1/1 [==============================] - 1s 1s/step\n",
      "1/1 [==============================] - 1s 1s/step\n",
      "1/1 [==============================] - 1s 1s/step\n",
      "1/1 [==============================] - 1s 1s/step\n",
      "1/1 [==============================] - 1s 1s/step\n",
      "1/1 [==============================] - 1s 1s/step\n",
      "1/1 [==============================] - 1s 1s/step\n",
      "1/1 [==============================] - 1s 1s/step\n",
      "1/1 [==============================] - 1s 1s/step\n",
      "1/1 [==============================] - 1s 1s/step\n",
      "1/1 [==============================] - 1s 1s/step\n",
      "1/1 [==============================] - 1s 1s/step\n",
      "1/1 [==============================] - 1s 1s/step\n",
      "1/1 [==============================] - 1s 1s/step\n",
      "1/1 [==============================] - 1s 1s/step\n",
      "1/1 [==============================] - 1s 1s/step\n",
      "1/1 [==============================] - 1s 1s/step\n",
      "1/1 [==============================] - 1s 1s/step\n",
      "1/1 [==============================] - 1s 1s/step\n",
      "1/1 [==============================] - 1s 1s/step\n",
      "1/1 [==============================] - 1s 1s/step\n",
      "1/1 [==============================] - 1s 1s/step\n",
      "1/1 [==============================] - 1s 1s/step\n",
      "1/1 [==============================] - 1s 1s/step\n",
      "1/1 [==============================] - 1s 1s/step\n",
      "1/1 [==============================] - 1s 1s/step\n",
      "1/1 [==============================] - 1s 1s/step\n",
      "1/1 [==============================] - 1s 1s/step\n",
      "1/1 [==============================] - 1s 1s/step\n",
      "1/1 [==============================] - 1s 1s/step\n",
      "1/1 [==============================] - 1s 1s/step\n",
      "1/1 [==============================] - 1s 1s/step\n",
      "1/1 [==============================] - 1s 1s/step\n",
      "1/1 [==============================] - 1s 1s/step\n",
      "1/1 [==============================] - 1s 1s/step\n",
      "1/1 [==============================] - 1s 1s/step\n",
      "1/1 [==============================] - 1s 1s/step\n",
      "1/1 [==============================] - 1s 1s/step\n",
      "1/1 [==============================] - 1s 1s/step\n",
      "1/1 [==============================] - 7s 7s/step\n",
      "1/1 [==============================] - 2s 2s/step\n",
      "1/1 [==============================] - 1s 1s/step\n",
      "1/1 [==============================] - 1s 1s/step\n",
      "1/1 [==============================] - 1s 1s/step\n",
      "1/1 [==============================] - 1s 1s/step\n",
      "1/1 [==============================] - 1s 1s/step\n",
      "1/1 [==============================] - 1s 1s/step\n",
      "1/1 [==============================] - 1s 1s/step\n",
      "1/1 [==============================] - 1s 1s/step\n",
      "1/1 [==============================] - 1s 1s/step\n",
      "1/1 [==============================] - 1s 1s/step\n",
      "1/1 [==============================] - 1s 1s/step\n",
      "1/1 [==============================] - 1s 1s/step\n",
      "1/1 [==============================] - 1s 1s/step\n",
      "1/1 [==============================] - 1s 1s/step\n",
      "1/1 [==============================] - 1s 1s/step\n",
      "1/1 [==============================] - 1s 1s/step\n",
      "1/1 [==============================] - 1s 1s/step\n",
      "1/1 [==============================] - 1s 1s/step\n",
      "1/1 [==============================] - 1s 1s/step\n",
      "1/1 [==============================] - 1s 1s/step\n",
      "1/1 [==============================] - 1s 1s/step\n",
      "1/1 [==============================] - 1s 1s/step\n",
      "1/1 [==============================] - 1s 1s/step\n",
      "1/1 [==============================] - 1s 1s/step\n",
      "1/1 [==============================] - 1s 1s/step\n",
      "1/1 [==============================] - 1s 1s/step\n",
      "1/1 [==============================] - 1s 1s/step\n",
      "1/1 [==============================] - 1s 1s/step\n",
      "1/1 [==============================] - 1s 1s/step\n",
      "1/1 [==============================] - 1s 1s/step\n",
      "1/1 [==============================] - 1s 1s/step\n",
      "1/1 [==============================] - 1s 1s/step\n",
      "1/1 [==============================] - 1s 1s/step\n",
      "1/1 [==============================] - 1s 1s/step\n",
      "1/1 [==============================] - 1s 1s/step\n",
      "1/1 [==============================] - 1s 1s/step\n",
      "1/1 [==============================] - 1s 1s/step\n",
      "1/1 [==============================] - 1s 1s/step\n",
      "1/1 [==============================] - 1s 1s/step\n",
      "1/1 [==============================] - 1s 1s/step\n",
      "1/1 [==============================] - 1s 1s/step\n",
      "1/1 [==============================] - 1s 1s/step\n",
      "1/1 [==============================] - 1s 1s/step\n",
      "1/1 [==============================] - 4s 4s/step\n",
      "1/1 [==============================] - 3s 3s/step\n",
      "1/1 [==============================] - 1s 1s/step\n",
      "1/1 [==============================] - 1s 1s/step\n",
      "1/1 [==============================] - 1s 1s/step\n",
      "1/1 [==============================] - 1s 1s/step\n",
      "1/1 [==============================] - 1s 1s/step\n",
      "1/1 [==============================] - 1s 1s/step\n",
      "1/1 [==============================] - 1s 1s/step\n",
      "1/1 [==============================] - 1s 1s/step\n",
      "1/1 [==============================] - 1s 1s/step\n",
      "1/1 [==============================] - 1s 1s/step\n",
      "1/1 [==============================] - 1s 1s/step\n",
      "1/1 [==============================] - 1s 1s/step\n",
      "1/1 [==============================] - 1s 1s/step\n",
      "1/1 [==============================] - 1s 1s/step\n",
      "1/1 [==============================] - 1s 1s/step\n",
      "1/1 [==============================] - 1s 1s/step\n",
      "1/1 [==============================] - 1s 1s/step\n",
      "1/1 [==============================] - 1s 1s/step\n",
      "1/1 [==============================] - 1s 1s/step\n",
      "1/1 [==============================] - 1s 1s/step\n",
      "1/1 [==============================] - 1s 1s/step\n",
      "1/1 [==============================] - 1s 1s/step\n",
      "1/1 [==============================] - 1s 1s/step\n",
      "1/1 [==============================] - 1s 1s/step\n",
      "1/1 [==============================] - 1s 1s/step\n",
      "1/1 [==============================] - 1s 1s/step\n",
      "1/1 [==============================] - 1s 1s/step\n",
      "1/1 [==============================] - 1s 1s/step\n",
      "1/1 [==============================] - 1s 1s/step\n",
      "1/1 [==============================] - 1s 1s/step\n",
      "1/1 [==============================] - 1s 1s/step\n",
      "1/1 [==============================] - 1s 1s/step\n",
      "1/1 [==============================] - 1s 1s/step\n",
      "1/1 [==============================] - 1s 1s/step\n",
      "1/1 [==============================] - 1s 1s/step\n",
      "1/1 [==============================] - 1s 1s/step\n",
      "1/1 [==============================] - 1s 1s/step\n",
      "1/1 [==============================] - 1s 1s/step\n",
      "1/1 [==============================] - 1s 1s/step\n",
      "1/1 [==============================] - 1s 1s/step\n",
      "1/1 [==============================] - 1s 1s/step\n",
      "1/1 [==============================] - 6s 6s/step\n",
      "1/1 [==============================] - 1s 1s/step\n",
      "1/1 [==============================] - 1s 1s/step\n",
      "1/1 [==============================] - 1s 1s/step\n",
      "1/1 [==============================] - 1s 1s/step\n",
      "1/1 [==============================] - 1s 1s/step\n",
      "1/1 [==============================] - 1s 1s/step\n",
      "1/1 [==============================] - 1s 1s/step\n",
      "1/1 [==============================] - 1s 1s/step\n",
      "1/1 [==============================] - 1s 1s/step\n",
      "1/1 [==============================] - 1s 1s/step\n",
      "1/1 [==============================] - 1s 1s/step\n",
      "1/1 [==============================] - 1s 1s/step\n",
      "1/1 [==============================] - 1s 1s/step\n",
      "1/1 [==============================] - 1s 1s/step\n",
      "1/1 [==============================] - 1s 1s/step\n",
      "1/1 [==============================] - 1s 1s/step\n",
      "1/1 [==============================] - 1s 1s/step\n",
      "1/1 [==============================] - 1s 1s/step\n",
      "1/1 [==============================] - 1s 1s/step\n",
      "1/1 [==============================] - 1s 1s/step\n",
      "1/1 [==============================] - 1s 1s/step\n",
      "1/1 [==============================] - 1s 1s/step\n",
      "1/1 [==============================] - 1s 1s/step\n",
      "1/1 [==============================] - 1s 1s/step\n",
      "1/1 [==============================] - 1s 1s/step\n",
      "1/1 [==============================] - 1s 1s/step\n",
      "1/1 [==============================] - 1s 1s/step\n",
      "1/1 [==============================] - 1s 1s/step\n",
      "1/1 [==============================] - 1s 1s/step\n",
      "1/1 [==============================] - 1s 1s/step\n",
      "1/1 [==============================] - 1s 1s/step\n",
      "1/1 [==============================] - 1s 1s/step\n",
      "1/1 [==============================] - 1s 1s/step\n",
      "1/1 [==============================] - 1s 1s/step\n",
      "1/1 [==============================] - 1s 1s/step\n",
      "1/1 [==============================] - 1s 1s/step\n",
      "1/1 [==============================] - 1s 1s/step\n",
      "1/1 [==============================] - 1s 1s/step\n",
      "1/1 [==============================] - 1s 1s/step\n",
      "1/1 [==============================] - 1s 1s/step\n",
      "1/1 [==============================] - 1s 1s/step\n",
      "1/1 [==============================] - 2s 2s/step\n",
      "1/1 [==============================] - 6s 6s/step\n",
      "1/1 [==============================] - 1s 1s/step\n",
      "1/1 [==============================] - 1s 1s/step\n",
      "1/1 [==============================] - 1s 1s/step\n",
      "1/1 [==============================] - 1s 1s/step\n",
      "1/1 [==============================] - 1s 1s/step\n",
      "1/1 [==============================] - 1s 1s/step\n",
      "1/1 [==============================] - 1s 1s/step\n",
      "1/1 [==============================] - 1s 1s/step\n",
      "1/1 [==============================] - 1s 1s/step\n",
      "1/1 [==============================] - 1s 1s/step\n",
      "1/1 [==============================] - 1s 1s/step\n",
      "1/1 [==============================] - 1s 1s/step\n",
      "1/1 [==============================] - 1s 1s/step\n",
      "1/1 [==============================] - 1s 1s/step\n",
      "1/1 [==============================] - 1s 1s/step\n",
      "1/1 [==============================] - 1s 1s/step\n",
      "1/1 [==============================] - 1s 1s/step\n",
      "1/1 [==============================] - 1s 1s/step\n",
      "1/1 [==============================] - 1s 1s/step\n",
      "1/1 [==============================] - 1s 1s/step\n",
      "1/1 [==============================] - 1s 1s/step\n",
      "1/1 [==============================] - 2s 2s/step\n",
      "1/1 [==============================] - 4s 4s/step\n",
      "1/1 [==============================] - 1s 1s/step\n",
      "1/1 [==============================] - 1s 1s/step\n",
      "1/1 [==============================] - 1s 1s/step\n",
      "1/1 [==============================] - 1s 1s/step\n",
      "1/1 [==============================] - 1s 1s/step\n",
      "1/1 [==============================] - 1s 1s/step\n",
      "1/1 [==============================] - 1s 1s/step\n",
      "1/1 [==============================] - 1s 1s/step\n",
      "1/1 [==============================] - 1s 1s/step\n",
      "1/1 [==============================] - 1s 1s/step\n",
      "1/1 [==============================] - 1s 1s/step\n",
      "1/1 [==============================] - 1s 1s/step\n",
      "1/1 [==============================] - 1s 1s/step\n",
      "1/1 [==============================] - 1s 1s/step\n",
      "1/1 [==============================] - 1s 1s/step\n",
      "1/1 [==============================] - 1s 1s/step\n",
      "1/1 [==============================] - 1s 1s/step\n",
      "1/1 [==============================] - 1s 1s/step\n",
      "1/1 [==============================] - 1s 1s/step\n",
      "1/1 [==============================] - 1s 1s/step\n",
      "1/1 [==============================] - 3s 3s/step\n",
      "1/1 [==============================] - 4s 4s/step\n",
      "1/1 [==============================] - 1s 1s/step\n",
      "1/1 [==============================] - 1s 1s/step\n",
      "1/1 [==============================] - 1s 1s/step\n",
      "1/1 [==============================] - 1s 1s/step\n",
      "1/1 [==============================] - 1s 1s/step\n",
      "1/1 [==============================] - 1s 1s/step\n",
      "1/1 [==============================] - 1s 1s/step\n",
      "1/1 [==============================] - 1s 1s/step\n",
      "1/1 [==============================] - 1s 1s/step\n",
      "1/1 [==============================] - 1s 1s/step\n",
      "1/1 [==============================] - 1s 1s/step\n",
      "1/1 [==============================] - 1s 1s/step\n",
      "1/1 [==============================] - 1s 1s/step\n",
      "1/1 [==============================] - 1s 1s/step\n",
      "1/1 [==============================] - 1s 1s/step\n",
      "1/1 [==============================] - 1s 1s/step\n",
      "1/1 [==============================] - 1s 1s/step\n",
      "1/1 [==============================] - 11s 11s/step\n",
      "1/1 [==============================] - 1s 1s/step\n",
      "1/1 [==============================] - 1s 1s/step\n",
      "1/1 [==============================] - 1s 1s/step\n",
      "1/1 [==============================] - 1s 1s/step\n",
      "1/1 [==============================] - 1s 1s/step\n",
      "1/1 [==============================] - 1s 1s/step\n",
      "1/1 [==============================] - 1s 1s/step\n",
      "1/1 [==============================] - 1s 1s/step\n",
      "1/1 [==============================] - 5s 5s/step\n",
      "1/1 [==============================] - 1s 1s/step\n",
      "1/1 [==============================] - 2s 2s/step\n",
      "1/1 [==============================] - 1s 1s/step\n",
      "1/1 [==============================] - 1s 1s/step\n",
      "1/1 [==============================] - 1s 1s/step\n",
      "1/1 [==============================] - 1s 1s/step\n",
      "1/1 [==============================] - 1s 1s/step\n",
      "1/1 [==============================] - 1s 1s/step\n",
      "1/1 [==============================] - 1s 1s/step\n",
      "1/1 [==============================] - 1s 1s/step\n",
      "1/1 [==============================] - 1s 1s/step\n",
      "1/1 [==============================] - 1s 1s/step\n",
      "1/1 [==============================] - 1s 1s/step\n",
      "1/1 [==============================] - 1s 1s/step\n",
      "1/1 [==============================] - 1s 1s/step\n",
      "1/1 [==============================] - 1s 1s/step\n",
      "1/1 [==============================] - 1s 1s/step\n",
      "1/1 [==============================] - 1s 1s/step\n",
      "1/1 [==============================] - 1s 1s/step\n",
      "1/1 [==============================] - 1s 1s/step\n",
      "1/1 [==============================] - 1s 1s/step\n",
      "1/1 [==============================] - 1s 1s/step\n",
      "1/1 [==============================] - 5s 5s/step\n",
      "1/1 [==============================] - 2s 2s/step\n",
      "1/1 [==============================] - 1s 1s/step\n",
      "1/1 [==============================] - 1s 1s/step\n",
      "1/1 [==============================] - 1s 1s/step\n",
      "1/1 [==============================] - 1s 1s/step\n",
      "1/1 [==============================] - 1s 1s/step\n",
      "1/1 [==============================] - 1s 1s/step\n",
      "1/1 [==============================] - 1s 1s/step\n",
      "1/1 [==============================] - 1s 1s/step\n",
      "1/1 [==============================] - 1s 1s/step\n",
      "1/1 [==============================] - 1s 1s/step\n",
      "1/1 [==============================] - 1s 1s/step\n",
      "1/1 [==============================] - 1s 1s/step\n",
      "1/1 [==============================] - 1s 1s/step\n",
      "1/1 [==============================] - 1s 1s/step\n",
      "1/1 [==============================] - 1s 1s/step\n",
      "1/1 [==============================] - 1s 1s/step\n",
      "1/1 [==============================] - 1s 1s/step\n",
      "1/1 [==============================] - 1s 1s/step\n",
      "1/1 [==============================] - 5s 5s/step\n",
      "1/1 [==============================] - 1s 1s/step\n",
      "1/1 [==============================] - 1s 1s/step\n",
      "1/1 [==============================] - 1s 1s/step\n",
      "1/1 [==============================] - 1s 1s/step\n",
      "1/1 [==============================] - 1s 1s/step\n",
      "1/1 [==============================] - 1s 1s/step\n",
      "1/1 [==============================] - 1s 1s/step\n",
      "1/1 [==============================] - 1s 1s/step\n",
      "1/1 [==============================] - 1s 1s/step\n",
      "1/1 [==============================] - 1s 1s/step\n",
      "1/1 [==============================] - 1s 1s/step\n",
      "1/1 [==============================] - 1s 1s/step\n",
      "1/1 [==============================] - 1s 1s/step\n",
      "1/1 [==============================] - 1s 1s/step\n",
      "1/1 [==============================] - 1s 1s/step\n",
      "1/1 [==============================] - 1s 1s/step\n",
      "1/1 [==============================] - 1s 1s/step\n",
      "1/1 [==============================] - 5s 5s/step\n",
      "1/1 [==============================] - 1s 1s/step\n",
      "1/1 [==============================] - 1s 1s/step\n",
      "1/1 [==============================] - 1s 1s/step\n",
      "1/1 [==============================] - 1s 1s/step\n",
      "1/1 [==============================] - 1s 1s/step\n",
      "1/1 [==============================] - 1s 1s/step\n",
      "1/1 [==============================] - 1s 1s/step\n",
      "1/1 [==============================] - 1s 1s/step\n",
      "1/1 [==============================] - 1s 1s/step\n",
      "1/1 [==============================] - 1s 1s/step\n",
      "1/1 [==============================] - 1s 1s/step\n",
      "1/1 [==============================] - 1s 1s/step\n",
      "1/1 [==============================] - 1s 1s/step\n",
      "1/1 [==============================] - 1s 1s/step\n",
      "1/1 [==============================] - 1s 1s/step\n",
      "1/1 [==============================] - 1s 1s/step\n",
      "1/1 [==============================] - 1s 1s/step\n",
      "1/1 [==============================] - 1s 1s/step\n",
      "1/1 [==============================] - 4s 4s/step\n",
      "1/1 [==============================] - 3s 3s/step\n",
      "1/1 [==============================] - 1s 1s/step\n",
      "1/1 [==============================] - 1s 1s/step\n",
      "1/1 [==============================] - 1s 1s/step\n",
      "1/1 [==============================] - 1s 1s/step\n",
      "1/1 [==============================] - 1s 1s/step\n",
      "1/1 [==============================] - 1s 1s/step\n",
      "1/1 [==============================] - 1s 1s/step\n",
      "1/1 [==============================] - 1s 1s/step\n",
      "1/1 [==============================] - 1s 1s/step\n",
      "1/1 [==============================] - 1s 1s/step\n",
      "1/1 [==============================] - 1s 1s/step\n",
      "1/1 [==============================] - 1s 1s/step\n",
      "1/1 [==============================] - 1s 1s/step\n",
      "1/1 [==============================] - 1s 1s/step\n",
      "1/1 [==============================] - 1s 1s/step\n",
      "1/1 [==============================] - 1s 1s/step\n",
      "1/1 [==============================] - 1s 1s/step\n",
      "1/1 [==============================] - 1s 1s/step\n",
      "1/1 [==============================] - 1s 1s/step\n",
      "1/1 [==============================] - 1s 1s/step\n",
      "1/1 [==============================] - 1s 1s/step\n",
      "1/1 [==============================] - 3s 3s/step\n",
      "1/1 [==============================] - 4s 4s/step\n",
      "1/1 [==============================] - 1s 1s/step\n",
      "1/1 [==============================] - 1s 1s/step\n",
      "1/1 [==============================] - 1s 1s/step\n",
      "1/1 [==============================] - 1s 1s/step\n",
      "1/1 [==============================] - 1s 1s/step\n",
      "1/1 [==============================] - 1s 1s/step\n",
      "1/1 [==============================] - 1s 1s/step\n",
      "1/1 [==============================] - 1s 1s/step\n",
      "1/1 [==============================] - 1s 1s/step\n",
      "1/1 [==============================] - 1s 1s/step\n",
      "1/1 [==============================] - 1s 1s/step\n",
      "1/1 [==============================] - 1s 1s/step\n",
      "1/1 [==============================] - 1s 1s/step\n",
      "1/1 [==============================] - 1s 1s/step\n",
      "1/1 [==============================] - 1s 1s/step\n",
      "1/1 [==============================] - 1s 1s/step\n",
      "1/1 [==============================] - 1s 1s/step\n",
      "1/1 [==============================] - 1s 1s/step\n",
      "1/1 [==============================] - 1s 1s/step\n",
      "1/1 [==============================] - 1s 1s/step\n",
      "1/1 [==============================] - 1s 1s/step\n",
      "1/1 [==============================] - 5s 5s/step\n",
      "1/1 [==============================] - 3s 3s/step\n",
      "1/1 [==============================] - 1s 1s/step\n",
      "1/1 [==============================] - 1s 1s/step\n",
      "1/1 [==============================] - 1s 1s/step\n",
      "1/1 [==============================] - 1s 1s/step\n",
      "1/1 [==============================] - 1s 1s/step\n",
      "1/1 [==============================] - 8s 8s/step\n",
      "1/1 [==============================] - 1s 1s/step\n",
      "1/1 [==============================] - 1s 1s/step\n",
      "1/1 [==============================] - 1s 1s/step\n",
      "1/1 [==============================] - 1s 1s/step\n",
      "1/1 [==============================] - 1s 1s/step\n",
      "1/1 [==============================] - 1s 1s/step\n",
      "1/1 [==============================] - 1s 1s/step\n",
      "1/1 [==============================] - 1s 1s/step\n",
      "1/1 [==============================] - 1s 1s/step\n",
      "1/1 [==============================] - 1s 1s/step\n",
      "1/1 [==============================] - 1s 1s/step\n",
      "1/1 [==============================] - 1s 1s/step\n",
      "1/1 [==============================] - 1s 1s/step\n",
      "1/1 [==============================] - 1s 1s/step\n",
      "1/1 [==============================] - 1s 1s/step\n",
      "1/1 [==============================] - 1s 1s/step\n",
      "1/1 [==============================] - 1s 1s/step\n",
      "1/1 [==============================] - 3s 3s/step\n",
      "1/1 [==============================] - 4s 4s/step\n",
      "1/1 [==============================] - 1s 1s/step\n",
      "1/1 [==============================] - 1s 1s/step\n",
      "1/1 [==============================] - 1s 1s/step\n",
      "1/1 [==============================] - 1s 1s/step\n",
      "1/1 [==============================] - 1s 1s/step\n",
      "1/1 [==============================] - 1s 1s/step\n",
      "1/1 [==============================] - 2s 2s/step\n",
      "1/1 [==============================] - 1s 1s/step\n",
      "1/1 [==============================] - 3s 3s/step\n",
      "1/1 [==============================] - 2s 2s/step\n",
      "1/1 [==============================] - 1s 1s/step\n",
      "1/1 [==============================] - 1s 1s/step\n",
      "1/1 [==============================] - 1s 1s/step\n",
      "1/1 [==============================] - 2s 2s/step\n",
      "1/1 [==============================] - 1s 1s/step\n",
      "1/1 [==============================] - 1s 1s/step\n",
      "1/1 [==============================] - 1s 1s/step\n",
      "1/1 [==============================] - 1s 1s/step\n",
      "1/1 [==============================] - 1s 1s/step\n",
      "1/1 [==============================] - 1s 1s/step\n",
      "1/1 [==============================] - 1s 1s/step\n",
      "1/1 [==============================] - 1s 1s/step\n",
      "1/1 [==============================] - 1s 1s/step\n",
      "1/1 [==============================] - 1s 1s/step\n",
      "1/1 [==============================] - 1s 1s/step\n",
      "1/1 [==============================] - 5s 5s/step\n",
      "1/1 [==============================] - 3s 3s/step\n",
      "1/1 [==============================] - 1s 1s/step\n",
      "1/1 [==============================] - 1s 1s/step\n",
      "1/1 [==============================] - 1s 1s/step\n",
      "1/1 [==============================] - 1s 1s/step\n",
      "1/1 [==============================] - 1s 1s/step\n",
      "1/1 [==============================] - 3s 3s/step\n",
      "1/1 [==============================] - 4s 4s/step\n",
      "1/1 [==============================] - 1s 1s/step\n",
      "1/1 [==============================] - 1s 1s/step\n",
      "1/1 [==============================] - 1s 1s/step\n",
      "1/1 [==============================] - 1s 1s/step\n",
      "1/1 [==============================] - 1s 1s/step\n",
      "1/1 [==============================] - 1s 1s/step\n",
      "1/1 [==============================] - 1s 1s/step\n",
      "1/1 [==============================] - 2s 2s/step\n",
      "1/1 [==============================] - 5s 5s/step\n"
     ]
    }
   ],
   "source": [
    "for i in range (500):\n",
    "    try:\n",
    "        sample = test_data.next()\n",
    "\n",
    "        #     print(i,val[0][0][0][0][0])\n",
    "        og = [tf.strings.reduce_join([num_to_char(word) for word in sentence]) for sentence in sample[1]]\n",
    "        #     og = tf.strings.reduce_join([num_to_char(word) for word in sample[1][0]])\n",
    "\n",
    "        yhat = model.predict(sample[0])\n",
    "        #     print(tf.strings.reduce_join([num_to_char(x) for x in tf.argmax(yhat[0],axis=1)]))\n",
    "        #     print(tf.strings.reduce_join([num_to_char(tf.argmax(x)) for x in yhat[0]]))\n",
    "        decoded = tf.keras.backend.ctc_decode(yhat, input_length=[75,75], greedy=True)[0][0].numpy()\n",
    "        predicted = [tf.strings.reduce_join([num_to_char(word) for word in sentence]) for sentence in decoded]\n",
    "\n",
    "\n",
    "        reference_string = str(og[1])[11:-25]\n",
    "        hypothesis_string = str(predicted[1])[11:-25]\n",
    "\n",
    "        wer = calculate_word_error_rate(reference_string, hypothesis_string)\n",
    "        ser = calculate_sentence_error_rate(reference_string, hypothesis_string)\n",
    "\n",
    "        word_error_rates_for_model1.append(wer)\n",
    "        sentence_error_rates_for_model1.append(ser)\n",
    "\n",
    "        if i<10: # print results for first 10 sentences\n",
    "\n",
    "            print(og[1])\n",
    "            print(\"Real Sentence\",str(og[1])[11:-25])\n",
    "\n",
    "            print(predicted[1])\n",
    "            print(\"Sentence Predicted\",str(predicted[1])[11:-25])\n",
    "\n",
    "            print(f\"Word Error Rate: {wer * 100:.2f}%\")\n",
    "            print(f\"Sentence Error Rate: {ser * 100:.2f}%\")\n",
    "\n",
    "            print()\n",
    "    except:\n",
    "        pass\n",
    "    "
   ]
  },
  {
   "cell_type": "code",
   "execution_count": null,
   "metadata": {
    "execution": {
     "iopub.execute_input": "2023-11-16T01:17:31.428961Z",
     "iopub.status.busy": "2023-11-16T01:17:31.428170Z",
     "iopub.status.idle": "2023-11-16T01:17:31.434840Z",
     "shell.execute_reply": "2023-11-16T01:17:31.433817Z",
     "shell.execute_reply.started": "2023-11-16T01:17:31.428928Z"
    },
    "trusted": true
   },
   "outputs": [
    {
     "name": "stdout",
     "output_type": "stream",
     "text": [
      "For Model 1\n",
      "Mean Word Error Rate: 14.41%\n",
      "Mean Sentence Error Rate: 6.09%\n"
     ]
    }
   ],
   "source": [
    "mean_wer=sum(word_error_rates_for_model1)/len(word_error_rates_for_model1)\n",
    "mean_ser=sum(sentence_error_rates_for_model1)/len(sentence_error_rates_for_model1)\n",
    "\n",
    "print(\"For Model 1\")\n",
    "print(f\"Mean Word Error Rate: {mean_wer * 100:.2f}%\")\n",
    "print(f\"Mean Sentence Error Rate: {mean_ser * 100:.2f}%\")"
   ]
  },
  {
   "cell_type": "code",
   "execution_count": null,
   "metadata": {
    "execution": {
     "iopub.execute_input": "2023-11-16T01:20:38.433324Z",
     "iopub.status.busy": "2023-11-16T01:20:38.432927Z",
     "iopub.status.idle": "2023-11-16T01:20:38.437901Z",
     "shell.execute_reply": "2023-11-16T01:20:38.436807Z",
     "shell.execute_reply.started": "2023-11-16T01:20:38.433293Z"
    },
    "trusted": true
   },
   "outputs": [],
   "source": [
    "# print(\"Max For Model 1\")\n",
    "# print(f\"Mean Word Error Rate: {max(word_error_rates_for_model1) * 100:.2f}%\")\n",
    "# print(f\"Mean Sentence Error Rate: {max(sentence_error_rates_for_model1) * 100:.2f}%\")"
   ]
  },
  {
   "cell_type": "code",
   "execution_count": null,
   "metadata": {
    "execution": {
     "iopub.execute_input": "2023-11-16T01:08:45.285427Z",
     "iopub.status.busy": "2023-11-16T01:08:45.284741Z",
     "iopub.status.idle": "2023-11-16T01:08:45.293842Z",
     "shell.execute_reply": "2023-11-16T01:08:45.292912Z",
     "shell.execute_reply.started": "2023-11-16T01:08:45.285382Z"
    },
    "trusted": true
   },
   "outputs": [
    {
     "data": {
      "text/plain": [
       "500"
      ]
     },
     "execution_count": 112,
     "metadata": {},
     "output_type": "execute_result"
    }
   ],
   "source": [
    "len(word_error_rates_for_model1)"
   ]
  },
  {
   "cell_type": "markdown",
   "metadata": {},
   "source": [
    "### On 96-Epoch trained model"
   ]
  },
  {
   "cell_type": "code",
   "execution_count": null,
   "metadata": {
    "execution": {
     "iopub.execute_input": "2023-11-16T01:08:45.295406Z",
     "iopub.status.busy": "2023-11-16T01:08:45.294932Z",
     "iopub.status.idle": "2023-11-16T01:08:51.651582Z",
     "shell.execute_reply": "2023-11-16T01:08:51.650623Z",
     "shell.execute_reply.started": "2023-11-16T01:08:45.295373Z"
    },
    "trusted": true
   },
   "outputs": [
    {
     "name": "stderr",
     "output_type": "stream",
     "text": [
      "Downloading...\n",
      "From (original): https://drive.google.com/uc?id=1vWscXs4Vt0a_1IH1-ct2TCgXAZT-N3_Y\n",
      "From (redirected): https://drive.google.com/uc?id=1vWscXs4Vt0a_1IH1-ct2TCgXAZT-N3_Y&confirm=t&uuid=c2c60469-d3cb-409c-a3d7-219db9b2ef63\n",
      "To: c:\\Users\\KIIT\\OneDrive\\Desktop\\python\\LIP_READING\\checkpoints.zip\n",
      "100%|██████████| 94.5M/94.5M [00:35<00:00, 2.65MB/s]\n"
     ]
    },
    {
     "data": {
      "text/plain": [
       "['models\\\\checkpoint.index',\n",
       " 'models\\\\__MACOSX/._checkpoint.index',\n",
       " 'models\\\\checkpoint.data-00000-of-00001',\n",
       " 'models\\\\__MACOSX/._checkpoint.data-00000-of-00001',\n",
       " 'models\\\\checkpoint',\n",
       " 'models\\\\__MACOSX/._checkpoint']"
      ]
     },
     "execution_count": 113,
     "metadata": {},
     "output_type": "execute_result"
    }
   ],
   "source": [
    "url = 'https://drive.google.com/uc?id=1vWscXs4Vt0a_1IH1-ct2TCgXAZT-N3_Y'\n",
    "output = 'checkpoints.zip'\n",
    "gdown.download(url, output, quiet=False)\n",
    "gdown.extractall('checkpoints.zip', 'models')"
   ]
  },
  {
   "cell_type": "code",
   "execution_count": null,
   "metadata": {
    "execution": {
     "iopub.execute_input": "2023-11-16T01:08:51.652862Z",
     "iopub.status.busy": "2023-11-16T01:08:51.652610Z",
     "iopub.status.idle": "2023-11-16T01:08:51.817726Z",
     "shell.execute_reply": "2023-11-16T01:08:51.816736Z",
     "shell.execute_reply.started": "2023-11-16T01:08:51.652839Z"
    },
    "trusted": true
   },
   "outputs": [
    {
     "data": {
      "text/plain": [
       "<tensorflow.python.checkpoint.checkpoint.CheckpointLoadStatus at 0x2e4e0558b20>"
      ]
     },
     "execution_count": 114,
     "metadata": {},
     "output_type": "execute_result"
    }
   ],
   "source": [
    "model.load_weights('.\\models\\checkpoint')"
   ]
  },
  {
   "cell_type": "code",
   "execution_count": null,
   "metadata": {
    "execution": {
     "iopub.execute_input": "2023-11-16T01:08:51.819081Z",
     "iopub.status.busy": "2023-11-16T01:08:51.818827Z",
     "iopub.status.idle": "2023-11-16T01:08:51.842835Z",
     "shell.execute_reply": "2023-11-16T01:08:51.842147Z",
     "shell.execute_reply.started": "2023-11-16T01:08:51.819058Z"
    },
    "trusted": true
   },
   "outputs": [],
   "source": [
    "data = tf.data.Dataset.list_files('./data/s1/*.mpg')\n",
    "data = data.shuffle(500, reshuffle_each_iteration=False)\n",
    "data = data.map(mappable_function)\n",
    "data = data.padded_batch(2, padded_shapes=([75,None,None,None],[40]))\n",
    "data = data.prefetch(tf.data.AUTOTUNE)"
   ]
  },
  {
   "cell_type": "code",
   "execution_count": null,
   "metadata": {},
   "outputs": [],
   "source": []
  },
  {
   "cell_type": "code",
   "execution_count": null,
   "metadata": {
    "execution": {
     "iopub.execute_input": "2023-11-16T01:08:51.844038Z",
     "iopub.status.busy": "2023-11-16T01:08:51.843776Z",
     "iopub.status.idle": "2023-11-16T01:08:51.858546Z",
     "shell.execute_reply": "2023-11-16T01:08:51.857684Z",
     "shell.execute_reply.started": "2023-11-16T01:08:51.844014Z"
    },
    "trusted": true
   },
   "outputs": [],
   "source": [
    "test_data = data.as_numpy_iterator()"
   ]
  },
  {
   "cell_type": "code",
   "execution_count": null,
   "metadata": {
    "execution": {
     "iopub.execute_input": "2023-11-16T01:08:51.860386Z",
     "iopub.status.busy": "2023-11-16T01:08:51.859786Z",
     "iopub.status.idle": "2023-11-16T01:08:51.864329Z",
     "shell.execute_reply": "2023-11-16T01:08:51.863477Z",
     "shell.execute_reply.started": "2023-11-16T01:08:51.860353Z"
    },
    "trusted": true
   },
   "outputs": [],
   "source": [
    "word_error_rates_for_model2=[]\n",
    "sentence_error_rates_for_model2=[]"
   ]
  },
  {
   "cell_type": "code",
   "execution_count": null,
   "metadata": {
    "execution": {
     "iopub.execute_input": "2023-11-16T01:16:37.293245Z",
     "iopub.status.busy": "2023-11-16T01:16:37.292489Z",
     "iopub.status.idle": "2023-11-16T01:16:37.299621Z",
     "shell.execute_reply": "2023-11-16T01:16:37.298444Z",
     "shell.execute_reply.started": "2023-11-16T01:16:37.293213Z"
    },
    "trusted": true
   },
   "outputs": [],
   "source": []
  },
  {
   "cell_type": "code",
   "execution_count": null,
   "metadata": {
    "execution": {
     "iopub.execute_input": "2023-11-16T01:08:51.865774Z",
     "iopub.status.busy": "2023-11-16T01:08:51.865516Z",
     "iopub.status.idle": "2023-11-16T01:15:11.159198Z",
     "shell.execute_reply": "2023-11-16T01:15:11.158384Z",
     "shell.execute_reply.started": "2023-11-16T01:08:51.865750Z"
    },
    "trusted": true
   },
   "outputs": [
    {
     "name": "stdout",
     "output_type": "stream",
     "text": [
      "1/1 [==============================] - 2s 2s/step\n",
      "tf.Tensor(b'place red by d two please', shape=(), dtype=string)\n",
      "Real Sentence 'place red by d two please'\n",
      "tf.Tensor(b'place red by d two please', shape=(), dtype=string)\n",
      "Sentence Predicted 'place red by d two please'\n",
      "Word Error Rate: 0.00%\n",
      "Sentence Error Rate: 0.00%\n",
      "\n",
      "1/1 [==============================] - 2s 2s/step\n",
      "tf.Tensor(b'set green with d three again', shape=(), dtype=string)\n",
      "Real Sentence 'set green with d three again'\n",
      "tf.Tensor(b'set green with d three again', shape=(), dtype=string)\n",
      "Sentence Predicted 'set green with d three again'\n",
      "Word Error Rate: 0.00%\n",
      "Sentence Error Rate: 0.00%\n",
      "\n",
      "1/1 [==============================] - 2s 2s/step\n",
      "tf.Tensor(b'lay blue with e five soon', shape=(), dtype=string)\n",
      "Real Sentence 'lay blue with e five soon'\n",
      "tf.Tensor(b'lay blue with five soon', shape=(), dtype=string)\n",
      "Sentence Predicted 'lay blue with five soon'\n",
      "Word Error Rate: 16.67%\n",
      "Sentence Error Rate: 7.41%\n",
      "\n",
      "1/1 [==============================] - 2s 2s/step\n",
      "tf.Tensor(b'lay white in k eight now', shape=(), dtype=string)\n",
      "Real Sentence 'lay white in k eight now'\n",
      "tf.Tensor(b'lay white in k eight now', shape=(), dtype=string)\n",
      "Sentence Predicted 'lay white in k eight now'\n",
      "Word Error Rate: 0.00%\n",
      "Sentence Error Rate: 0.00%\n",
      "\n",
      "1/1 [==============================] - 2s 2s/step\n",
      "tf.Tensor(b'lay red at k seven soon', shape=(), dtype=string)\n",
      "Real Sentence 'lay red at k seven soon'\n",
      "tf.Tensor(b'lay red at k seven soon', shape=(), dtype=string)\n",
      "Sentence Predicted 'lay red at k seven soon'\n",
      "Word Error Rate: 0.00%\n",
      "Sentence Error Rate: 0.00%\n",
      "\n",
      "1/1 [==============================] - 2s 2s/step\n",
      "tf.Tensor(b'set green in v two please', shape=(), dtype=string)\n",
      "Real Sentence 'set green in v two please'\n",
      "tf.Tensor(b'set green in v two please', shape=(), dtype=string)\n",
      "Sentence Predicted 'set green in v two please'\n",
      "Word Error Rate: 0.00%\n",
      "Sentence Error Rate: 0.00%\n",
      "\n",
      "1/1 [==============================] - 2s 2s/step\n",
      "tf.Tensor(b'bin green with h nine soon', shape=(), dtype=string)\n",
      "Real Sentence 'bin green with h nine soon'\n",
      "tf.Tensor(b'bin green with h nine soon', shape=(), dtype=string)\n",
      "Sentence Predicted 'bin green with h nine soon'\n",
      "Word Error Rate: 0.00%\n",
      "Sentence Error Rate: 0.00%\n",
      "\n",
      "1/1 [==============================] - 2s 2s/step\n",
      "tf.Tensor(b'set green by c nine again', shape=(), dtype=string)\n",
      "Real Sentence 'set green by c nine again'\n",
      "tf.Tensor(b'set green by c nine again', shape=(), dtype=string)\n",
      "Sentence Predicted 'set green by c nine again'\n",
      "Word Error Rate: 0.00%\n",
      "Sentence Error Rate: 0.00%\n",
      "\n",
      "1/1 [==============================] - 2s 2s/step\n",
      "tf.Tensor(b'place green with l one soon', shape=(), dtype=string)\n",
      "Real Sentence 'place green with l one soon'\n",
      "tf.Tensor(b'place green with one soon', shape=(), dtype=string)\n",
      "Sentence Predicted 'place green with one soon'\n",
      "Word Error Rate: 16.67%\n",
      "Sentence Error Rate: 6.90%\n",
      "\n",
      "1/1 [==============================] - 2s 2s/step\n",
      "tf.Tensor(b'bin red by m eight please', shape=(), dtype=string)\n",
      "Real Sentence 'bin red by m eight please'\n",
      "tf.Tensor(b'bin red by m eight please', shape=(), dtype=string)\n",
      "Sentence Predicted 'bin red by m eight please'\n",
      "Word Error Rate: 0.00%\n",
      "Sentence Error Rate: 0.00%\n",
      "\n",
      "1/1 [==============================] - 2s 2s/step\n",
      "1/1 [==============================] - 2s 2s/step\n",
      "1/1 [==============================] - 2s 2s/step\n",
      "1/1 [==============================] - 2s 2s/step\n",
      "1/1 [==============================] - 2s 2s/step\n",
      "1/1 [==============================] - 2s 2s/step\n",
      "1/1 [==============================] - 2s 2s/step\n",
      "1/1 [==============================] - 2s 2s/step\n",
      "1/1 [==============================] - 1s 1s/step\n",
      "1/1 [==============================] - 1s 1s/step\n",
      "1/1 [==============================] - 1s 1s/step\n",
      "1/1 [==============================] - 1s 1s/step\n",
      "1/1 [==============================] - 1s 1s/step\n",
      "1/1 [==============================] - 1s 1s/step\n",
      "1/1 [==============================] - 1s 1s/step\n",
      "1/1 [==============================] - 1s 1s/step\n",
      "1/1 [==============================] - 1s 1s/step\n",
      "1/1 [==============================] - 1s 1s/step\n",
      "1/1 [==============================] - 1s 1s/step\n",
      "1/1 [==============================] - 1s 1s/step\n",
      "1/1 [==============================] - 1s 1s/step\n",
      "1/1 [==============================] - 1s 1s/step\n",
      "1/1 [==============================] - 1s 1s/step\n",
      "1/1 [==============================] - 1s 1s/step\n",
      "1/1 [==============================] - 1s 1s/step\n",
      "1/1 [==============================] - 1s 1s/step\n",
      "1/1 [==============================] - 1s 1s/step\n",
      "1/1 [==============================] - 1s 1s/step\n",
      "1/1 [==============================] - 1s 1s/step\n",
      "1/1 [==============================] - 1s 1s/step\n",
      "1/1 [==============================] - 1s 1s/step\n",
      "1/1 [==============================] - 1s 1s/step\n",
      "1/1 [==============================] - 1s 1s/step\n",
      "1/1 [==============================] - 1s 1s/step\n",
      "1/1 [==============================] - 1s 1s/step\n",
      "1/1 [==============================] - 1s 1s/step\n",
      "1/1 [==============================] - 1s 1s/step\n",
      "1/1 [==============================] - 1s 1s/step\n",
      "1/1 [==============================] - 1s 1s/step\n",
      "1/1 [==============================] - 1s 1s/step\n",
      "1/1 [==============================] - 1s 1s/step\n",
      "1/1 [==============================] - 1s 1s/step\n",
      "1/1 [==============================] - 1s 1s/step\n",
      "1/1 [==============================] - 1s 1s/step\n",
      "1/1 [==============================] - 1s 1s/step\n",
      "1/1 [==============================] - 1s 1s/step\n",
      "1/1 [==============================] - 1s 1s/step\n",
      "1/1 [==============================] - 1s 1s/step\n",
      "1/1 [==============================] - 1s 1s/step\n",
      "1/1 [==============================] - 1s 1s/step\n",
      "1/1 [==============================] - 1s 1s/step\n",
      "1/1 [==============================] - 1s 1s/step\n",
      "1/1 [==============================] - 2s 2s/step\n",
      "1/1 [==============================] - 1s 1s/step\n",
      "1/1 [==============================] - 1s 1s/step\n",
      "1/1 [==============================] - 2s 2s/step\n",
      "1/1 [==============================] - 5s 5s/step\n",
      "1/1 [==============================] - 1s 1s/step\n",
      "1/1 [==============================] - 1s 1s/step\n",
      "1/1 [==============================] - 1s 1s/step\n",
      "1/1 [==============================] - 1s 1s/step\n",
      "1/1 [==============================] - 1s 1s/step\n",
      "1/1 [==============================] - 1s 1s/step\n",
      "1/1 [==============================] - 1s 1s/step\n",
      "1/1 [==============================] - 1s 1s/step\n",
      "1/1 [==============================] - 1s 1s/step\n",
      "1/1 [==============================] - 1s 1s/step\n",
      "1/1 [==============================] - 1s 1s/step\n",
      "1/1 [==============================] - 1s 1s/step\n",
      "1/1 [==============================] - 1s 1s/step\n",
      "1/1 [==============================] - 1s 1s/step\n",
      "1/1 [==============================] - 1s 1s/step\n",
      "1/1 [==============================] - 1s 1s/step\n",
      "1/1 [==============================] - 1s 1s/step\n",
      "1/1 [==============================] - 1s 1s/step\n",
      "1/1 [==============================] - 1s 1s/step\n",
      "1/1 [==============================] - 1s 1s/step\n",
      "1/1 [==============================] - 1s 1s/step\n",
      "1/1 [==============================] - 1s 1s/step\n",
      "1/1 [==============================] - 1s 1s/step\n",
      "1/1 [==============================] - 1s 1s/step\n",
      "1/1 [==============================] - 1s 1s/step\n",
      "1/1 [==============================] - 1s 1s/step\n",
      "1/1 [==============================] - 1s 1s/step\n",
      "1/1 [==============================] - 1s 1s/step\n",
      "1/1 [==============================] - 1s 1s/step\n",
      "1/1 [==============================] - 1s 1s/step\n",
      "1/1 [==============================] - 1s 1s/step\n",
      "1/1 [==============================] - 1s 1s/step\n",
      "1/1 [==============================] - 1s 1s/step\n",
      "1/1 [==============================] - 1s 1s/step\n",
      "1/1 [==============================] - 1s 1s/step\n",
      "1/1 [==============================] - 3s 3s/step\n",
      "1/1 [==============================] - 4s 4s/step\n",
      "1/1 [==============================] - 1s 1s/step\n",
      "1/1 [==============================] - 1s 1s/step\n",
      "1/1 [==============================] - 1s 1s/step\n",
      "1/1 [==============================] - 1s 1s/step\n",
      "1/1 [==============================] - 1s 1s/step\n",
      "1/1 [==============================] - 1s 1s/step\n",
      "1/1 [==============================] - 1s 1s/step\n",
      "1/1 [==============================] - 1s 1s/step\n",
      "1/1 [==============================] - 1s 1s/step\n",
      "1/1 [==============================] - 1s 1s/step\n",
      "1/1 [==============================] - 1s 1s/step\n",
      "1/1 [==============================] - 1s 1s/step\n",
      "1/1 [==============================] - 1s 1s/step\n",
      "1/1 [==============================] - 1s 1s/step\n",
      "1/1 [==============================] - 1s 1s/step\n",
      "1/1 [==============================] - 1s 1s/step\n",
      "1/1 [==============================] - 1s 1s/step\n",
      "1/1 [==============================] - 1s 1s/step\n",
      "1/1 [==============================] - 1s 1s/step\n",
      "1/1 [==============================] - 1s 1s/step\n",
      "1/1 [==============================] - 1s 1s/step\n",
      "1/1 [==============================] - 1s 1s/step\n",
      "1/1 [==============================] - 1s 1s/step\n",
      "1/1 [==============================] - 1s 1s/step\n",
      "1/1 [==============================] - 1s 1s/step\n",
      "1/1 [==============================] - 1s 1s/step\n",
      "1/1 [==============================] - 3s 3s/step\n",
      "1/1 [==============================] - 4s 4s/step\n",
      "1/1 [==============================] - 1s 1s/step\n",
      "1/1 [==============================] - 1s 1s/step\n",
      "1/1 [==============================] - 1s 1s/step\n",
      "1/1 [==============================] - 1s 1s/step\n",
      "1/1 [==============================] - 1s 1s/step\n",
      "1/1 [==============================] - 1s 1s/step\n",
      "1/1 [==============================] - 1s 1s/step\n",
      "1/1 [==============================] - 1s 1s/step\n",
      "1/1 [==============================] - 1s 1s/step\n",
      "1/1 [==============================] - 1s 1s/step\n",
      "1/1 [==============================] - 1s 1s/step\n",
      "1/1 [==============================] - 1s 1s/step\n",
      "1/1 [==============================] - 1s 1s/step\n",
      "1/1 [==============================] - 1s 1s/step\n",
      "1/1 [==============================] - 1s 1s/step\n",
      "1/1 [==============================] - 1s 1s/step\n",
      "1/1 [==============================] - 1s 1s/step\n",
      "1/1 [==============================] - 1s 1s/step\n",
      "1/1 [==============================] - 1s 1s/step\n",
      "1/1 [==============================] - 1s 1s/step\n",
      "1/1 [==============================] - 1s 1s/step\n",
      "1/1 [==============================] - 1s 1s/step\n",
      "1/1 [==============================] - 1s 1s/step\n",
      "1/1 [==============================] - 1s 1s/step\n",
      "1/1 [==============================] - 1s 1s/step\n",
      "1/1 [==============================] - 2s 2s/step\n",
      "1/1 [==============================] - 5s 5s/step\n",
      "1/1 [==============================] - 1s 1s/step\n",
      "1/1 [==============================] - 1s 1s/step\n",
      "1/1 [==============================] - 1s 1s/step\n",
      "1/1 [==============================] - 1s 1s/step\n",
      "1/1 [==============================] - 1s 1s/step\n",
      "1/1 [==============================] - 1s 1s/step\n",
      "1/1 [==============================] - 1s 1s/step\n",
      "1/1 [==============================] - 1s 1s/step\n",
      "1/1 [==============================] - 1s 1s/step\n",
      "1/1 [==============================] - 1s 1s/step\n",
      "1/1 [==============================] - 1s 1s/step\n",
      "1/1 [==============================] - 1s 1s/step\n",
      "1/1 [==============================] - 1s 1s/step\n",
      "1/1 [==============================] - 1s 1s/step\n",
      "1/1 [==============================] - 1s 1s/step\n",
      "1/1 [==============================] - 1s 1s/step\n",
      "1/1 [==============================] - 1s 1s/step\n",
      "1/1 [==============================] - 1s 1s/step\n",
      "1/1 [==============================] - 1s 1s/step\n",
      "1/1 [==============================] - 2s 2s/step\n",
      "1/1 [==============================] - 5s 5s/step\n",
      "1/1 [==============================] - 1s 1s/step\n",
      "1/1 [==============================] - 1s 1s/step\n",
      "1/1 [==============================] - 1s 1s/step\n",
      "1/1 [==============================] - 1s 1s/step\n",
      "1/1 [==============================] - 1s 1s/step\n",
      "1/1 [==============================] - 1s 1s/step\n",
      "1/1 [==============================] - 1s 1s/step\n",
      "1/1 [==============================] - 1s 1s/step\n",
      "1/1 [==============================] - 1s 1s/step\n",
      "1/1 [==============================] - 1s 1s/step\n",
      "1/1 [==============================] - 1s 1s/step\n",
      "1/1 [==============================] - 1s 1s/step\n",
      "1/1 [==============================] - 1s 1s/step\n",
      "1/1 [==============================] - 1s 1s/step\n",
      "1/1 [==============================] - 1s 1s/step\n",
      "1/1 [==============================] - 1s 1s/step\n",
      "1/1 [==============================] - 1s 1s/step\n",
      "1/1 [==============================] - 1s 1s/step\n",
      "1/1 [==============================] - 1s 1s/step\n",
      "1/1 [==============================] - 1s 1s/step\n",
      "1/1 [==============================] - 1s 1s/step\n",
      "1/1 [==============================] - 3s 3s/step\n",
      "1/1 [==============================] - 5s 5s/step\n",
      "1/1 [==============================] - 1s 1s/step\n",
      "1/1 [==============================] - 1s 1s/step\n",
      "1/1 [==============================] - 1s 1s/step\n",
      "1/1 [==============================] - 1s 1s/step\n",
      "1/1 [==============================] - 1s 1s/step\n",
      "1/1 [==============================] - 1s 1s/step\n",
      "1/1 [==============================] - 1s 1s/step\n",
      "1/1 [==============================] - 1s 1s/step\n",
      "1/1 [==============================] - 1s 1s/step\n",
      "1/1 [==============================] - 1s 1s/step\n",
      "1/1 [==============================] - 1s 1s/step\n",
      "1/1 [==============================] - 1s 1s/step\n",
      "1/1 [==============================] - 1s 1s/step\n",
      "1/1 [==============================] - 1s 1s/step\n",
      "1/1 [==============================] - 1s 1s/step\n",
      "1/1 [==============================] - 1s 1s/step\n",
      "1/1 [==============================] - 1s 1s/step\n",
      "1/1 [==============================] - 1s 1s/step\n",
      "1/1 [==============================] - 1s 1s/step\n",
      "1/1 [==============================] - 4s 4s/step\n",
      "1/1 [==============================] - 3s 3s/step\n",
      "1/1 [==============================] - 1s 1s/step\n",
      "1/1 [==============================] - 1s 1s/step\n",
      "1/1 [==============================] - 1s 1s/step\n",
      "1/1 [==============================] - 1s 1s/step\n",
      "1/1 [==============================] - 1s 1s/step\n",
      "1/1 [==============================] - 1s 1s/step\n",
      "1/1 [==============================] - 1s 1s/step\n",
      "1/1 [==============================] - 1s 1s/step\n",
      "1/1 [==============================] - 1s 1s/step\n",
      "1/1 [==============================] - 1s 1s/step\n",
      "1/1 [==============================] - 1s 1s/step\n",
      "1/1 [==============================] - 1s 1s/step\n",
      "1/1 [==============================] - 1s 1s/step\n",
      "1/1 [==============================] - 1s 1s/step\n",
      "1/1 [==============================] - 1s 1s/step\n",
      "1/1 [==============================] - 2s 2s/step\n",
      "1/1 [==============================] - 6s 6s/step\n",
      "1/1 [==============================] - 1s 1s/step\n",
      "1/1 [==============================] - 1s 1s/step\n",
      "1/1 [==============================] - 1s 1s/step\n",
      "1/1 [==============================] - 1s 1s/step\n",
      "1/1 [==============================] - 1s 1s/step\n",
      "1/1 [==============================] - 1s 1s/step\n",
      "1/1 [==============================] - 1s 1s/step\n",
      "1/1 [==============================] - 1s 1s/step\n",
      "1/1 [==============================] - 1s 1s/step\n",
      "1/1 [==============================] - 1s 1s/step\n",
      "1/1 [==============================] - 1s 1s/step\n",
      "1/1 [==============================] - 1s 1s/step\n",
      "1/1 [==============================] - 1s 1s/step\n",
      "1/1 [==============================] - 1s 1s/step\n",
      "1/1 [==============================] - 1s 1s/step\n",
      "1/1 [==============================] - 1s 1s/step\n",
      "1/1 [==============================] - 1s 1s/step\n",
      "1/1 [==============================] - 6s 6s/step\n",
      "1/1 [==============================] - 1s 1s/step\n",
      "1/1 [==============================] - 1s 1s/step\n",
      "1/1 [==============================] - 1s 1s/step\n",
      "1/1 [==============================] - 1s 1s/step\n",
      "1/1 [==============================] - 1s 1s/step\n",
      "1/1 [==============================] - 1s 1s/step\n",
      "1/1 [==============================] - 1s 1s/step\n",
      "1/1 [==============================] - 1s 1s/step\n",
      "1/1 [==============================] - 1s 1s/step\n",
      "1/1 [==============================] - 1s 1s/step\n",
      "1/1 [==============================] - 1s 1s/step\n",
      "1/1 [==============================] - 1s 1s/step\n",
      "1/1 [==============================] - 1s 1s/step\n",
      "1/1 [==============================] - 6s 6s/step\n",
      "1/1 [==============================] - 1s 1s/step\n",
      "1/1 [==============================] - 1s 1s/step\n",
      "1/1 [==============================] - 1s 1s/step\n",
      "1/1 [==============================] - 1s 1s/step\n",
      "1/1 [==============================] - 1s 1s/step\n",
      "1/1 [==============================] - 1s 1s/step\n",
      "1/1 [==============================] - 1s 1s/step\n",
      "1/1 [==============================] - 1s 1s/step\n",
      "1/1 [==============================] - 1s 1s/step\n",
      "1/1 [==============================] - 1s 1s/step\n",
      "1/1 [==============================] - 1s 1s/step\n",
      "1/1 [==============================] - 1s 1s/step\n",
      "1/1 [==============================] - 1s 1s/step\n",
      "1/1 [==============================] - 1s 1s/step\n",
      "1/1 [==============================] - 1s 1s/step\n",
      "1/1 [==============================] - 1s 1s/step\n",
      "1/1 [==============================] - 1s 1s/step\n",
      "1/1 [==============================] - 1s 1s/step\n",
      "1/1 [==============================] - 1s 1s/step\n",
      "1/1 [==============================] - 1s 1s/step\n",
      "1/1 [==============================] - 1s 1s/step\n",
      "1/1 [==============================] - 1s 1s/step\n",
      "1/1 [==============================] - 1s 1s/step\n",
      "1/1 [==============================] - 6s 6s/step\n",
      "1/1 [==============================] - 1s 1s/step\n",
      "1/1 [==============================] - 1s 1s/step\n",
      "1/1 [==============================] - 1s 1s/step\n",
      "1/1 [==============================] - 1s 1s/step\n",
      "1/1 [==============================] - 1s 1s/step\n",
      "1/1 [==============================] - 1s 1s/step\n",
      "1/1 [==============================] - 1s 1s/step\n",
      "1/1 [==============================] - 1s 1s/step\n",
      "1/1 [==============================] - 1s 1s/step\n",
      "1/1 [==============================] - 1s 1s/step\n",
      "1/1 [==============================] - 1s 1s/step\n",
      "1/1 [==============================] - 1s 1s/step\n",
      "1/1 [==============================] - 1s 1s/step\n",
      "1/1 [==============================] - 1s 1s/step\n",
      "1/1 [==============================] - 1s 1s/step\n",
      "1/1 [==============================] - 1s 1s/step\n",
      "1/1 [==============================] - 1s 1s/step\n",
      "1/1 [==============================] - 1s 1s/step\n",
      "1/1 [==============================] - 1s 1s/step\n",
      "1/1 [==============================] - 1s 1s/step\n",
      "1/1 [==============================] - 1s 1s/step\n",
      "1/1 [==============================] - 1s 1s/step\n",
      "1/1 [==============================] - 1s 1s/step\n",
      "1/1 [==============================] - 2s 2s/step\n",
      "1/1 [==============================] - 4s 4s/step\n",
      "1/1 [==============================] - 1s 1s/step\n",
      "1/1 [==============================] - 1s 1s/step\n",
      "1/1 [==============================] - 1s 1s/step\n",
      "1/1 [==============================] - 1s 1s/step\n",
      "1/1 [==============================] - 1s 1s/step\n",
      "1/1 [==============================] - 1s 1s/step\n",
      "1/1 [==============================] - 1s 1s/step\n",
      "1/1 [==============================] - 1s 1s/step\n",
      "1/1 [==============================] - 1s 1s/step\n",
      "1/1 [==============================] - 1s 1s/step\n",
      "1/1 [==============================] - 1s 1s/step\n",
      "1/1 [==============================] - 1s 1s/step\n",
      "1/1 [==============================] - 1s 1s/step\n",
      "1/1 [==============================] - 1s 1s/step\n",
      "1/1 [==============================] - 1s 1s/step\n",
      "1/1 [==============================] - 2s 2s/step\n",
      "1/1 [==============================] - 4s 4s/step\n",
      "1/1 [==============================] - 1s 1s/step\n",
      "1/1 [==============================] - 1s 1s/step\n",
      "1/1 [==============================] - 1s 1s/step\n",
      "1/1 [==============================] - 1s 1s/step\n",
      "1/1 [==============================] - 1s 1s/step\n",
      "1/1 [==============================] - 1s 1s/step\n",
      "1/1 [==============================] - 1s 1s/step\n",
      "1/1 [==============================] - 1s 1s/step\n",
      "1/1 [==============================] - 1s 1s/step\n",
      "1/1 [==============================] - 1s 1s/step\n",
      "1/1 [==============================] - 1s 1s/step\n",
      "1/1 [==============================] - 1s 1s/step\n",
      "1/1 [==============================] - 1s 1s/step\n",
      "1/1 [==============================] - 1s 1s/step\n",
      "1/1 [==============================] - 1s 1s/step\n",
      "1/1 [==============================] - 1s 1s/step\n",
      "1/1 [==============================] - 1s 1s/step\n",
      "1/1 [==============================] - 1s 1s/step\n",
      "1/1 [==============================] - 1s 1s/step\n",
      "1/1 [==============================] - 1s 1s/step\n",
      "1/1 [==============================] - 3s 3s/step\n",
      "1/1 [==============================] - 4s 4s/step\n",
      "1/1 [==============================] - 1s 1s/step\n",
      "1/1 [==============================] - 1s 1s/step\n",
      "1/1 [==============================] - 1s 1s/step\n",
      "1/1 [==============================] - 1s 1s/step\n",
      "1/1 [==============================] - 1s 1s/step\n",
      "1/1 [==============================] - 1s 1s/step\n",
      "1/1 [==============================] - 1s 1s/step\n",
      "1/1 [==============================] - 1s 1s/step\n",
      "1/1 [==============================] - 1s 1s/step\n",
      "1/1 [==============================] - 1s 1s/step\n",
      "1/1 [==============================] - 1s 1s/step\n",
      "1/1 [==============================] - 1s 1s/step\n",
      "1/1 [==============================] - 1s 1s/step\n",
      "1/1 [==============================] - 1s 1s/step\n",
      "1/1 [==============================] - 1s 1s/step\n",
      "1/1 [==============================] - 1s 1s/step\n",
      "1/1 [==============================] - 4s 4s/step\n",
      "1/1 [==============================] - 1s 1s/step\n",
      "1/1 [==============================] - 1s 1s/step\n",
      "1/1 [==============================] - 1s 1s/step\n",
      "1/1 [==============================] - 1s 1s/step\n",
      "1/1 [==============================] - 1s 1s/step\n",
      "1/1 [==============================] - 1s 1s/step\n",
      "1/1 [==============================] - 1s 1s/step\n",
      "1/1 [==============================] - 1s 1s/step\n",
      "1/1 [==============================] - 1s 1s/step\n",
      "1/1 [==============================] - 1s 1s/step\n",
      "1/1 [==============================] - 1s 1s/step\n",
      "1/1 [==============================] - 1s 1s/step\n",
      "1/1 [==============================] - 1s 1s/step\n",
      "1/1 [==============================] - 1s 1s/step\n",
      "1/1 [==============================] - 1s 1s/step\n",
      "1/1 [==============================] - 1s 1s/step\n",
      "1/1 [==============================] - 1s 1s/step\n",
      "1/1 [==============================] - 1s 1s/step\n",
      "1/1 [==============================] - 1s 1s/step\n",
      "1/1 [==============================] - 1s 1s/step\n",
      "1/1 [==============================] - 1s 1s/step\n",
      "1/1 [==============================] - 1s 1s/step\n",
      "1/1 [==============================] - 1s 1s/step\n",
      "1/1 [==============================] - 5s 5s/step\n",
      "1/1 [==============================] - 1s 1s/step\n",
      "1/1 [==============================] - 1s 1s/step\n",
      "1/1 [==============================] - 1s 1s/step\n",
      "1/1 [==============================] - 1s 1s/step\n",
      "1/1 [==============================] - 1s 1s/step\n",
      "1/1 [==============================] - 1s 1s/step\n",
      "1/1 [==============================] - 1s 1s/step\n",
      "1/1 [==============================] - 1s 1s/step\n",
      "1/1 [==============================] - 1s 1s/step\n",
      "1/1 [==============================] - 1s 1s/step\n",
      "1/1 [==============================] - 1s 1s/step\n",
      "1/1 [==============================] - 1s 1s/step\n",
      "1/1 [==============================] - 1s 1s/step\n",
      "1/1 [==============================] - 1s 1s/step\n",
      "1/1 [==============================] - 1s 1s/step\n",
      "1/1 [==============================] - 1s 1s/step\n",
      "1/1 [==============================] - 1s 1s/step\n",
      "1/1 [==============================] - 1s 1s/step\n",
      "1/1 [==============================] - 1s 1s/step\n",
      "1/1 [==============================] - 1s 1s/step\n",
      "1/1 [==============================] - 1s 1s/step\n",
      "1/1 [==============================] - 4s 4s/step\n",
      "1/1 [==============================] - 1s 1s/step\n",
      "1/1 [==============================] - 1s 1s/step\n",
      "1/1 [==============================] - 1s 1s/step\n",
      "1/1 [==============================] - 1s 1s/step\n",
      "1/1 [==============================] - 1s 1s/step\n",
      "1/1 [==============================] - 1s 1s/step\n",
      "1/1 [==============================] - 1s 1s/step\n",
      "1/1 [==============================] - 1s 1s/step\n",
      "1/1 [==============================] - 1s 1s/step\n",
      "1/1 [==============================] - 1s 1s/step\n",
      "1/1 [==============================] - 1s 1s/step\n",
      "1/1 [==============================] - 1s 1s/step\n",
      "1/1 [==============================] - 1s 1s/step\n",
      "1/1 [==============================] - 1s 1s/step\n",
      "1/1 [==============================] - 1s 1s/step\n",
      "1/1 [==============================] - 1s 1s/step\n",
      "1/1 [==============================] - 1s 1s/step\n",
      "1/1 [==============================] - 1s 1s/step\n",
      "1/1 [==============================] - 1s 1s/step\n",
      "1/1 [==============================] - 1s 1s/step\n",
      "1/1 [==============================] - 1s 1s/step\n",
      "1/1 [==============================] - 1s 1s/step\n",
      "1/1 [==============================] - 1s 1s/step\n",
      "1/1 [==============================] - 1s 1s/step\n",
      "1/1 [==============================] - 1s 1s/step\n",
      "1/1 [==============================] - 1s 1s/step\n",
      "1/1 [==============================] - 2s 2s/step\n",
      "1/1 [==============================] - 4s 4s/step\n",
      "1/1 [==============================] - 1s 1s/step\n",
      "1/1 [==============================] - 1s 1s/step\n",
      "1/1 [==============================] - 1s 1s/step\n",
      "1/1 [==============================] - 1s 1s/step\n",
      "1/1 [==============================] - 1s 1s/step\n",
      "1/1 [==============================] - 1s 1s/step\n",
      "1/1 [==============================] - 1s 1s/step\n",
      "1/1 [==============================] - 1s 1s/step\n",
      "1/1 [==============================] - 1s 1s/step\n",
      "1/1 [==============================] - 1s 1s/step\n",
      "1/1 [==============================] - 1s 1s/step\n",
      "1/1 [==============================] - 1s 1s/step\n",
      "1/1 [==============================] - 1s 1s/step\n",
      "1/1 [==============================] - 1s 1s/step\n",
      "1/1 [==============================] - 1s 1s/step\n",
      "1/1 [==============================] - 1s 1s/step\n",
      "1/1 [==============================] - 1s 1s/step\n",
      "1/1 [==============================] - 1s 1s/step\n",
      "1/1 [==============================] - 1s 1s/step\n",
      "1/1 [==============================] - 1s 1s/step\n",
      "1/1 [==============================] - 1s 1s/step\n",
      "1/1 [==============================] - 1s 1s/step\n",
      "1/1 [==============================] - 1s 1s/step\n",
      "1/1 [==============================] - 1s 1s/step\n",
      "1/1 [==============================] - 1s 1s/step\n",
      "1/1 [==============================] - 5s 5s/step\n",
      "1/1 [==============================] - 1s 1s/step\n",
      "1/1 [==============================] - 1s 1s/step\n",
      "1/1 [==============================] - 1s 1s/step\n",
      "1/1 [==============================] - 1s 1s/step\n",
      "1/1 [==============================] - 1s 1s/step\n",
      "1/1 [==============================] - 1s 1s/step\n",
      "1/1 [==============================] - 1s 1s/step\n",
      "1/1 [==============================] - 1s 1s/step\n",
      "1/1 [==============================] - 1s 1s/step\n",
      "1/1 [==============================] - 1s 1s/step\n",
      "1/1 [==============================] - 1s 1s/step\n",
      "1/1 [==============================] - 1s 1s/step\n",
      "1/1 [==============================] - 1s 1s/step\n",
      "1/1 [==============================] - 1s 1s/step\n",
      "1/1 [==============================] - 1s 1s/step\n",
      "1/1 [==============================] - 1s 1s/step\n",
      "1/1 [==============================] - 1s 1s/step\n",
      "1/1 [==============================] - 1s 1s/step\n",
      "1/1 [==============================] - 1s 1s/step\n",
      "1/1 [==============================] - 1s 1s/step\n",
      "1/1 [==============================] - 1s 1s/step\n",
      "1/1 [==============================] - 1s 1s/step\n"
     ]
    }
   ],
   "source": [
    "for i in range (500):\n",
    "    sample = test_data.next()\n",
    "    \n",
    "#     print(i,val[0][0][0][0][0])\n",
    "    og = [tf.strings.reduce_join([num_to_char(word) for word in sentence]) for sentence in sample[1]]\n",
    "#     og = tf.strings.reduce_join([num_to_char(word) for word in sample[1][0]])\n",
    "\n",
    "    yhat = model.predict(sample[0])\n",
    "#     print(tf.strings.reduce_join([num_to_char(x) for x in tf.argmax(yhat[0],axis=1)]))\n",
    "#     print(tf.strings.reduce_join([num_to_char(tf.argmax(x)) for x in yhat[0]]))\n",
    "    decoded = tf.keras.backend.ctc_decode(yhat, input_length=[75,75], greedy=True)[0][0].numpy()\n",
    "    predicted = [tf.strings.reduce_join([num_to_char(word) for word in sentence]) for sentence in decoded]\n",
    "\n",
    "    \n",
    "    reference_string = str(og[1])[11:-25]\n",
    "    hypothesis_string = str(predicted[1])[11:-25]\n",
    "\n",
    "    wer = calculate_word_error_rate(reference_string, hypothesis_string)\n",
    "    ser = calculate_sentence_error_rate(reference_string, hypothesis_string)\n",
    "    \n",
    "    word_error_rates_for_model2.append(wer)\n",
    "    sentence_error_rates_for_model2.append(ser)\n",
    "    \n",
    "    if i<10: # print results for first 10 sentences\n",
    "    \n",
    "        print(og[1])\n",
    "        print(\"Real Sentence\",str(og[1])[11:-25])\n",
    "\n",
    "        print(predicted[1])\n",
    "        print(\"Sentence Predicted\",str(predicted[1])[11:-25])\n",
    "\n",
    "        print(f\"Word Error Rate: {wer * 100:.2f}%\")\n",
    "        print(f\"Sentence Error Rate: {ser * 100:.2f}%\")\n",
    "\n",
    "        print()\n",
    "    "
   ]
  },
  {
   "cell_type": "code",
   "execution_count": null,
   "metadata": {
    "execution": {
     "iopub.execute_input": "2023-11-16T01:21:08.161746Z",
     "iopub.status.busy": "2023-11-16T01:21:08.161014Z",
     "iopub.status.idle": "2023-11-16T01:21:08.167589Z",
     "shell.execute_reply": "2023-11-16T01:21:08.166625Z",
     "shell.execute_reply.started": "2023-11-16T01:21:08.161713Z"
    },
    "trusted": true
   },
   "outputs": [
    {
     "data": {
      "text/plain": [
       "500"
      ]
     },
     "execution_count": 119,
     "metadata": {},
     "output_type": "execute_result"
    }
   ],
   "source": [
    "len(word_error_rates_for_model2)"
   ]
  },
  {
   "cell_type": "code",
   "execution_count": null,
   "metadata": {
    "execution": {
     "iopub.execute_input": "2023-11-16T01:17:06.299406Z",
     "iopub.status.busy": "2023-11-16T01:17:06.298549Z",
     "iopub.status.idle": "2023-11-16T01:17:06.305063Z",
     "shell.execute_reply": "2023-11-16T01:17:06.304136Z",
     "shell.execute_reply.started": "2023-11-16T01:17:06.299374Z"
    },
    "trusted": true
   },
   "outputs": [
    {
     "name": "stdout",
     "output_type": "stream",
     "text": [
      "For Model 2\n",
      "Mean Word Error Rate: 1.86666667%\n",
      "Mean Sentence Error Rate: 0.72660723%\n"
     ]
    }
   ],
   "source": [
    "mean_wer=sum(word_error_rates_for_model2)/len(word_error_rates_for_model2)\n",
    "mean_ser=sum(sentence_error_rates_for_model2)/len(sentence_error_rates_for_model2)\n",
    "\n",
    "print(\"For Model 2\")\n",
    "print(f\"Mean Word Error Rate: {mean_wer * 100:.8f}%\")\n",
    "print(f\"Mean Sentence Error Rate: {mean_ser * 100:.8f}%\")"
   ]
  },
  {
   "cell_type": "code",
   "execution_count": null,
   "metadata": {
    "execution": {
     "iopub.execute_input": "2023-11-16T01:20:49.459506Z",
     "iopub.status.busy": "2023-11-16T01:20:49.458710Z",
     "iopub.status.idle": "2023-11-16T01:20:49.463873Z",
     "shell.execute_reply": "2023-11-16T01:20:49.462695Z",
     "shell.execute_reply.started": "2023-11-16T01:20:49.459473Z"
    },
    "trusted": true
   },
   "outputs": [],
   "source": [
    "# print(\"Max For Model 2\")\n",
    "# print(f\"Mean Word Error Rate: {max(word_error_rates_for_model2) * 100:.8f}%\")\n",
    "# print(f\"Mean Sentence Error Rate: {max(sentence_error_rates_for_model2) * 100:.8f}%\")"
   ]
  },
  {
   "cell_type": "code",
   "execution_count": null,
   "metadata": {},
   "outputs": [
    {
     "data": {
      "image/png": "[encoded data removed]",
      "text/plain": [
       "<Figure size 800x500 with 1 Axes>"
      ]
     },
     "metadata": {},
     "output_type": "display_data"
    }
   ],
   "source": [
    "import matplotlib.pyplot as plt\n",
    "import numpy as np\n",
    "\n",
    "# Data from your results\n",
    "epochs = [\"50 Epochs (Model 1)\", \"96 Epochs (Model 2)\"]\n",
    "wer_values = [14.41, 1.86666667]  # Word Error Rate (%)\n",
    "ser_values = [6.09, 0.72660723]   # Sentence Error Rate (%)\n",
    "\n",
    "# Plot\n",
    "x = np.arange(len(epochs))  # Label positions\n",
    "width = 0.35  # Bar width\n",
    "\n",
    "fig, ax = plt.subplots(figsize=(8, 5))\n",
    "rects1 = ax.bar(x - width/2, wer_values, width, label=\"Word Error Rate (WER)\")\n",
    "rects2 = ax.bar(x + width/2, ser_values, width, label=\"Sentence Error Rate (SER)\")\n",
    "\n",
    "# Labels\n",
    "ax.set_xlabel(\"Training Epochs\")\n",
    "ax.set_ylabel(\"Error Rate (%)\")\n",
    "ax.set_title(\"Comparison of WER & SER for Model 1 and Model 2\")\n",
    "ax.set_xticks(x)\n",
    "ax.set_xticklabels(epochs)\n",
    "ax.legend()\n",
    "\n",
    "# Display values on top of bars\n",
    "for rect in rects1 + rects2:\n",
    "    height = rect.get_height()\n",
    "    ax.text(rect.get_x() + rect.get_width()/2, height, f\"{height:.2f}%\", ha='center', va='bottom')\n",
    "\n",
    "plt.show()\n"
   ]
  },
  {
   "cell_type": "code",
   "execution_count": null,
   "metadata": {},
   "outputs": [],
   "source": []
  }
 ],
 "metadata": {
  "kaggle": {
   "accelerator": "gpu",
   "dataSources": [],
   "dockerImageVersionId": 30558,
   "isGpuEnabled": true,
   "isInternetEnabled": true,
   "language": "python",
   "sourceType": "notebook"
  },
  "kernelspec": {
   "display_name": "Python 3",
   "language": "python",
   "name": "python3"
  },
  "language_info": {
   "codemirror_mode": {
    "name": "ipython",
    "version": 3
   },
   "file_extension": ".py",
   "mimetype": "text/x-python",
   "name": "python",
   "nbconvert_exporter": "python",
   "pygments_lexer": "ipython3",
   "version": "3.10.0"
  }
 },
 "nbformat": 4,
 "nbformat_minor": 4
}
